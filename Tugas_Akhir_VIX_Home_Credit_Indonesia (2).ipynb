{
  "nbformat": 4,
  "nbformat_minor": 0,
  "metadata": {
    "colab": {
      "provenance": [],
      "collapsed_sections": [
        "pzDmnXki1lvi",
        "d4PUJ1WonL_g",
        "qQ6mnsV29eH4"
      ]
    },
    "kernelspec": {
      "name": "python3",
      "display_name": "Python 3"
    },
    "language_info": {
      "name": "python"
    }
  },
  "cells": [
    {
      "cell_type": "code",
      "source": [
        "pip install datasist"
      ],
      "metadata": {
        "id": "QLr9yZE9gtEn"
      },
      "execution_count": null,
      "outputs": []
    },
    {
      "cell_type": "code",
      "source": [
        "# Importing libraries and packages\n",
        "\n",
        "import pandas as pd\n",
        "import numpy as np\n",
        "import matplotlib.pyplot as plt\n",
        "import seaborn as sns\n",
        "\n",
        "from datasist.structdata import detect_outliers\n",
        "from imblearn.pipeline import Pipeline\n",
        "from imblearn.over_sampling import SMOTE\n",
        "\n",
        "from sklearn.model_selection import train_test_split, cross_validate\n",
        "from sklearn.preprocessing import StandardScaler\n",
        "from sklearn.linear_model import LogisticRegression\n",
        "from sklearn.ensemble import (\n",
        "    BaggingClassifier,\n",
        "    ExtraTreesClassifier,\n",
        "    RandomForestClassifier,\n",
        "    StackingClassifier,\n",
        "    HistGradientBoostingClassifier\n",
        ")\n",
        "from xgboost import XGBClassifier\n",
        "from sklearn import metrics "
      ],
      "metadata": {
        "id": "D8qbGgV8kYnu"
      },
      "execution_count": 4,
      "outputs": []
    },
    {
      "cell_type": "code",
      "execution_count": 11,
      "metadata": {
        "colab": {
          "base_uri": "https://localhost:8080/"
        },
        "id": "dS_EkR_gmsHy",
        "outputId": "dcf5ec2c-9764-4aee-c37e-028c8fc4619e"
      },
      "outputs": [
        {
          "output_type": "execute_result",
          "data": {
            "text/plain": [
              "(17474, 122)"
            ]
          },
          "metadata": {},
          "execution_count": 11
        }
      ],
      "source": [
        "#Input Data\n",
        "df_origin = pd.read_csv('/application_train.csv')\n",
        "df = df_origin.copy()\n",
        "df.shape"
      ]
    },
    {
      "cell_type": "markdown",
      "source": [
        "## EDA"
      ],
      "metadata": {
        "id": "pzDmnXki1lvi"
      }
    },
    {
      "cell_type": "code",
      "source": [
        "# Check statistical value\n",
        "## Numerical columns\n",
        "df.describe().T"
      ],
      "metadata": {
        "colab": {
          "base_uri": "https://localhost:8080/",
          "height": 488
        },
        "id": "dZvRg7ljtS7k",
        "outputId": "a5351bc4-44c2-49a3-e47f-cef345aff4c6"
      },
      "execution_count": 12,
      "outputs": [
        {
          "output_type": "execute_result",
          "data": {
            "text/plain": [
              "                              count           mean            std       min  \\\n",
              "SK_ID_CURR                  17474.0  110187.879993    5880.732247  100002.0   \n",
              "TARGET                      17474.0       0.078288       0.268632       0.0   \n",
              "CNT_CHILDREN                17474.0       0.420282       0.721725       0.0   \n",
              "AMT_INCOME_TOTAL            17474.0  174585.102273  889002.980556   25650.0   \n",
              "AMT_CREDIT                  17474.0  601472.550790  403978.013895   45000.0   \n",
              "...                             ...            ...            ...       ...   \n",
              "AMT_REQ_CREDIT_BUREAU_DAY   15133.0       0.008128       0.117804       0.0   \n",
              "AMT_REQ_CREDIT_BUREAU_WEEK  15133.0       0.033040       0.195691       0.0   \n",
              "AMT_REQ_CREDIT_BUREAU_MON   15133.0       0.272649       0.950988       0.0   \n",
              "AMT_REQ_CREDIT_BUREAU_QRT   15133.0       0.264389       0.614241       0.0   \n",
              "AMT_REQ_CREDIT_BUREAU_YEAR  15133.0       1.879535       1.849716       0.0   \n",
              "\n",
              "                                  25%       50%        75%          max  \n",
              "SK_ID_CURR                  105109.25  110166.5  115271.75     120375.0  \n",
              "TARGET                           0.00       0.0       0.00          1.0  \n",
              "CNT_CHILDREN                     0.00       0.0       1.00          8.0  \n",
              "AMT_INCOME_TOTAL            112500.00  146250.0  202500.00  117000000.0  \n",
              "AMT_CREDIT                  270000.00  517500.0  813195.00    4050000.0  \n",
              "...                               ...       ...        ...          ...  \n",
              "AMT_REQ_CREDIT_BUREAU_DAY        0.00       0.0       0.00          5.0  \n",
              "AMT_REQ_CREDIT_BUREAU_WEEK       0.00       0.0       0.00          5.0  \n",
              "AMT_REQ_CREDIT_BUREAU_MON        0.00       0.0       0.00         24.0  \n",
              "AMT_REQ_CREDIT_BUREAU_QRT        0.00       0.0       0.00          8.0  \n",
              "AMT_REQ_CREDIT_BUREAU_YEAR       0.00       1.0       3.00         16.0  \n",
              "\n",
              "[106 rows x 8 columns]"
            ],
            "text/html": [
              "\n",
              "  <div id=\"df-8e175982-03cd-4151-8dcb-6a0f8ad88866\">\n",
              "    <div class=\"colab-df-container\">\n",
              "      <div>\n",
              "<style scoped>\n",
              "    .dataframe tbody tr th:only-of-type {\n",
              "        vertical-align: middle;\n",
              "    }\n",
              "\n",
              "    .dataframe tbody tr th {\n",
              "        vertical-align: top;\n",
              "    }\n",
              "\n",
              "    .dataframe thead th {\n",
              "        text-align: right;\n",
              "    }\n",
              "</style>\n",
              "<table border=\"1\" class=\"dataframe\">\n",
              "  <thead>\n",
              "    <tr style=\"text-align: right;\">\n",
              "      <th></th>\n",
              "      <th>count</th>\n",
              "      <th>mean</th>\n",
              "      <th>std</th>\n",
              "      <th>min</th>\n",
              "      <th>25%</th>\n",
              "      <th>50%</th>\n",
              "      <th>75%</th>\n",
              "      <th>max</th>\n",
              "    </tr>\n",
              "  </thead>\n",
              "  <tbody>\n",
              "    <tr>\n",
              "      <th>SK_ID_CURR</th>\n",
              "      <td>17474.0</td>\n",
              "      <td>110187.879993</td>\n",
              "      <td>5880.732247</td>\n",
              "      <td>100002.0</td>\n",
              "      <td>105109.25</td>\n",
              "      <td>110166.5</td>\n",
              "      <td>115271.75</td>\n",
              "      <td>120375.0</td>\n",
              "    </tr>\n",
              "    <tr>\n",
              "      <th>TARGET</th>\n",
              "      <td>17474.0</td>\n",
              "      <td>0.078288</td>\n",
              "      <td>0.268632</td>\n",
              "      <td>0.0</td>\n",
              "      <td>0.00</td>\n",
              "      <td>0.0</td>\n",
              "      <td>0.00</td>\n",
              "      <td>1.0</td>\n",
              "    </tr>\n",
              "    <tr>\n",
              "      <th>CNT_CHILDREN</th>\n",
              "      <td>17474.0</td>\n",
              "      <td>0.420282</td>\n",
              "      <td>0.721725</td>\n",
              "      <td>0.0</td>\n",
              "      <td>0.00</td>\n",
              "      <td>0.0</td>\n",
              "      <td>1.00</td>\n",
              "      <td>8.0</td>\n",
              "    </tr>\n",
              "    <tr>\n",
              "      <th>AMT_INCOME_TOTAL</th>\n",
              "      <td>17474.0</td>\n",
              "      <td>174585.102273</td>\n",
              "      <td>889002.980556</td>\n",
              "      <td>25650.0</td>\n",
              "      <td>112500.00</td>\n",
              "      <td>146250.0</td>\n",
              "      <td>202500.00</td>\n",
              "      <td>117000000.0</td>\n",
              "    </tr>\n",
              "    <tr>\n",
              "      <th>AMT_CREDIT</th>\n",
              "      <td>17474.0</td>\n",
              "      <td>601472.550790</td>\n",
              "      <td>403978.013895</td>\n",
              "      <td>45000.0</td>\n",
              "      <td>270000.00</td>\n",
              "      <td>517500.0</td>\n",
              "      <td>813195.00</td>\n",
              "      <td>4050000.0</td>\n",
              "    </tr>\n",
              "    <tr>\n",
              "      <th>...</th>\n",
              "      <td>...</td>\n",
              "      <td>...</td>\n",
              "      <td>...</td>\n",
              "      <td>...</td>\n",
              "      <td>...</td>\n",
              "      <td>...</td>\n",
              "      <td>...</td>\n",
              "      <td>...</td>\n",
              "    </tr>\n",
              "    <tr>\n",
              "      <th>AMT_REQ_CREDIT_BUREAU_DAY</th>\n",
              "      <td>15133.0</td>\n",
              "      <td>0.008128</td>\n",
              "      <td>0.117804</td>\n",
              "      <td>0.0</td>\n",
              "      <td>0.00</td>\n",
              "      <td>0.0</td>\n",
              "      <td>0.00</td>\n",
              "      <td>5.0</td>\n",
              "    </tr>\n",
              "    <tr>\n",
              "      <th>AMT_REQ_CREDIT_BUREAU_WEEK</th>\n",
              "      <td>15133.0</td>\n",
              "      <td>0.033040</td>\n",
              "      <td>0.195691</td>\n",
              "      <td>0.0</td>\n",
              "      <td>0.00</td>\n",
              "      <td>0.0</td>\n",
              "      <td>0.00</td>\n",
              "      <td>5.0</td>\n",
              "    </tr>\n",
              "    <tr>\n",
              "      <th>AMT_REQ_CREDIT_BUREAU_MON</th>\n",
              "      <td>15133.0</td>\n",
              "      <td>0.272649</td>\n",
              "      <td>0.950988</td>\n",
              "      <td>0.0</td>\n",
              "      <td>0.00</td>\n",
              "      <td>0.0</td>\n",
              "      <td>0.00</td>\n",
              "      <td>24.0</td>\n",
              "    </tr>\n",
              "    <tr>\n",
              "      <th>AMT_REQ_CREDIT_BUREAU_QRT</th>\n",
              "      <td>15133.0</td>\n",
              "      <td>0.264389</td>\n",
              "      <td>0.614241</td>\n",
              "      <td>0.0</td>\n",
              "      <td>0.00</td>\n",
              "      <td>0.0</td>\n",
              "      <td>0.00</td>\n",
              "      <td>8.0</td>\n",
              "    </tr>\n",
              "    <tr>\n",
              "      <th>AMT_REQ_CREDIT_BUREAU_YEAR</th>\n",
              "      <td>15133.0</td>\n",
              "      <td>1.879535</td>\n",
              "      <td>1.849716</td>\n",
              "      <td>0.0</td>\n",
              "      <td>0.00</td>\n",
              "      <td>1.0</td>\n",
              "      <td>3.00</td>\n",
              "      <td>16.0</td>\n",
              "    </tr>\n",
              "  </tbody>\n",
              "</table>\n",
              "<p>106 rows × 8 columns</p>\n",
              "</div>\n",
              "      <button class=\"colab-df-convert\" onclick=\"convertToInteractive('df-8e175982-03cd-4151-8dcb-6a0f8ad88866')\"\n",
              "              title=\"Convert this dataframe to an interactive table.\"\n",
              "              style=\"display:none;\">\n",
              "        \n",
              "  <svg xmlns=\"http://www.w3.org/2000/svg\" height=\"24px\"viewBox=\"0 0 24 24\"\n",
              "       width=\"24px\">\n",
              "    <path d=\"M0 0h24v24H0V0z\" fill=\"none\"/>\n",
              "    <path d=\"M18.56 5.44l.94 2.06.94-2.06 2.06-.94-2.06-.94-.94-2.06-.94 2.06-2.06.94zm-11 1L8.5 8.5l.94-2.06 2.06-.94-2.06-.94L8.5 2.5l-.94 2.06-2.06.94zm10 10l.94 2.06.94-2.06 2.06-.94-2.06-.94-.94-2.06-.94 2.06-2.06.94z\"/><path d=\"M17.41 7.96l-1.37-1.37c-.4-.4-.92-.59-1.43-.59-.52 0-1.04.2-1.43.59L10.3 9.45l-7.72 7.72c-.78.78-.78 2.05 0 2.83L4 21.41c.39.39.9.59 1.41.59.51 0 1.02-.2 1.41-.59l7.78-7.78 2.81-2.81c.8-.78.8-2.07 0-2.86zM5.41 20L4 18.59l7.72-7.72 1.47 1.35L5.41 20z\"/>\n",
              "  </svg>\n",
              "      </button>\n",
              "      \n",
              "  <style>\n",
              "    .colab-df-container {\n",
              "      display:flex;\n",
              "      flex-wrap:wrap;\n",
              "      gap: 12px;\n",
              "    }\n",
              "\n",
              "    .colab-df-convert {\n",
              "      background-color: #E8F0FE;\n",
              "      border: none;\n",
              "      border-radius: 50%;\n",
              "      cursor: pointer;\n",
              "      display: none;\n",
              "      fill: #1967D2;\n",
              "      height: 32px;\n",
              "      padding: 0 0 0 0;\n",
              "      width: 32px;\n",
              "    }\n",
              "\n",
              "    .colab-df-convert:hover {\n",
              "      background-color: #E2EBFA;\n",
              "      box-shadow: 0px 1px 2px rgba(60, 64, 67, 0.3), 0px 1px 3px 1px rgba(60, 64, 67, 0.15);\n",
              "      fill: #174EA6;\n",
              "    }\n",
              "\n",
              "    [theme=dark] .colab-df-convert {\n",
              "      background-color: #3B4455;\n",
              "      fill: #D2E3FC;\n",
              "    }\n",
              "\n",
              "    [theme=dark] .colab-df-convert:hover {\n",
              "      background-color: #434B5C;\n",
              "      box-shadow: 0px 1px 3px 1px rgba(0, 0, 0, 0.15);\n",
              "      filter: drop-shadow(0px 1px 2px rgba(0, 0, 0, 0.3));\n",
              "      fill: #FFFFFF;\n",
              "    }\n",
              "  </style>\n",
              "\n",
              "      <script>\n",
              "        const buttonEl =\n",
              "          document.querySelector('#df-8e175982-03cd-4151-8dcb-6a0f8ad88866 button.colab-df-convert');\n",
              "        buttonEl.style.display =\n",
              "          google.colab.kernel.accessAllowed ? 'block' : 'none';\n",
              "\n",
              "        async function convertToInteractive(key) {\n",
              "          const element = document.querySelector('#df-8e175982-03cd-4151-8dcb-6a0f8ad88866');\n",
              "          const dataTable =\n",
              "            await google.colab.kernel.invokeFunction('convertToInteractive',\n",
              "                                                     [key], {});\n",
              "          if (!dataTable) return;\n",
              "\n",
              "          const docLinkHtml = 'Like what you see? Visit the ' +\n",
              "            '<a target=\"_blank\" href=https://colab.research.google.com/notebooks/data_table.ipynb>data table notebook</a>'\n",
              "            + ' to learn more about interactive tables.';\n",
              "          element.innerHTML = '';\n",
              "          dataTable['output_type'] = 'display_data';\n",
              "          await google.colab.output.renderOutput(dataTable, element);\n",
              "          const docLink = document.createElement('div');\n",
              "          docLink.innerHTML = docLinkHtml;\n",
              "          element.appendChild(docLink);\n",
              "        }\n",
              "      </script>\n",
              "    </div>\n",
              "  </div>\n",
              "  "
            ]
          },
          "metadata": {},
          "execution_count": 12
        }
      ]
    },
    {
      "cell_type": "code",
      "source": [
        "## Categorical columns\n",
        "df.describe(exclude=np.number).T"
      ],
      "metadata": {
        "colab": {
          "base_uri": "https://localhost:8080/",
          "height": 551
        },
        "id": "sjWM8YJ5tsav",
        "outputId": "4a953cca-bda7-4d25-e3b8-9b9e1c92f981"
      },
      "execution_count": 13,
      "outputs": [
        {
          "output_type": "execute_result",
          "data": {
            "text/plain": [
              "                            count unique                            top   freq\n",
              "NAME_CONTRACT_TYPE          17474      2                     Cash loans  15789\n",
              "CODE_GENDER                 17474      2                              F  11487\n",
              "FLAG_OWN_CAR                17474      2                              N  11545\n",
              "FLAG_OWN_REALTY             17474      2                              Y  12158\n",
              "NAME_TYPE_SUITE             17404      7                  Unaccompanied  14143\n",
              "NAME_INCOME_TYPE            17474      6                        Working   9113\n",
              "NAME_EDUCATION_TYPE         17474      5  Secondary / secondary special  12352\n",
              "NAME_FAMILY_STATUS          17474      5                        Married  11325\n",
              "NAME_HOUSING_TYPE           17474      6              House / apartment  15471\n",
              "OCCUPATION_TYPE             12026     18                       Laborers   3100\n",
              "WEEKDAY_APPR_PROCESS_START  17474      7                        TUESDAY   3024\n",
              "ORGANIZATION_TYPE           17474     58         Business Entity Type 3   3843\n",
              "FONDKAPREMONT_MODE           5482      4               reg oper account   4202\n",
              "HOUSETYPE_MODE               8710      3                 block of flats   8554\n",
              "WALLSMATERIAL_MODE           8566      7                          Panel   3802\n",
              "EMERGENCYSTATE_MODE          9173      2                             No   9044"
            ],
            "text/html": [
              "\n",
              "  <div id=\"df-30930398-699e-472b-b0f6-0628cc79ab0f\">\n",
              "    <div class=\"colab-df-container\">\n",
              "      <div>\n",
              "<style scoped>\n",
              "    .dataframe tbody tr th:only-of-type {\n",
              "        vertical-align: middle;\n",
              "    }\n",
              "\n",
              "    .dataframe tbody tr th {\n",
              "        vertical-align: top;\n",
              "    }\n",
              "\n",
              "    .dataframe thead th {\n",
              "        text-align: right;\n",
              "    }\n",
              "</style>\n",
              "<table border=\"1\" class=\"dataframe\">\n",
              "  <thead>\n",
              "    <tr style=\"text-align: right;\">\n",
              "      <th></th>\n",
              "      <th>count</th>\n",
              "      <th>unique</th>\n",
              "      <th>top</th>\n",
              "      <th>freq</th>\n",
              "    </tr>\n",
              "  </thead>\n",
              "  <tbody>\n",
              "    <tr>\n",
              "      <th>NAME_CONTRACT_TYPE</th>\n",
              "      <td>17474</td>\n",
              "      <td>2</td>\n",
              "      <td>Cash loans</td>\n",
              "      <td>15789</td>\n",
              "    </tr>\n",
              "    <tr>\n",
              "      <th>CODE_GENDER</th>\n",
              "      <td>17474</td>\n",
              "      <td>2</td>\n",
              "      <td>F</td>\n",
              "      <td>11487</td>\n",
              "    </tr>\n",
              "    <tr>\n",
              "      <th>FLAG_OWN_CAR</th>\n",
              "      <td>17474</td>\n",
              "      <td>2</td>\n",
              "      <td>N</td>\n",
              "      <td>11545</td>\n",
              "    </tr>\n",
              "    <tr>\n",
              "      <th>FLAG_OWN_REALTY</th>\n",
              "      <td>17474</td>\n",
              "      <td>2</td>\n",
              "      <td>Y</td>\n",
              "      <td>12158</td>\n",
              "    </tr>\n",
              "    <tr>\n",
              "      <th>NAME_TYPE_SUITE</th>\n",
              "      <td>17404</td>\n",
              "      <td>7</td>\n",
              "      <td>Unaccompanied</td>\n",
              "      <td>14143</td>\n",
              "    </tr>\n",
              "    <tr>\n",
              "      <th>NAME_INCOME_TYPE</th>\n",
              "      <td>17474</td>\n",
              "      <td>6</td>\n",
              "      <td>Working</td>\n",
              "      <td>9113</td>\n",
              "    </tr>\n",
              "    <tr>\n",
              "      <th>NAME_EDUCATION_TYPE</th>\n",
              "      <td>17474</td>\n",
              "      <td>5</td>\n",
              "      <td>Secondary / secondary special</td>\n",
              "      <td>12352</td>\n",
              "    </tr>\n",
              "    <tr>\n",
              "      <th>NAME_FAMILY_STATUS</th>\n",
              "      <td>17474</td>\n",
              "      <td>5</td>\n",
              "      <td>Married</td>\n",
              "      <td>11325</td>\n",
              "    </tr>\n",
              "    <tr>\n",
              "      <th>NAME_HOUSING_TYPE</th>\n",
              "      <td>17474</td>\n",
              "      <td>6</td>\n",
              "      <td>House / apartment</td>\n",
              "      <td>15471</td>\n",
              "    </tr>\n",
              "    <tr>\n",
              "      <th>OCCUPATION_TYPE</th>\n",
              "      <td>12026</td>\n",
              "      <td>18</td>\n",
              "      <td>Laborers</td>\n",
              "      <td>3100</td>\n",
              "    </tr>\n",
              "    <tr>\n",
              "      <th>WEEKDAY_APPR_PROCESS_START</th>\n",
              "      <td>17474</td>\n",
              "      <td>7</td>\n",
              "      <td>TUESDAY</td>\n",
              "      <td>3024</td>\n",
              "    </tr>\n",
              "    <tr>\n",
              "      <th>ORGANIZATION_TYPE</th>\n",
              "      <td>17474</td>\n",
              "      <td>58</td>\n",
              "      <td>Business Entity Type 3</td>\n",
              "      <td>3843</td>\n",
              "    </tr>\n",
              "    <tr>\n",
              "      <th>FONDKAPREMONT_MODE</th>\n",
              "      <td>5482</td>\n",
              "      <td>4</td>\n",
              "      <td>reg oper account</td>\n",
              "      <td>4202</td>\n",
              "    </tr>\n",
              "    <tr>\n",
              "      <th>HOUSETYPE_MODE</th>\n",
              "      <td>8710</td>\n",
              "      <td>3</td>\n",
              "      <td>block of flats</td>\n",
              "      <td>8554</td>\n",
              "    </tr>\n",
              "    <tr>\n",
              "      <th>WALLSMATERIAL_MODE</th>\n",
              "      <td>8566</td>\n",
              "      <td>7</td>\n",
              "      <td>Panel</td>\n",
              "      <td>3802</td>\n",
              "    </tr>\n",
              "    <tr>\n",
              "      <th>EMERGENCYSTATE_MODE</th>\n",
              "      <td>9173</td>\n",
              "      <td>2</td>\n",
              "      <td>No</td>\n",
              "      <td>9044</td>\n",
              "    </tr>\n",
              "  </tbody>\n",
              "</table>\n",
              "</div>\n",
              "      <button class=\"colab-df-convert\" onclick=\"convertToInteractive('df-30930398-699e-472b-b0f6-0628cc79ab0f')\"\n",
              "              title=\"Convert this dataframe to an interactive table.\"\n",
              "              style=\"display:none;\">\n",
              "        \n",
              "  <svg xmlns=\"http://www.w3.org/2000/svg\" height=\"24px\"viewBox=\"0 0 24 24\"\n",
              "       width=\"24px\">\n",
              "    <path d=\"M0 0h24v24H0V0z\" fill=\"none\"/>\n",
              "    <path d=\"M18.56 5.44l.94 2.06.94-2.06 2.06-.94-2.06-.94-.94-2.06-.94 2.06-2.06.94zm-11 1L8.5 8.5l.94-2.06 2.06-.94-2.06-.94L8.5 2.5l-.94 2.06-2.06.94zm10 10l.94 2.06.94-2.06 2.06-.94-2.06-.94-.94-2.06-.94 2.06-2.06.94z\"/><path d=\"M17.41 7.96l-1.37-1.37c-.4-.4-.92-.59-1.43-.59-.52 0-1.04.2-1.43.59L10.3 9.45l-7.72 7.72c-.78.78-.78 2.05 0 2.83L4 21.41c.39.39.9.59 1.41.59.51 0 1.02-.2 1.41-.59l7.78-7.78 2.81-2.81c.8-.78.8-2.07 0-2.86zM5.41 20L4 18.59l7.72-7.72 1.47 1.35L5.41 20z\"/>\n",
              "  </svg>\n",
              "      </button>\n",
              "      \n",
              "  <style>\n",
              "    .colab-df-container {\n",
              "      display:flex;\n",
              "      flex-wrap:wrap;\n",
              "      gap: 12px;\n",
              "    }\n",
              "\n",
              "    .colab-df-convert {\n",
              "      background-color: #E8F0FE;\n",
              "      border: none;\n",
              "      border-radius: 50%;\n",
              "      cursor: pointer;\n",
              "      display: none;\n",
              "      fill: #1967D2;\n",
              "      height: 32px;\n",
              "      padding: 0 0 0 0;\n",
              "      width: 32px;\n",
              "    }\n",
              "\n",
              "    .colab-df-convert:hover {\n",
              "      background-color: #E2EBFA;\n",
              "      box-shadow: 0px 1px 2px rgba(60, 64, 67, 0.3), 0px 1px 3px 1px rgba(60, 64, 67, 0.15);\n",
              "      fill: #174EA6;\n",
              "    }\n",
              "\n",
              "    [theme=dark] .colab-df-convert {\n",
              "      background-color: #3B4455;\n",
              "      fill: #D2E3FC;\n",
              "    }\n",
              "\n",
              "    [theme=dark] .colab-df-convert:hover {\n",
              "      background-color: #434B5C;\n",
              "      box-shadow: 0px 1px 3px 1px rgba(0, 0, 0, 0.15);\n",
              "      filter: drop-shadow(0px 1px 2px rgba(0, 0, 0, 0.3));\n",
              "      fill: #FFFFFF;\n",
              "    }\n",
              "  </style>\n",
              "\n",
              "      <script>\n",
              "        const buttonEl =\n",
              "          document.querySelector('#df-30930398-699e-472b-b0f6-0628cc79ab0f button.colab-df-convert');\n",
              "        buttonEl.style.display =\n",
              "          google.colab.kernel.accessAllowed ? 'block' : 'none';\n",
              "\n",
              "        async function convertToInteractive(key) {\n",
              "          const element = document.querySelector('#df-30930398-699e-472b-b0f6-0628cc79ab0f');\n",
              "          const dataTable =\n",
              "            await google.colab.kernel.invokeFunction('convertToInteractive',\n",
              "                                                     [key], {});\n",
              "          if (!dataTable) return;\n",
              "\n",
              "          const docLinkHtml = 'Like what you see? Visit the ' +\n",
              "            '<a target=\"_blank\" href=https://colab.research.google.com/notebooks/data_table.ipynb>data table notebook</a>'\n",
              "            + ' to learn more about interactive tables.';\n",
              "          element.innerHTML = '';\n",
              "          dataTable['output_type'] = 'display_data';\n",
              "          await google.colab.output.renderOutput(dataTable, element);\n",
              "          const docLink = document.createElement('div');\n",
              "          docLink.innerHTML = docLinkHtml;\n",
              "          element.appendChild(docLink);\n",
              "        }\n",
              "      </script>\n",
              "    </div>\n",
              "  </div>\n",
              "  "
            ]
          },
          "metadata": {},
          "execution_count": 13
        }
      ]
    },
    {
      "cell_type": "markdown",
      "source": [
        "## Data Cleaning"
      ],
      "metadata": {
        "id": "d4PUJ1WonL_g"
      }
    },
    {
      "cell_type": "markdown",
      "source": [
        "Identify issues\n",
        "* Non useful column (unique identifier)\n",
        "* Columns with 'object' datatypes\n",
        "* Missing data\n",
        "* Outliers\n"
      ],
      "metadata": {
        "id": "w0YrT-MRqdLk"
      }
    },
    {
      "cell_type": "markdown",
      "source": [
        "**(1) Removing unuseful column**"
      ],
      "metadata": {
        "id": "TlHTY7NyWeCA"
      }
    },
    {
      "cell_type": "code",
      "source": [
        "del df['SK_ID_CURR']"
      ],
      "metadata": {
        "id": "5p8f0GA-rP4L"
      },
      "execution_count": 14,
      "outputs": []
    },
    {
      "cell_type": "markdown",
      "source": [
        "**(2) Converting columns**"
      ],
      "metadata": {
        "id": "MIvt6bpFWl6b"
      }
    },
    {
      "cell_type": "code",
      "source": [
        "# Check columns with 'object' datatypes\n",
        "categorical_cols = list(df.select_dtypes(include='object').columns[1:])\n",
        "categorical_cols"
      ],
      "metadata": {
        "id": "wxZSGSk4h7KL",
        "colab": {
          "base_uri": "https://localhost:8080/"
        },
        "outputId": "6ac8426a-79aa-4934-a091-4ed68219288a"
      },
      "execution_count": 15,
      "outputs": [
        {
          "output_type": "execute_result",
          "data": {
            "text/plain": [
              "['CODE_GENDER',\n",
              " 'FLAG_OWN_CAR',\n",
              " 'FLAG_OWN_REALTY',\n",
              " 'NAME_TYPE_SUITE',\n",
              " 'NAME_INCOME_TYPE',\n",
              " 'NAME_EDUCATION_TYPE',\n",
              " 'NAME_FAMILY_STATUS',\n",
              " 'NAME_HOUSING_TYPE',\n",
              " 'OCCUPATION_TYPE',\n",
              " 'WEEKDAY_APPR_PROCESS_START',\n",
              " 'ORGANIZATION_TYPE',\n",
              " 'FONDKAPREMONT_MODE',\n",
              " 'HOUSETYPE_MODE',\n",
              " 'WALLSMATERIAL_MODE',\n",
              " 'EMERGENCYSTATE_MODE']"
            ]
          },
          "metadata": {},
          "execution_count": 15
        }
      ]
    },
    {
      "cell_type": "code",
      "source": [
        "# Convert columns to 'category' datatype\n",
        "for col in categorical_cols:\n",
        "  df[col] = df[col].astype('category')"
      ],
      "metadata": {
        "id": "6-ynJKFz0Hkl"
      },
      "execution_count": 16,
      "outputs": []
    },
    {
      "cell_type": "code",
      "source": [
        "df.select_dtypes(include='object').columns[1:]"
      ],
      "metadata": {
        "colab": {
          "base_uri": "https://localhost:8080/"
        },
        "id": "M9vpF465kTgX",
        "outputId": "7d266d42-83bc-477d-9943-60fa9c0195dc"
      },
      "execution_count": 17,
      "outputs": [
        {
          "output_type": "execute_result",
          "data": {
            "text/plain": [
              "Index([], dtype='object')"
            ]
          },
          "metadata": {},
          "execution_count": 17
        }
      ]
    },
    {
      "cell_type": "markdown",
      "source": [
        "**(3) Handling missing values**"
      ],
      "metadata": {
        "id": "crRW6nKiW9_2"
      }
    },
    {
      "cell_type": "code",
      "source": [
        "# Drop columns with 75% missing values (none)\n",
        "miss_col = df.columns[ df.isnull().mean() > 0.75 ]\n",
        "miss_col"
      ],
      "metadata": {
        "colab": {
          "base_uri": "https://localhost:8080/"
        },
        "id": "SrOcErV-3an_",
        "outputId": "44b96a9f-eec6-49d0-98dd-8a83066895cc"
      },
      "execution_count": 18,
      "outputs": [
        {
          "output_type": "execute_result",
          "data": {
            "text/plain": [
              "Index([], dtype='object')"
            ]
          },
          "metadata": {},
          "execution_count": 18
        }
      ]
    },
    {
      "cell_type": "code",
      "source": [
        "# Check numerical columns with missing values\n",
        "numerical_cols = list(df.select_dtypes(include='float64').columns[1:])\n",
        "is_null_cols = list(df.columns[df.isnull().sum() != 0])\n",
        "\n",
        "null_num = [x for x in is_null_cols if x in numerical_cols]\n",
        "null_cat = [x for x in is_null_cols if x in categorical_cols]\n",
        "\n",
        "print(len(null_num))\n",
        "print(len(null_cat))"
      ],
      "metadata": {
        "colab": {
          "base_uri": "https://localhost:8080/"
        },
        "id": "Wm6Xk5OjsQ0g",
        "outputId": "c65ee02a-1263-4a65-fdb3-53ef2c51a538"
      },
      "execution_count": 21,
      "outputs": [
        {
          "output_type": "stream",
          "name": "stdout",
          "text": [
            "79\n",
            "6\n"
          ]
        }
      ]
    },
    {
      "cell_type": "markdown",
      "source": [
        "Missing values will be imputed with mean for 79 numerical columns and with mode for 6 categorical columns."
      ],
      "metadata": {
        "id": "3hWwpZ1YX4oi"
      }
    },
    {
      "cell_type": "code",
      "source": [
        "c1 = df.select_dtypes(np.number).columns\n",
        "df[c1] = df[c1].fillna(df[c1].mean())\n",
        "c2 = df.select_dtypes(exclude=np.number).columns\n",
        "df[c2] = df[c2].fillna(df[c2].mode())"
      ],
      "metadata": {
        "id": "XJZclED3wBUQ"
      },
      "execution_count": 32,
      "outputs": []
    },
    {
      "cell_type": "code",
      "source": [
        "df.columns[df.isnull().sum() != 0]"
      ],
      "metadata": {
        "colab": {
          "base_uri": "https://localhost:8080/"
        },
        "id": "OwfvOP5HwDxi",
        "outputId": "6a53541e-4cf3-4199-e17e-d5b932423560"
      },
      "execution_count": 33,
      "outputs": [
        {
          "output_type": "execute_result",
          "data": {
            "text/plain": [
              "Index(['NAME_TYPE_SUITE', 'OCCUPATION_TYPE', 'FONDKAPREMONT_MODE',\n",
              "       'HOUSETYPE_MODE', 'WALLSMATERIAL_MODE', 'EMERGENCYSTATE_MODE'],\n",
              "      dtype='object')"
            ]
          },
          "metadata": {},
          "execution_count": 33
        }
      ]
    },
    {
      "cell_type": "markdown",
      "source": [
        "**(4) Handling outliers**"
      ],
      "metadata": {
        "id": "hU_NVtKKXZmb"
      }
    },
    {
      "cell_type": "markdown",
      "source": [
        "Outliers will be replaced by median of each feature."
      ],
      "metadata": {
        "id": "AOn8UaPPYeUL"
      }
    },
    {
      "cell_type": "code",
      "source": [
        "for col in num_cols :\n",
        "    outliers_indecies = detect_outliers(df,0,[col])\n",
        "    median = df[col].median()\n",
        "    df[col].iloc[outliers_indecies] = median"
      ],
      "metadata": {
        "id": "V0R8ulEJ49rv"
      },
      "execution_count": null,
      "outputs": []
    },
    {
      "cell_type": "markdown",
      "source": [
        "## Data Processing"
      ],
      "metadata": {
        "id": "Y7ePI_Mddfic"
      }
    },
    {
      "cell_type": "markdown",
      "source": [
        "Identify issues\n",
        "* Categorical columns that have to be encoded\n",
        "* Feature selection\n",
        "* Feature scaling\n",
        "* Imbalanced target column"
      ],
      "metadata": {
        "id": "XSjvgC45WP2F"
      }
    },
    {
      "cell_type": "markdown",
      "source": [
        "**(1) Encoding categorical columns**"
      ],
      "metadata": {
        "id": "zNj77MmPZumz"
      }
    },
    {
      "cell_type": "code",
      "source": [
        "df_encoded = pd.get_dummies(df, drop_first = True)\n",
        "df_encoded.shape"
      ],
      "metadata": {
        "colab": {
          "base_uri": "https://localhost:8080/"
        },
        "id": "1pxtjyq15-uf",
        "outputId": "1b7a2087-12fe-4f3c-ec3b-33af80bfc266"
      },
      "execution_count": 35,
      "outputs": [
        {
          "output_type": "execute_result",
          "data": {
            "text/plain": [
              "(17474, 225)"
            ]
          },
          "metadata": {},
          "execution_count": 35
        }
      ]
    },
    {
      "cell_type": "markdown",
      "source": [
        "**(2) Performing feature selection**"
      ],
      "metadata": {
        "id": "fjl26GxqZ4Ev"
      }
    },
    {
      "cell_type": "code",
      "source": [
        "# Using Pearson Correlation\n",
        "plt.figure(figsize=(12,10))\n",
        "cor = df_encoded.corr()\n",
        "cor"
      ],
      "metadata": {
        "colab": {
          "base_uri": "https://localhost:8080/",
          "height": 540
        },
        "id": "NOrCY6__ffOJ",
        "outputId": "b7d49fee-4299-4863-f5d8-e53b3e26be48"
      },
      "execution_count": 36,
      "outputs": [
        {
          "output_type": "execute_result",
          "data": {
            "text/plain": [
              "                                   TARGET  CNT_CHILDREN  AMT_INCOME_TOTAL  \\\n",
              "TARGET                           1.000000      0.034258          0.023713   \n",
              "CNT_CHILDREN                     0.034258      1.000000          0.009115   \n",
              "AMT_INCOME_TOTAL                 0.023713      0.009115          1.000000   \n",
              "AMT_CREDIT                      -0.025355      0.005647          0.033951   \n",
              "AMT_ANNUITY                      0.013022      0.031412          0.041603   \n",
              "...                                   ...           ...               ...   \n",
              "WALLSMATERIAL_MODE_Others        0.002840      0.005732          0.001260   \n",
              "WALLSMATERIAL_MODE_Panel        -0.030800     -0.029195          0.007643   \n",
              "WALLSMATERIAL_MODE_Stone, brick -0.016005     -0.020107          0.017163   \n",
              "WALLSMATERIAL_MODE_Wooden        0.013224      0.013833         -0.001713   \n",
              "EMERGENCYSTATE_MODE_Yes          0.002242      0.011842         -0.002132   \n",
              "\n",
              "                                 AMT_CREDIT  AMT_ANNUITY  AMT_GOODS_PRICE  \\\n",
              "TARGET                            -0.025355     0.013022        -0.027388   \n",
              "CNT_CHILDREN                       0.005647     0.031412         0.001926   \n",
              "AMT_INCOME_TOTAL                   0.033951     0.041603         0.031890   \n",
              "AMT_CREDIT                         1.000000     0.734697         0.929666   \n",
              "AMT_ANNUITY                        0.734697     1.000000         0.710400   \n",
              "...                                     ...          ...              ...   \n",
              "WALLSMATERIAL_MODE_Others          0.010405     0.020006         0.010691   \n",
              "WALLSMATERIAL_MODE_Panel           0.042084     0.053527         0.039180   \n",
              "WALLSMATERIAL_MODE_Stone, brick    0.016694     0.001269         0.014713   \n",
              "WALLSMATERIAL_MODE_Wooden         -0.010050    -0.007515        -0.011651   \n",
              "EMERGENCYSTATE_MODE_Yes           -0.012125    -0.008963        -0.008896   \n",
              "\n",
              "                                 REGION_POPULATION_RELATIVE  DAYS_BIRTH  \\\n",
              "TARGET                                            -0.027958    0.087875   \n",
              "CNT_CHILDREN                                      -0.011815    0.334859   \n",
              "AMT_INCOME_TOTAL                                   0.002079    0.012408   \n",
              "AMT_CREDIT                                         0.048976   -0.074243   \n",
              "AMT_ANNUITY                                        0.060767    0.002913   \n",
              "...                                                     ...         ...   \n",
              "WALLSMATERIAL_MODE_Others                          0.012738   -0.005788   \n",
              "WALLSMATERIAL_MODE_Panel                           0.017300   -0.013697   \n",
              "WALLSMATERIAL_MODE_Stone, brick                    0.025647   -0.019691   \n",
              "WALLSMATERIAL_MODE_Wooden                         -0.052448    0.001352   \n",
              "EMERGENCYSTATE_MODE_Yes                           -0.021955    0.000377   \n",
              "\n",
              "                                 DAYS_EMPLOYED  DAYS_REGISTRATION  ...  \\\n",
              "TARGET                               -0.043355           0.047561  ...   \n",
              "CNT_CHILDREN                         -0.241087           0.181346  ...   \n",
              "AMT_INCOME_TOTAL                     -0.019761           0.002089  ...   \n",
              "AMT_CREDIT                           -0.059786          -0.010873  ...   \n",
              "AMT_ANNUITY                          -0.113955           0.020936  ...   \n",
              "...                                        ...                ...  ...   \n",
              "WALLSMATERIAL_MODE_Others            -0.002400          -0.008873  ...   \n",
              "WALLSMATERIAL_MODE_Panel             -0.011485          -0.067392  ...   \n",
              "WALLSMATERIAL_MODE_Stone, brick       0.006278          -0.019519  ...   \n",
              "WALLSMATERIAL_MODE_Wooden            -0.004064          -0.009154  ...   \n",
              "EMERGENCYSTATE_MODE_Yes              -0.010431          -0.007644  ...   \n",
              "\n",
              "                                 FONDKAPREMONT_MODE_reg oper spec account  \\\n",
              "TARGET                                                          -0.006502   \n",
              "CNT_CHILDREN                                                    -0.004663   \n",
              "AMT_INCOME_TOTAL                                                 0.000790   \n",
              "AMT_CREDIT                                                       0.007203   \n",
              "AMT_ANNUITY                                                      0.010272   \n",
              "...                                                                   ...   \n",
              "WALLSMATERIAL_MODE_Others                                        0.010847   \n",
              "WALLSMATERIAL_MODE_Panel                                         0.118391   \n",
              "WALLSMATERIAL_MODE_Stone, brick                                  0.109640   \n",
              "WALLSMATERIAL_MODE_Wooden                                        0.002009   \n",
              "EMERGENCYSTATE_MODE_Yes                                         -0.003106   \n",
              "\n",
              "                                 HOUSETYPE_MODE_specific housing  \\\n",
              "TARGET                                                  0.017456   \n",
              "CNT_CHILDREN                                           -0.008213   \n",
              "AMT_INCOME_TOTAL                                       -0.000710   \n",
              "AMT_CREDIT                                              0.001543   \n",
              "AMT_ANNUITY                                             0.002842   \n",
              "...                                                          ...   \n",
              "WALLSMATERIAL_MODE_Others                              -0.004660   \n",
              "WALLSMATERIAL_MODE_Panel                               -0.016952   \n",
              "WALLSMATERIAL_MODE_Stone, brick                         0.094359   \n",
              "WALLSMATERIAL_MODE_Wooden                               0.005324   \n",
              "EMERGENCYSTATE_MODE_Yes                                 0.004779   \n",
              "\n",
              "                                 HOUSETYPE_MODE_terraced house  \\\n",
              "TARGET                                               -0.004641   \n",
              "CNT_CHILDREN                                          0.009361   \n",
              "AMT_INCOME_TOTAL                                      0.000716   \n",
              "AMT_CREDIT                                            0.015026   \n",
              "AMT_ANNUITY                                           0.006222   \n",
              "...                                                        ...   \n",
              "WALLSMATERIAL_MODE_Others                             0.099679   \n",
              "WALLSMATERIAL_MODE_Panel                             -0.018275   \n",
              "WALLSMATERIAL_MODE_Stone, brick                       0.012209   \n",
              "WALLSMATERIAL_MODE_Wooden                             0.152750   \n",
              "EMERGENCYSTATE_MODE_Yes                               0.052381   \n",
              "\n",
              "                                 WALLSMATERIAL_MODE_Mixed  \\\n",
              "TARGET                                          -0.008757   \n",
              "CNT_CHILDREN                                     0.011106   \n",
              "AMT_INCOME_TOTAL                                 0.000345   \n",
              "AMT_CREDIT                                       0.006322   \n",
              "AMT_ANNUITY                                      0.002920   \n",
              "...                                                   ...   \n",
              "WALLSMATERIAL_MODE_Others                       -0.005983   \n",
              "WALLSMATERIAL_MODE_Panel                        -0.043851   \n",
              "WALLSMATERIAL_MODE_Stone, brick                 -0.042314   \n",
              "WALLSMATERIAL_MODE_Wooden                       -0.010878   \n",
              "EMERGENCYSTATE_MODE_Yes                          0.033304   \n",
              "\n",
              "                                 WALLSMATERIAL_MODE_Monolithic  \\\n",
              "TARGET                                               -0.013484   \n",
              "CNT_CHILDREN                                         -0.002755   \n",
              "AMT_INCOME_TOTAL                                      0.006122   \n",
              "AMT_CREDIT                                            0.031854   \n",
              "AMT_ANNUITY                                           0.036183   \n",
              "...                                                        ...   \n",
              "WALLSMATERIAL_MODE_Others                            -0.005431   \n",
              "WALLSMATERIAL_MODE_Panel                             -0.039806   \n",
              "WALLSMATERIAL_MODE_Stone, brick                      -0.038410   \n",
              "WALLSMATERIAL_MODE_Wooden                            -0.009875   \n",
              "EMERGENCYSTATE_MODE_Yes                              -0.006510   \n",
              "\n",
              "                                 WALLSMATERIAL_MODE_Others  \\\n",
              "TARGET                                            0.002840   \n",
              "CNT_CHILDREN                                      0.005732   \n",
              "AMT_INCOME_TOTAL                                  0.001260   \n",
              "AMT_CREDIT                                        0.010405   \n",
              "AMT_ANNUITY                                       0.020006   \n",
              "...                                                    ...   \n",
              "WALLSMATERIAL_MODE_Others                         1.000000   \n",
              "WALLSMATERIAL_MODE_Panel                         -0.037943   \n",
              "WALLSMATERIAL_MODE_Stone, brick                  -0.036613   \n",
              "WALLSMATERIAL_MODE_Wooden                        -0.009413   \n",
              "EMERGENCYSTATE_MODE_Yes                           0.021813   \n",
              "\n",
              "                                 WALLSMATERIAL_MODE_Panel  \\\n",
              "TARGET                                          -0.030800   \n",
              "CNT_CHILDREN                                    -0.029195   \n",
              "AMT_INCOME_TOTAL                                 0.007643   \n",
              "AMT_CREDIT                                       0.042084   \n",
              "AMT_ANNUITY                                      0.053527   \n",
              "...                                                   ...   \n",
              "WALLSMATERIAL_MODE_Others                       -0.037943   \n",
              "WALLSMATERIAL_MODE_Panel                         1.000000   \n",
              "WALLSMATERIAL_MODE_Stone, brick                 -0.268339   \n",
              "WALLSMATERIAL_MODE_Wooden                       -0.068985   \n",
              "EMERGENCYSTATE_MODE_Yes                         -0.038997   \n",
              "\n",
              "                                 WALLSMATERIAL_MODE_Stone, brick  \\\n",
              "TARGET                                                 -0.016005   \n",
              "CNT_CHILDREN                                           -0.020107   \n",
              "AMT_INCOME_TOTAL                                        0.017163   \n",
              "AMT_CREDIT                                              0.016694   \n",
              "AMT_ANNUITY                                             0.001269   \n",
              "...                                                          ...   \n",
              "WALLSMATERIAL_MODE_Others                              -0.036613   \n",
              "WALLSMATERIAL_MODE_Panel                               -0.268339   \n",
              "WALLSMATERIAL_MODE_Stone, brick                         1.000000   \n",
              "WALLSMATERIAL_MODE_Wooden                              -0.066567   \n",
              "EMERGENCYSTATE_MODE_Yes                                -0.014112   \n",
              "\n",
              "                                 WALLSMATERIAL_MODE_Wooden  \\\n",
              "TARGET                                            0.013224   \n",
              "CNT_CHILDREN                                      0.013833   \n",
              "AMT_INCOME_TOTAL                                 -0.001713   \n",
              "AMT_CREDIT                                       -0.010050   \n",
              "AMT_ANNUITY                                      -0.007515   \n",
              "...                                                    ...   \n",
              "WALLSMATERIAL_MODE_Others                        -0.009413   \n",
              "WALLSMATERIAL_MODE_Panel                         -0.068985   \n",
              "WALLSMATERIAL_MODE_Stone, brick                  -0.066567   \n",
              "WALLSMATERIAL_MODE_Wooden                         1.000000   \n",
              "EMERGENCYSTATE_MODE_Yes                           0.284997   \n",
              "\n",
              "                                 EMERGENCYSTATE_MODE_Yes  \n",
              "TARGET                                          0.002242  \n",
              "CNT_CHILDREN                                    0.011842  \n",
              "AMT_INCOME_TOTAL                               -0.002132  \n",
              "AMT_CREDIT                                     -0.012125  \n",
              "AMT_ANNUITY                                    -0.008963  \n",
              "...                                                  ...  \n",
              "WALLSMATERIAL_MODE_Others                       0.021813  \n",
              "WALLSMATERIAL_MODE_Panel                       -0.038997  \n",
              "WALLSMATERIAL_MODE_Stone, brick                -0.014112  \n",
              "WALLSMATERIAL_MODE_Wooden                       0.284997  \n",
              "EMERGENCYSTATE_MODE_Yes                         1.000000  \n",
              "\n",
              "[225 rows x 225 columns]"
            ],
            "text/html": [
              "\n",
              "  <div id=\"df-fb982989-0d63-4fa5-ab58-ba7fcc05dadc\">\n",
              "    <div class=\"colab-df-container\">\n",
              "      <div>\n",
              "<style scoped>\n",
              "    .dataframe tbody tr th:only-of-type {\n",
              "        vertical-align: middle;\n",
              "    }\n",
              "\n",
              "    .dataframe tbody tr th {\n",
              "        vertical-align: top;\n",
              "    }\n",
              "\n",
              "    .dataframe thead th {\n",
              "        text-align: right;\n",
              "    }\n",
              "</style>\n",
              "<table border=\"1\" class=\"dataframe\">\n",
              "  <thead>\n",
              "    <tr style=\"text-align: right;\">\n",
              "      <th></th>\n",
              "      <th>TARGET</th>\n",
              "      <th>CNT_CHILDREN</th>\n",
              "      <th>AMT_INCOME_TOTAL</th>\n",
              "      <th>AMT_CREDIT</th>\n",
              "      <th>AMT_ANNUITY</th>\n",
              "      <th>AMT_GOODS_PRICE</th>\n",
              "      <th>REGION_POPULATION_RELATIVE</th>\n",
              "      <th>DAYS_BIRTH</th>\n",
              "      <th>DAYS_EMPLOYED</th>\n",
              "      <th>DAYS_REGISTRATION</th>\n",
              "      <th>...</th>\n",
              "      <th>FONDKAPREMONT_MODE_reg oper spec account</th>\n",
              "      <th>HOUSETYPE_MODE_specific housing</th>\n",
              "      <th>HOUSETYPE_MODE_terraced house</th>\n",
              "      <th>WALLSMATERIAL_MODE_Mixed</th>\n",
              "      <th>WALLSMATERIAL_MODE_Monolithic</th>\n",
              "      <th>WALLSMATERIAL_MODE_Others</th>\n",
              "      <th>WALLSMATERIAL_MODE_Panel</th>\n",
              "      <th>WALLSMATERIAL_MODE_Stone, brick</th>\n",
              "      <th>WALLSMATERIAL_MODE_Wooden</th>\n",
              "      <th>EMERGENCYSTATE_MODE_Yes</th>\n",
              "    </tr>\n",
              "  </thead>\n",
              "  <tbody>\n",
              "    <tr>\n",
              "      <th>TARGET</th>\n",
              "      <td>1.000000</td>\n",
              "      <td>0.034258</td>\n",
              "      <td>0.023713</td>\n",
              "      <td>-0.025355</td>\n",
              "      <td>0.013022</td>\n",
              "      <td>-0.027388</td>\n",
              "      <td>-0.027958</td>\n",
              "      <td>0.087875</td>\n",
              "      <td>-0.043355</td>\n",
              "      <td>0.047561</td>\n",
              "      <td>...</td>\n",
              "      <td>-0.006502</td>\n",
              "      <td>0.017456</td>\n",
              "      <td>-0.004641</td>\n",
              "      <td>-0.008757</td>\n",
              "      <td>-0.013484</td>\n",
              "      <td>0.002840</td>\n",
              "      <td>-0.030800</td>\n",
              "      <td>-0.016005</td>\n",
              "      <td>0.013224</td>\n",
              "      <td>0.002242</td>\n",
              "    </tr>\n",
              "    <tr>\n",
              "      <th>CNT_CHILDREN</th>\n",
              "      <td>0.034258</td>\n",
              "      <td>1.000000</td>\n",
              "      <td>0.009115</td>\n",
              "      <td>0.005647</td>\n",
              "      <td>0.031412</td>\n",
              "      <td>0.001926</td>\n",
              "      <td>-0.011815</td>\n",
              "      <td>0.334859</td>\n",
              "      <td>-0.241087</td>\n",
              "      <td>0.181346</td>\n",
              "      <td>...</td>\n",
              "      <td>-0.004663</td>\n",
              "      <td>-0.008213</td>\n",
              "      <td>0.009361</td>\n",
              "      <td>0.011106</td>\n",
              "      <td>-0.002755</td>\n",
              "      <td>0.005732</td>\n",
              "      <td>-0.029195</td>\n",
              "      <td>-0.020107</td>\n",
              "      <td>0.013833</td>\n",
              "      <td>0.011842</td>\n",
              "    </tr>\n",
              "    <tr>\n",
              "      <th>AMT_INCOME_TOTAL</th>\n",
              "      <td>0.023713</td>\n",
              "      <td>0.009115</td>\n",
              "      <td>1.000000</td>\n",
              "      <td>0.033951</td>\n",
              "      <td>0.041603</td>\n",
              "      <td>0.031890</td>\n",
              "      <td>0.002079</td>\n",
              "      <td>0.012408</td>\n",
              "      <td>-0.019761</td>\n",
              "      <td>0.002089</td>\n",
              "      <td>...</td>\n",
              "      <td>0.000790</td>\n",
              "      <td>-0.000710</td>\n",
              "      <td>0.000716</td>\n",
              "      <td>0.000345</td>\n",
              "      <td>0.006122</td>\n",
              "      <td>0.001260</td>\n",
              "      <td>0.007643</td>\n",
              "      <td>0.017163</td>\n",
              "      <td>-0.001713</td>\n",
              "      <td>-0.002132</td>\n",
              "    </tr>\n",
              "    <tr>\n",
              "      <th>AMT_CREDIT</th>\n",
              "      <td>-0.025355</td>\n",
              "      <td>0.005647</td>\n",
              "      <td>0.033951</td>\n",
              "      <td>1.000000</td>\n",
              "      <td>0.734697</td>\n",
              "      <td>0.929666</td>\n",
              "      <td>0.048976</td>\n",
              "      <td>-0.074243</td>\n",
              "      <td>-0.059786</td>\n",
              "      <td>-0.010873</td>\n",
              "      <td>...</td>\n",
              "      <td>0.007203</td>\n",
              "      <td>0.001543</td>\n",
              "      <td>0.015026</td>\n",
              "      <td>0.006322</td>\n",
              "      <td>0.031854</td>\n",
              "      <td>0.010405</td>\n",
              "      <td>0.042084</td>\n",
              "      <td>0.016694</td>\n",
              "      <td>-0.010050</td>\n",
              "      <td>-0.012125</td>\n",
              "    </tr>\n",
              "    <tr>\n",
              "      <th>AMT_ANNUITY</th>\n",
              "      <td>0.013022</td>\n",
              "      <td>0.031412</td>\n",
              "      <td>0.041603</td>\n",
              "      <td>0.734697</td>\n",
              "      <td>1.000000</td>\n",
              "      <td>0.710400</td>\n",
              "      <td>0.060767</td>\n",
              "      <td>0.002913</td>\n",
              "      <td>-0.113955</td>\n",
              "      <td>0.020936</td>\n",
              "      <td>...</td>\n",
              "      <td>0.010272</td>\n",
              "      <td>0.002842</td>\n",
              "      <td>0.006222</td>\n",
              "      <td>0.002920</td>\n",
              "      <td>0.036183</td>\n",
              "      <td>0.020006</td>\n",
              "      <td>0.053527</td>\n",
              "      <td>0.001269</td>\n",
              "      <td>-0.007515</td>\n",
              "      <td>-0.008963</td>\n",
              "    </tr>\n",
              "    <tr>\n",
              "      <th>...</th>\n",
              "      <td>...</td>\n",
              "      <td>...</td>\n",
              "      <td>...</td>\n",
              "      <td>...</td>\n",
              "      <td>...</td>\n",
              "      <td>...</td>\n",
              "      <td>...</td>\n",
              "      <td>...</td>\n",
              "      <td>...</td>\n",
              "      <td>...</td>\n",
              "      <td>...</td>\n",
              "      <td>...</td>\n",
              "      <td>...</td>\n",
              "      <td>...</td>\n",
              "      <td>...</td>\n",
              "      <td>...</td>\n",
              "      <td>...</td>\n",
              "      <td>...</td>\n",
              "      <td>...</td>\n",
              "      <td>...</td>\n",
              "      <td>...</td>\n",
              "    </tr>\n",
              "    <tr>\n",
              "      <th>WALLSMATERIAL_MODE_Others</th>\n",
              "      <td>0.002840</td>\n",
              "      <td>0.005732</td>\n",
              "      <td>0.001260</td>\n",
              "      <td>0.010405</td>\n",
              "      <td>0.020006</td>\n",
              "      <td>0.010691</td>\n",
              "      <td>0.012738</td>\n",
              "      <td>-0.005788</td>\n",
              "      <td>-0.002400</td>\n",
              "      <td>-0.008873</td>\n",
              "      <td>...</td>\n",
              "      <td>0.010847</td>\n",
              "      <td>-0.004660</td>\n",
              "      <td>0.099679</td>\n",
              "      <td>-0.005983</td>\n",
              "      <td>-0.005431</td>\n",
              "      <td>1.000000</td>\n",
              "      <td>-0.037943</td>\n",
              "      <td>-0.036613</td>\n",
              "      <td>-0.009413</td>\n",
              "      <td>0.021813</td>\n",
              "    </tr>\n",
              "    <tr>\n",
              "      <th>WALLSMATERIAL_MODE_Panel</th>\n",
              "      <td>-0.030800</td>\n",
              "      <td>-0.029195</td>\n",
              "      <td>0.007643</td>\n",
              "      <td>0.042084</td>\n",
              "      <td>0.053527</td>\n",
              "      <td>0.039180</td>\n",
              "      <td>0.017300</td>\n",
              "      <td>-0.013697</td>\n",
              "      <td>-0.011485</td>\n",
              "      <td>-0.067392</td>\n",
              "      <td>...</td>\n",
              "      <td>0.118391</td>\n",
              "      <td>-0.016952</td>\n",
              "      <td>-0.018275</td>\n",
              "      <td>-0.043851</td>\n",
              "      <td>-0.039806</td>\n",
              "      <td>-0.037943</td>\n",
              "      <td>1.000000</td>\n",
              "      <td>-0.268339</td>\n",
              "      <td>-0.068985</td>\n",
              "      <td>-0.038997</td>\n",
              "    </tr>\n",
              "    <tr>\n",
              "      <th>WALLSMATERIAL_MODE_Stone, brick</th>\n",
              "      <td>-0.016005</td>\n",
              "      <td>-0.020107</td>\n",
              "      <td>0.017163</td>\n",
              "      <td>0.016694</td>\n",
              "      <td>0.001269</td>\n",
              "      <td>0.014713</td>\n",
              "      <td>0.025647</td>\n",
              "      <td>-0.019691</td>\n",
              "      <td>0.006278</td>\n",
              "      <td>-0.019519</td>\n",
              "      <td>...</td>\n",
              "      <td>0.109640</td>\n",
              "      <td>0.094359</td>\n",
              "      <td>0.012209</td>\n",
              "      <td>-0.042314</td>\n",
              "      <td>-0.038410</td>\n",
              "      <td>-0.036613</td>\n",
              "      <td>-0.268339</td>\n",
              "      <td>1.000000</td>\n",
              "      <td>-0.066567</td>\n",
              "      <td>-0.014112</td>\n",
              "    </tr>\n",
              "    <tr>\n",
              "      <th>WALLSMATERIAL_MODE_Wooden</th>\n",
              "      <td>0.013224</td>\n",
              "      <td>0.013833</td>\n",
              "      <td>-0.001713</td>\n",
              "      <td>-0.010050</td>\n",
              "      <td>-0.007515</td>\n",
              "      <td>-0.011651</td>\n",
              "      <td>-0.052448</td>\n",
              "      <td>0.001352</td>\n",
              "      <td>-0.004064</td>\n",
              "      <td>-0.009154</td>\n",
              "      <td>...</td>\n",
              "      <td>0.002009</td>\n",
              "      <td>0.005324</td>\n",
              "      <td>0.152750</td>\n",
              "      <td>-0.010878</td>\n",
              "      <td>-0.009875</td>\n",
              "      <td>-0.009413</td>\n",
              "      <td>-0.068985</td>\n",
              "      <td>-0.066567</td>\n",
              "      <td>1.000000</td>\n",
              "      <td>0.284997</td>\n",
              "    </tr>\n",
              "    <tr>\n",
              "      <th>EMERGENCYSTATE_MODE_Yes</th>\n",
              "      <td>0.002242</td>\n",
              "      <td>0.011842</td>\n",
              "      <td>-0.002132</td>\n",
              "      <td>-0.012125</td>\n",
              "      <td>-0.008963</td>\n",
              "      <td>-0.008896</td>\n",
              "      <td>-0.021955</td>\n",
              "      <td>0.000377</td>\n",
              "      <td>-0.010431</td>\n",
              "      <td>-0.007644</td>\n",
              "      <td>...</td>\n",
              "      <td>-0.003106</td>\n",
              "      <td>0.004779</td>\n",
              "      <td>0.052381</td>\n",
              "      <td>0.033304</td>\n",
              "      <td>-0.006510</td>\n",
              "      <td>0.021813</td>\n",
              "      <td>-0.038997</td>\n",
              "      <td>-0.014112</td>\n",
              "      <td>0.284997</td>\n",
              "      <td>1.000000</td>\n",
              "    </tr>\n",
              "  </tbody>\n",
              "</table>\n",
              "<p>225 rows × 225 columns</p>\n",
              "</div>\n",
              "      <button class=\"colab-df-convert\" onclick=\"convertToInteractive('df-fb982989-0d63-4fa5-ab58-ba7fcc05dadc')\"\n",
              "              title=\"Convert this dataframe to an interactive table.\"\n",
              "              style=\"display:none;\">\n",
              "        \n",
              "  <svg xmlns=\"http://www.w3.org/2000/svg\" height=\"24px\"viewBox=\"0 0 24 24\"\n",
              "       width=\"24px\">\n",
              "    <path d=\"M0 0h24v24H0V0z\" fill=\"none\"/>\n",
              "    <path d=\"M18.56 5.44l.94 2.06.94-2.06 2.06-.94-2.06-.94-.94-2.06-.94 2.06-2.06.94zm-11 1L8.5 8.5l.94-2.06 2.06-.94-2.06-.94L8.5 2.5l-.94 2.06-2.06.94zm10 10l.94 2.06.94-2.06 2.06-.94-2.06-.94-.94-2.06-.94 2.06-2.06.94z\"/><path d=\"M17.41 7.96l-1.37-1.37c-.4-.4-.92-.59-1.43-.59-.52 0-1.04.2-1.43.59L10.3 9.45l-7.72 7.72c-.78.78-.78 2.05 0 2.83L4 21.41c.39.39.9.59 1.41.59.51 0 1.02-.2 1.41-.59l7.78-7.78 2.81-2.81c.8-.78.8-2.07 0-2.86zM5.41 20L4 18.59l7.72-7.72 1.47 1.35L5.41 20z\"/>\n",
              "  </svg>\n",
              "      </button>\n",
              "      \n",
              "  <style>\n",
              "    .colab-df-container {\n",
              "      display:flex;\n",
              "      flex-wrap:wrap;\n",
              "      gap: 12px;\n",
              "    }\n",
              "\n",
              "    .colab-df-convert {\n",
              "      background-color: #E8F0FE;\n",
              "      border: none;\n",
              "      border-radius: 50%;\n",
              "      cursor: pointer;\n",
              "      display: none;\n",
              "      fill: #1967D2;\n",
              "      height: 32px;\n",
              "      padding: 0 0 0 0;\n",
              "      width: 32px;\n",
              "    }\n",
              "\n",
              "    .colab-df-convert:hover {\n",
              "      background-color: #E2EBFA;\n",
              "      box-shadow: 0px 1px 2px rgba(60, 64, 67, 0.3), 0px 1px 3px 1px rgba(60, 64, 67, 0.15);\n",
              "      fill: #174EA6;\n",
              "    }\n",
              "\n",
              "    [theme=dark] .colab-df-convert {\n",
              "      background-color: #3B4455;\n",
              "      fill: #D2E3FC;\n",
              "    }\n",
              "\n",
              "    [theme=dark] .colab-df-convert:hover {\n",
              "      background-color: #434B5C;\n",
              "      box-shadow: 0px 1px 3px 1px rgba(0, 0, 0, 0.15);\n",
              "      filter: drop-shadow(0px 1px 2px rgba(0, 0, 0, 0.3));\n",
              "      fill: #FFFFFF;\n",
              "    }\n",
              "  </style>\n",
              "\n",
              "      <script>\n",
              "        const buttonEl =\n",
              "          document.querySelector('#df-fb982989-0d63-4fa5-ab58-ba7fcc05dadc button.colab-df-convert');\n",
              "        buttonEl.style.display =\n",
              "          google.colab.kernel.accessAllowed ? 'block' : 'none';\n",
              "\n",
              "        async function convertToInteractive(key) {\n",
              "          const element = document.querySelector('#df-fb982989-0d63-4fa5-ab58-ba7fcc05dadc');\n",
              "          const dataTable =\n",
              "            await google.colab.kernel.invokeFunction('convertToInteractive',\n",
              "                                                     [key], {});\n",
              "          if (!dataTable) return;\n",
              "\n",
              "          const docLinkHtml = 'Like what you see? Visit the ' +\n",
              "            '<a target=\"_blank\" href=https://colab.research.google.com/notebooks/data_table.ipynb>data table notebook</a>'\n",
              "            + ' to learn more about interactive tables.';\n",
              "          element.innerHTML = '';\n",
              "          dataTable['output_type'] = 'display_data';\n",
              "          await google.colab.output.renderOutput(dataTable, element);\n",
              "          const docLink = document.createElement('div');\n",
              "          docLink.innerHTML = docLinkHtml;\n",
              "          element.appendChild(docLink);\n",
              "        }\n",
              "      </script>\n",
              "    </div>\n",
              "  </div>\n",
              "  "
            ]
          },
          "metadata": {},
          "execution_count": 36
        },
        {
          "output_type": "display_data",
          "data": {
            "text/plain": [
              "<Figure size 1200x1000 with 0 Axes>"
            ]
          },
          "metadata": {}
        }
      ]
    },
    {
      "cell_type": "code",
      "source": [
        "# Correlation with output variable\n",
        "cor_target = abs(cor[\"TARGET\"])\n",
        "\n",
        "# Selecting highly correlated features\n",
        "relevant_features = cor_target[cor_target>0.04]\n",
        "relevant_features"
      ],
      "metadata": {
        "colab": {
          "base_uri": "https://localhost:8080/"
        },
        "id": "jQC0_Jmx1dU6",
        "outputId": "74d426a6-43b0-471e-c2dd-d2e96fdece2b"
      },
      "execution_count": 58,
      "outputs": [
        {
          "output_type": "execute_result",
          "data": {
            "text/plain": [
              "TARGET                                               1.000000\n",
              "DAYS_BIRTH                                           0.087875\n",
              "DAYS_EMPLOYED                                        0.043355\n",
              "DAYS_REGISTRATION                                    0.047561\n",
              "DAYS_ID_PUBLISH                                      0.052615\n",
              "FLAG_EMP_PHONE                                       0.044393\n",
              "REGION_RATING_CLIENT                                 0.064539\n",
              "REGION_RATING_CLIENT_W_CITY                          0.065706\n",
              "REG_CITY_NOT_WORK_CITY                               0.043013\n",
              "EXT_SOURCE_2                                         0.148578\n",
              "EXT_SOURCE_3                                         0.144825\n",
              "DAYS_LAST_PHONE_CHANGE                               0.055043\n",
              "FLAG_DOCUMENT_3                                      0.045508\n",
              "CODE_GENDER_M                                        0.058039\n",
              "NAME_INCOME_TYPE_Pensioner                           0.044279\n",
              "NAME_INCOME_TYPE_Working                             0.051844\n",
              "NAME_EDUCATION_TYPE_Higher education                 0.068083\n",
              "NAME_EDUCATION_TYPE_Secondary / secondary special    0.057094\n",
              "ORGANIZATION_TYPE_XNA                                0.044355\n",
              "Name: TARGET, dtype: float64"
            ]
          },
          "metadata": {},
          "execution_count": 58
        }
      ]
    },
    {
      "cell_type": "code",
      "source": [
        "selected_cols = ['TARGET', 'DAYS_BIRTH', 'DAYS_EMPLOYED', 'DAYS_REGISTRATION', 'DAYS_ID_PUBLISH', 'FLAG_EMP_PHONE', 'REGION_RATING_CLIENT', 'REGION_RATING_CLIENT_W_CITY',\n",
        "                 'REG_CITY_NOT_WORK_CITY', 'EXT_SOURCE_2', 'EXT_SOURCE_3', 'DAYS_LAST_PHONE_CHANGE', 'FLAG_DOCUMENT_3', 'CODE_GENDER_M', 'NAME_INCOME_TYPE_Pensioner', 'NAME_INCOME_TYPE_Working',\n",
        "                 'NAME_EDUCATION_TYPE_Higher education', 'NAME_EDUCATION_TYPE_Secondary / secondary special', 'ORGANIZATION_TYPE_XNA']"
      ],
      "metadata": {
        "id": "68KTVZO-m3qN"
      },
      "execution_count": 60,
      "outputs": []
    },
    {
      "cell_type": "code",
      "source": [
        "df_new = df_encoded[selected_cols]\n",
        "df_new"
      ],
      "metadata": {
        "colab": {
          "base_uri": "https://localhost:8080/",
          "height": 505
        },
        "id": "U_Opjwf8AIkx",
        "outputId": "1733e84c-c99c-4ed7-ed05-df5bd17fbe38"
      },
      "execution_count": 61,
      "outputs": [
        {
          "output_type": "execute_result",
          "data": {
            "text/plain": [
              "       TARGET  DAYS_BIRTH  DAYS_EMPLOYED  DAYS_REGISTRATION  DAYS_ID_PUBLISH  \\\n",
              "0           1       -9461           -637            -3648.0            -2120   \n",
              "1           0      -16765          -1188            -1186.0             -291   \n",
              "2           0      -19046           -225            -4260.0            -2531   \n",
              "3           0      -19005          -3039            -9833.0            -2437   \n",
              "4           0      -19932          -3038            -4311.0            -3458   \n",
              "...       ...         ...            ...                ...              ...   \n",
              "17469       0      -11582           -715            -1581.0            -3816   \n",
              "17470       0      -15594          -1672             -849.0            -4107   \n",
              "17471       0      -12070          -1554            -2591.0            -4501   \n",
              "17472       0      -12865           -375            -1757.0            -5516   \n",
              "17473       0      -11235          -3795            -2138.0            -3793   \n",
              "\n",
              "       FLAG_EMP_PHONE  REGION_RATING_CLIENT  REGION_RATING_CLIENT_W_CITY  \\\n",
              "0                   1                     2                            2   \n",
              "1                   1                     1                            1   \n",
              "2                   1                     2                            2   \n",
              "3                   1                     2                            2   \n",
              "4                   1                     2                            2   \n",
              "...               ...                   ...                          ...   \n",
              "17469               1                     2                            2   \n",
              "17470               1                     3                            3   \n",
              "17471               1                     2                            2   \n",
              "17472               1                     2                            2   \n",
              "17473               1                     2                            2   \n",
              "\n",
              "       REG_CITY_NOT_WORK_CITY  EXT_SOURCE_2  EXT_SOURCE_3  \\\n",
              "0                           0      0.262949      0.139376   \n",
              "1                           0      0.622246      0.510811   \n",
              "2                           0      0.555912      0.729567   \n",
              "3                           0      0.650442      0.510811   \n",
              "4                           1      0.322738      0.510811   \n",
              "...                       ...           ...           ...   \n",
              "17469                       0      0.720997      0.517297   \n",
              "17470                       0      0.449491      0.380800   \n",
              "17471                       0      0.257455      0.396220   \n",
              "17472                       0      0.595265      0.633032   \n",
              "17473                       1      0.475492      0.375711   \n",
              "\n",
              "       DAYS_LAST_PHONE_CHANGE  FLAG_DOCUMENT_3  CODE_GENDER_M  \\\n",
              "0                 -1134.00000         1.000000              1   \n",
              "1                  -828.00000         1.000000              0   \n",
              "2                  -815.00000         0.000000              1   \n",
              "3                  -617.00000         1.000000              0   \n",
              "4                 -1106.00000         0.000000              1   \n",
              "...                       ...              ...            ...   \n",
              "17469             -1223.00000         1.000000              1   \n",
              "17470              -380.00000         1.000000              1   \n",
              "17471                -8.00000         1.000000              1   \n",
              "17472                 0.00000         1.000000              0   \n",
              "17473              -956.94019         0.709838              0   \n",
              "\n",
              "       NAME_INCOME_TYPE_Pensioner  NAME_INCOME_TYPE_Working  \\\n",
              "0                               0                         1   \n",
              "1                               0                         0   \n",
              "2                               0                         1   \n",
              "3                               0                         1   \n",
              "4                               0                         1   \n",
              "...                           ...                       ...   \n",
              "17469                           0                         1   \n",
              "17470                           0                         1   \n",
              "17471                           0                         1   \n",
              "17472                           0                         1   \n",
              "17473                           0                         0   \n",
              "\n",
              "       NAME_EDUCATION_TYPE_Higher education  \\\n",
              "0                                         0   \n",
              "1                                         1   \n",
              "2                                         0   \n",
              "3                                         0   \n",
              "4                                         0   \n",
              "...                                     ...   \n",
              "17469                                     0   \n",
              "17470                                     0   \n",
              "17471                                     0   \n",
              "17472                                     0   \n",
              "17473                                     0   \n",
              "\n",
              "       NAME_EDUCATION_TYPE_Secondary / secondary special  \\\n",
              "0                                                      1   \n",
              "1                                                      0   \n",
              "2                                                      1   \n",
              "3                                                      1   \n",
              "4                                                      1   \n",
              "...                                                  ...   \n",
              "17469                                                  1   \n",
              "17470                                                  1   \n",
              "17471                                                  1   \n",
              "17472                                                  1   \n",
              "17473                                                  1   \n",
              "\n",
              "       ORGANIZATION_TYPE_XNA  \n",
              "0                          0  \n",
              "1                          0  \n",
              "2                          0  \n",
              "3                          0  \n",
              "4                          0  \n",
              "...                      ...  \n",
              "17469                      0  \n",
              "17470                      0  \n",
              "17471                      0  \n",
              "17472                      0  \n",
              "17473                      0  \n",
              "\n",
              "[17474 rows x 19 columns]"
            ],
            "text/html": [
              "\n",
              "  <div id=\"df-9a3e6a94-ab6c-4b4f-b5a4-195306a184a0\">\n",
              "    <div class=\"colab-df-container\">\n",
              "      <div>\n",
              "<style scoped>\n",
              "    .dataframe tbody tr th:only-of-type {\n",
              "        vertical-align: middle;\n",
              "    }\n",
              "\n",
              "    .dataframe tbody tr th {\n",
              "        vertical-align: top;\n",
              "    }\n",
              "\n",
              "    .dataframe thead th {\n",
              "        text-align: right;\n",
              "    }\n",
              "</style>\n",
              "<table border=\"1\" class=\"dataframe\">\n",
              "  <thead>\n",
              "    <tr style=\"text-align: right;\">\n",
              "      <th></th>\n",
              "      <th>TARGET</th>\n",
              "      <th>DAYS_BIRTH</th>\n",
              "      <th>DAYS_EMPLOYED</th>\n",
              "      <th>DAYS_REGISTRATION</th>\n",
              "      <th>DAYS_ID_PUBLISH</th>\n",
              "      <th>FLAG_EMP_PHONE</th>\n",
              "      <th>REGION_RATING_CLIENT</th>\n",
              "      <th>REGION_RATING_CLIENT_W_CITY</th>\n",
              "      <th>REG_CITY_NOT_WORK_CITY</th>\n",
              "      <th>EXT_SOURCE_2</th>\n",
              "      <th>EXT_SOURCE_3</th>\n",
              "      <th>DAYS_LAST_PHONE_CHANGE</th>\n",
              "      <th>FLAG_DOCUMENT_3</th>\n",
              "      <th>CODE_GENDER_M</th>\n",
              "      <th>NAME_INCOME_TYPE_Pensioner</th>\n",
              "      <th>NAME_INCOME_TYPE_Working</th>\n",
              "      <th>NAME_EDUCATION_TYPE_Higher education</th>\n",
              "      <th>NAME_EDUCATION_TYPE_Secondary / secondary special</th>\n",
              "      <th>ORGANIZATION_TYPE_XNA</th>\n",
              "    </tr>\n",
              "  </thead>\n",
              "  <tbody>\n",
              "    <tr>\n",
              "      <th>0</th>\n",
              "      <td>1</td>\n",
              "      <td>-9461</td>\n",
              "      <td>-637</td>\n",
              "      <td>-3648.0</td>\n",
              "      <td>-2120</td>\n",
              "      <td>1</td>\n",
              "      <td>2</td>\n",
              "      <td>2</td>\n",
              "      <td>0</td>\n",
              "      <td>0.262949</td>\n",
              "      <td>0.139376</td>\n",
              "      <td>-1134.00000</td>\n",
              "      <td>1.000000</td>\n",
              "      <td>1</td>\n",
              "      <td>0</td>\n",
              "      <td>1</td>\n",
              "      <td>0</td>\n",
              "      <td>1</td>\n",
              "      <td>0</td>\n",
              "    </tr>\n",
              "    <tr>\n",
              "      <th>1</th>\n",
              "      <td>0</td>\n",
              "      <td>-16765</td>\n",
              "      <td>-1188</td>\n",
              "      <td>-1186.0</td>\n",
              "      <td>-291</td>\n",
              "      <td>1</td>\n",
              "      <td>1</td>\n",
              "      <td>1</td>\n",
              "      <td>0</td>\n",
              "      <td>0.622246</td>\n",
              "      <td>0.510811</td>\n",
              "      <td>-828.00000</td>\n",
              "      <td>1.000000</td>\n",
              "      <td>0</td>\n",
              "      <td>0</td>\n",
              "      <td>0</td>\n",
              "      <td>1</td>\n",
              "      <td>0</td>\n",
              "      <td>0</td>\n",
              "    </tr>\n",
              "    <tr>\n",
              "      <th>2</th>\n",
              "      <td>0</td>\n",
              "      <td>-19046</td>\n",
              "      <td>-225</td>\n",
              "      <td>-4260.0</td>\n",
              "      <td>-2531</td>\n",
              "      <td>1</td>\n",
              "      <td>2</td>\n",
              "      <td>2</td>\n",
              "      <td>0</td>\n",
              "      <td>0.555912</td>\n",
              "      <td>0.729567</td>\n",
              "      <td>-815.00000</td>\n",
              "      <td>0.000000</td>\n",
              "      <td>1</td>\n",
              "      <td>0</td>\n",
              "      <td>1</td>\n",
              "      <td>0</td>\n",
              "      <td>1</td>\n",
              "      <td>0</td>\n",
              "    </tr>\n",
              "    <tr>\n",
              "      <th>3</th>\n",
              "      <td>0</td>\n",
              "      <td>-19005</td>\n",
              "      <td>-3039</td>\n",
              "      <td>-9833.0</td>\n",
              "      <td>-2437</td>\n",
              "      <td>1</td>\n",
              "      <td>2</td>\n",
              "      <td>2</td>\n",
              "      <td>0</td>\n",
              "      <td>0.650442</td>\n",
              "      <td>0.510811</td>\n",
              "      <td>-617.00000</td>\n",
              "      <td>1.000000</td>\n",
              "      <td>0</td>\n",
              "      <td>0</td>\n",
              "      <td>1</td>\n",
              "      <td>0</td>\n",
              "      <td>1</td>\n",
              "      <td>0</td>\n",
              "    </tr>\n",
              "    <tr>\n",
              "      <th>4</th>\n",
              "      <td>0</td>\n",
              "      <td>-19932</td>\n",
              "      <td>-3038</td>\n",
              "      <td>-4311.0</td>\n",
              "      <td>-3458</td>\n",
              "      <td>1</td>\n",
              "      <td>2</td>\n",
              "      <td>2</td>\n",
              "      <td>1</td>\n",
              "      <td>0.322738</td>\n",
              "      <td>0.510811</td>\n",
              "      <td>-1106.00000</td>\n",
              "      <td>0.000000</td>\n",
              "      <td>1</td>\n",
              "      <td>0</td>\n",
              "      <td>1</td>\n",
              "      <td>0</td>\n",
              "      <td>1</td>\n",
              "      <td>0</td>\n",
              "    </tr>\n",
              "    <tr>\n",
              "      <th>...</th>\n",
              "      <td>...</td>\n",
              "      <td>...</td>\n",
              "      <td>...</td>\n",
              "      <td>...</td>\n",
              "      <td>...</td>\n",
              "      <td>...</td>\n",
              "      <td>...</td>\n",
              "      <td>...</td>\n",
              "      <td>...</td>\n",
              "      <td>...</td>\n",
              "      <td>...</td>\n",
              "      <td>...</td>\n",
              "      <td>...</td>\n",
              "      <td>...</td>\n",
              "      <td>...</td>\n",
              "      <td>...</td>\n",
              "      <td>...</td>\n",
              "      <td>...</td>\n",
              "      <td>...</td>\n",
              "    </tr>\n",
              "    <tr>\n",
              "      <th>17469</th>\n",
              "      <td>0</td>\n",
              "      <td>-11582</td>\n",
              "      <td>-715</td>\n",
              "      <td>-1581.0</td>\n",
              "      <td>-3816</td>\n",
              "      <td>1</td>\n",
              "      <td>2</td>\n",
              "      <td>2</td>\n",
              "      <td>0</td>\n",
              "      <td>0.720997</td>\n",
              "      <td>0.517297</td>\n",
              "      <td>-1223.00000</td>\n",
              "      <td>1.000000</td>\n",
              "      <td>1</td>\n",
              "      <td>0</td>\n",
              "      <td>1</td>\n",
              "      <td>0</td>\n",
              "      <td>1</td>\n",
              "      <td>0</td>\n",
              "    </tr>\n",
              "    <tr>\n",
              "      <th>17470</th>\n",
              "      <td>0</td>\n",
              "      <td>-15594</td>\n",
              "      <td>-1672</td>\n",
              "      <td>-849.0</td>\n",
              "      <td>-4107</td>\n",
              "      <td>1</td>\n",
              "      <td>3</td>\n",
              "      <td>3</td>\n",
              "      <td>0</td>\n",
              "      <td>0.449491</td>\n",
              "      <td>0.380800</td>\n",
              "      <td>-380.00000</td>\n",
              "      <td>1.000000</td>\n",
              "      <td>1</td>\n",
              "      <td>0</td>\n",
              "      <td>1</td>\n",
              "      <td>0</td>\n",
              "      <td>1</td>\n",
              "      <td>0</td>\n",
              "    </tr>\n",
              "    <tr>\n",
              "      <th>17471</th>\n",
              "      <td>0</td>\n",
              "      <td>-12070</td>\n",
              "      <td>-1554</td>\n",
              "      <td>-2591.0</td>\n",
              "      <td>-4501</td>\n",
              "      <td>1</td>\n",
              "      <td>2</td>\n",
              "      <td>2</td>\n",
              "      <td>0</td>\n",
              "      <td>0.257455</td>\n",
              "      <td>0.396220</td>\n",
              "      <td>-8.00000</td>\n",
              "      <td>1.000000</td>\n",
              "      <td>1</td>\n",
              "      <td>0</td>\n",
              "      <td>1</td>\n",
              "      <td>0</td>\n",
              "      <td>1</td>\n",
              "      <td>0</td>\n",
              "    </tr>\n",
              "    <tr>\n",
              "      <th>17472</th>\n",
              "      <td>0</td>\n",
              "      <td>-12865</td>\n",
              "      <td>-375</td>\n",
              "      <td>-1757.0</td>\n",
              "      <td>-5516</td>\n",
              "      <td>1</td>\n",
              "      <td>2</td>\n",
              "      <td>2</td>\n",
              "      <td>0</td>\n",
              "      <td>0.595265</td>\n",
              "      <td>0.633032</td>\n",
              "      <td>0.00000</td>\n",
              "      <td>1.000000</td>\n",
              "      <td>0</td>\n",
              "      <td>0</td>\n",
              "      <td>1</td>\n",
              "      <td>0</td>\n",
              "      <td>1</td>\n",
              "      <td>0</td>\n",
              "    </tr>\n",
              "    <tr>\n",
              "      <th>17473</th>\n",
              "      <td>0</td>\n",
              "      <td>-11235</td>\n",
              "      <td>-3795</td>\n",
              "      <td>-2138.0</td>\n",
              "      <td>-3793</td>\n",
              "      <td>1</td>\n",
              "      <td>2</td>\n",
              "      <td>2</td>\n",
              "      <td>1</td>\n",
              "      <td>0.475492</td>\n",
              "      <td>0.375711</td>\n",
              "      <td>-956.94019</td>\n",
              "      <td>0.709838</td>\n",
              "      <td>0</td>\n",
              "      <td>0</td>\n",
              "      <td>0</td>\n",
              "      <td>0</td>\n",
              "      <td>1</td>\n",
              "      <td>0</td>\n",
              "    </tr>\n",
              "  </tbody>\n",
              "</table>\n",
              "<p>17474 rows × 19 columns</p>\n",
              "</div>\n",
              "      <button class=\"colab-df-convert\" onclick=\"convertToInteractive('df-9a3e6a94-ab6c-4b4f-b5a4-195306a184a0')\"\n",
              "              title=\"Convert this dataframe to an interactive table.\"\n",
              "              style=\"display:none;\">\n",
              "        \n",
              "  <svg xmlns=\"http://www.w3.org/2000/svg\" height=\"24px\"viewBox=\"0 0 24 24\"\n",
              "       width=\"24px\">\n",
              "    <path d=\"M0 0h24v24H0V0z\" fill=\"none\"/>\n",
              "    <path d=\"M18.56 5.44l.94 2.06.94-2.06 2.06-.94-2.06-.94-.94-2.06-.94 2.06-2.06.94zm-11 1L8.5 8.5l.94-2.06 2.06-.94-2.06-.94L8.5 2.5l-.94 2.06-2.06.94zm10 10l.94 2.06.94-2.06 2.06-.94-2.06-.94-.94-2.06-.94 2.06-2.06.94z\"/><path d=\"M17.41 7.96l-1.37-1.37c-.4-.4-.92-.59-1.43-.59-.52 0-1.04.2-1.43.59L10.3 9.45l-7.72 7.72c-.78.78-.78 2.05 0 2.83L4 21.41c.39.39.9.59 1.41.59.51 0 1.02-.2 1.41-.59l7.78-7.78 2.81-2.81c.8-.78.8-2.07 0-2.86zM5.41 20L4 18.59l7.72-7.72 1.47 1.35L5.41 20z\"/>\n",
              "  </svg>\n",
              "      </button>\n",
              "      \n",
              "  <style>\n",
              "    .colab-df-container {\n",
              "      display:flex;\n",
              "      flex-wrap:wrap;\n",
              "      gap: 12px;\n",
              "    }\n",
              "\n",
              "    .colab-df-convert {\n",
              "      background-color: #E8F0FE;\n",
              "      border: none;\n",
              "      border-radius: 50%;\n",
              "      cursor: pointer;\n",
              "      display: none;\n",
              "      fill: #1967D2;\n",
              "      height: 32px;\n",
              "      padding: 0 0 0 0;\n",
              "      width: 32px;\n",
              "    }\n",
              "\n",
              "    .colab-df-convert:hover {\n",
              "      background-color: #E2EBFA;\n",
              "      box-shadow: 0px 1px 2px rgba(60, 64, 67, 0.3), 0px 1px 3px 1px rgba(60, 64, 67, 0.15);\n",
              "      fill: #174EA6;\n",
              "    }\n",
              "\n",
              "    [theme=dark] .colab-df-convert {\n",
              "      background-color: #3B4455;\n",
              "      fill: #D2E3FC;\n",
              "    }\n",
              "\n",
              "    [theme=dark] .colab-df-convert:hover {\n",
              "      background-color: #434B5C;\n",
              "      box-shadow: 0px 1px 3px 1px rgba(0, 0, 0, 0.15);\n",
              "      filter: drop-shadow(0px 1px 2px rgba(0, 0, 0, 0.3));\n",
              "      fill: #FFFFFF;\n",
              "    }\n",
              "  </style>\n",
              "\n",
              "      <script>\n",
              "        const buttonEl =\n",
              "          document.querySelector('#df-9a3e6a94-ab6c-4b4f-b5a4-195306a184a0 button.colab-df-convert');\n",
              "        buttonEl.style.display =\n",
              "          google.colab.kernel.accessAllowed ? 'block' : 'none';\n",
              "\n",
              "        async function convertToInteractive(key) {\n",
              "          const element = document.querySelector('#df-9a3e6a94-ab6c-4b4f-b5a4-195306a184a0');\n",
              "          const dataTable =\n",
              "            await google.colab.kernel.invokeFunction('convertToInteractive',\n",
              "                                                     [key], {});\n",
              "          if (!dataTable) return;\n",
              "\n",
              "          const docLinkHtml = 'Like what you see? Visit the ' +\n",
              "            '<a target=\"_blank\" href=https://colab.research.google.com/notebooks/data_table.ipynb>data table notebook</a>'\n",
              "            + ' to learn more about interactive tables.';\n",
              "          element.innerHTML = '';\n",
              "          dataTable['output_type'] = 'display_data';\n",
              "          await google.colab.output.renderOutput(dataTable, element);\n",
              "          const docLink = document.createElement('div');\n",
              "          docLink.innerHTML = docLinkHtml;\n",
              "          element.appendChild(docLink);\n",
              "        }\n",
              "      </script>\n",
              "    </div>\n",
              "  </div>\n",
              "  "
            ]
          },
          "metadata": {},
          "execution_count": 61
        }
      ]
    },
    {
      "cell_type": "markdown",
      "source": [
        "**(3) Applying oversampling**"
      ],
      "metadata": {
        "id": "Joq3PDDqaeus"
      }
    },
    {
      "cell_type": "code",
      "source": [
        "# Count data per class\n",
        "df_new['TARGET'].value_counts(normalize=True)"
      ],
      "metadata": {
        "colab": {
          "base_uri": "https://localhost:8080/"
        },
        "id": "T-Te6w6B5qR_",
        "outputId": "97ae596d-d12b-4cbb-e48e-aac157c060cf"
      },
      "execution_count": 62,
      "outputs": [
        {
          "output_type": "execute_result",
          "data": {
            "text/plain": [
              "0    0.921712\n",
              "1    0.078288\n",
              "Name: TARGET, dtype: float64"
            ]
          },
          "metadata": {},
          "execution_count": 62
        }
      ]
    },
    {
      "cell_type": "code",
      "source": [
        "# Split data\n",
        "X, y = df_new.drop(\"TARGET\",axis=1).values , df_new[\"TARGET\"]\n",
        "X_train, X_test, y_train, y_test = train_test_split(X, y)"
      ],
      "metadata": {
        "id": "zUVNX2I4c1LL"
      },
      "execution_count": 64,
      "outputs": []
    },
    {
      "cell_type": "code",
      "source": [
        "from imblearn.over_sampling import SMOTE\n",
        "rus = SMOTE(sampling_strategy='auto')\n",
        "X_data_rus, y_data_rus = rus.fit_resample(X, y)\n",
        "\n",
        "y_data_rus.value_counts(normalize=True)"
      ],
      "metadata": {
        "colab": {
          "base_uri": "https://localhost:8080/"
        },
        "id": "XmKquWjeoxVu",
        "outputId": "bb350398-c64b-474b-9c4c-a620f6f85758"
      },
      "execution_count": 67,
      "outputs": [
        {
          "output_type": "execute_result",
          "data": {
            "text/plain": [
              "1    0.5\n",
              "0    0.5\n",
              "Name: TARGET, dtype: float64"
            ]
          },
          "metadata": {},
          "execution_count": 67
        }
      ]
    },
    {
      "cell_type": "markdown",
      "source": [
        "**(4) Performing feature scaling**"
      ],
      "metadata": {
        "id": "-cDDsnNfrY3T"
      }
    },
    {
      "cell_type": "code",
      "source": [
        "scaler = StandardScaler()\n",
        "df_scaled = scaler.fit_transform(df_new.to_numpy())\n",
        "df_scaled = pd.DataFrame(df_scaled, columns=selected_cols)"
      ],
      "metadata": {
        "id": "HgZX9RlHpQO5"
      },
      "execution_count": 77,
      "outputs": []
    },
    {
      "cell_type": "code",
      "source": [
        "df_scaled"
      ],
      "metadata": {
        "colab": {
          "base_uri": "https://localhost:8080/",
          "height": 505
        },
        "id": "_OVj5PJvpW6f",
        "outputId": "aac962cc-91d2-41a8-cdf2-8404b6a910b0"
      },
      "execution_count": 78,
      "outputs": [
        {
          "output_type": "execute_result",
          "data": {
            "text/plain": [
              "         TARGET  DAYS_BIRTH  DAYS_EMPLOYED  DAYS_REGISTRATION  \\\n",
              "0      3.431238    1.504980      -0.454405           0.366581   \n",
              "1     -0.291440   -0.175860      -0.458314           1.072204   \n",
              "2     -0.291440   -0.700777      -0.451481           0.191178   \n",
              "3     -0.291440   -0.691342      -0.471448          -1.406074   \n",
              "4     -0.291440   -0.904669      -0.471441           0.176561   \n",
              "...         ...         ...            ...                ...   \n",
              "17469 -0.291440    1.016883      -0.454958           0.958995   \n",
              "17470 -0.291440    0.093618      -0.461749           1.168790   \n",
              "17471 -0.291440    0.904582      -0.460911           0.669523   \n",
              "17472 -0.291440    0.721631      -0.452545           0.908552   \n",
              "17473 -0.291440    1.096737      -0.476813           0.799355   \n",
              "\n",
              "       DAYS_ID_PUBLISH  FLAG_EMP_PHONE  REGION_RATING_CLIENT  \\\n",
              "0             0.572880        0.466947             -0.097848   \n",
              "1             1.784513        0.466947             -2.065398   \n",
              "2             0.300611        0.466947             -0.097848   \n",
              "3             0.362882        0.466947             -0.097848   \n",
              "4            -0.313486        0.466947             -0.097848   \n",
              "...                ...             ...                   ...   \n",
              "17469        -0.550646        0.466947             -0.097848   \n",
              "17470        -0.743421        0.466947              1.869702   \n",
              "17471        -1.004429        0.466947             -0.097848   \n",
              "17472        -1.676822        0.466947             -0.097848   \n",
              "17473        -0.535409        0.466947             -0.097848   \n",
              "\n",
              "       REGION_RATING_CLIENT_W_CITY  REG_CITY_NOT_WORK_CITY  EXT_SOURCE_2  \\\n",
              "0                        -0.059246               -0.552095     -1.329872   \n",
              "1                        -2.046332               -0.552095      0.564584   \n",
              "2                        -0.059246               -0.552095      0.214828   \n",
              "3                        -0.059246               -0.552095      0.713251   \n",
              "4                        -0.059246                1.811283     -1.014621   \n",
              "...                            ...                     ...           ...   \n",
              "17469                    -0.059246               -0.552095      1.085264   \n",
              "17470                     1.927840               -0.552095     -0.346295   \n",
              "17471                    -0.059246               -0.552095     -1.358836   \n",
              "17472                    -0.059246               -0.552095      0.422322   \n",
              "17473                    -0.059246                1.811283     -0.209203   \n",
              "\n",
              "       EXT_SOURCE_3  DAYS_LAST_PHONE_CHANGE  FLAG_DOCUMENT_3  CODE_GENDER_M  \\\n",
              "0         -2.288670               -0.221470     6.393711e-01       1.385156   \n",
              "1         -0.041171                0.152816     6.393711e-01      -0.721940   \n",
              "2          1.282489                0.168717    -1.564126e+00       1.385156   \n",
              "3         -0.041171                0.410902     6.393711e-01      -0.721940   \n",
              "4         -0.041171               -0.187222    -1.564126e+00       1.385156   \n",
              "...             ...                     ...              ...            ...   \n",
              "17469     -0.001926               -0.330331     6.393711e-01       1.385156   \n",
              "17470     -0.827849                0.700790     6.393711e-01       1.385156   \n",
              "17471     -0.734546                1.155804     6.393711e-01       1.385156   \n",
              "17472      0.698369                1.165589     6.393711e-01      -0.721940   \n",
              "17473     -0.858640               -0.004898    -2.446374e-16      -0.721940   \n",
              "\n",
              "       NAME_INCOME_TYPE_Pensioner  NAME_INCOME_TYPE_Working  \\\n",
              "0                       -0.466675                  0.957852   \n",
              "1                       -0.466675                 -1.044003   \n",
              "2                       -0.466675                  0.957852   \n",
              "3                       -0.466675                  0.957852   \n",
              "4                       -0.466675                  0.957852   \n",
              "...                           ...                       ...   \n",
              "17469                   -0.466675                  0.957852   \n",
              "17470                   -0.466675                  0.957852   \n",
              "17471                   -0.466675                  0.957852   \n",
              "17472                   -0.466675                  0.957852   \n",
              "17473                   -0.466675                 -1.044003   \n",
              "\n",
              "       NAME_EDUCATION_TYPE_Higher education  \\\n",
              "0                                 -0.572636   \n",
              "1                                  1.746309   \n",
              "2                                 -0.572636   \n",
              "3                                 -0.572636   \n",
              "4                                 -0.572636   \n",
              "...                                     ...   \n",
              "17469                             -0.572636   \n",
              "17470                             -0.572636   \n",
              "17471                             -0.572636   \n",
              "17472                             -0.572636   \n",
              "17473                             -0.572636   \n",
              "\n",
              "       NAME_EDUCATION_TYPE_Secondary / secondary special  \\\n",
              "0                                               0.643949   \n",
              "1                                              -1.552919   \n",
              "2                                               0.643949   \n",
              "3                                               0.643949   \n",
              "4                                               0.643949   \n",
              "...                                                  ...   \n",
              "17469                                           0.643949   \n",
              "17470                                           0.643949   \n",
              "17471                                           0.643949   \n",
              "17472                                           0.643949   \n",
              "17473                                           0.643949   \n",
              "\n",
              "       ORGANIZATION_TYPE_XNA  \n",
              "0                  -0.466856  \n",
              "1                  -0.466856  \n",
              "2                  -0.466856  \n",
              "3                  -0.466856  \n",
              "4                  -0.466856  \n",
              "...                      ...  \n",
              "17469              -0.466856  \n",
              "17470              -0.466856  \n",
              "17471              -0.466856  \n",
              "17472              -0.466856  \n",
              "17473              -0.466856  \n",
              "\n",
              "[17474 rows x 19 columns]"
            ],
            "text/html": [
              "\n",
              "  <div id=\"df-c17fc4a7-8e6f-4fd6-8f7d-a31197c27877\">\n",
              "    <div class=\"colab-df-container\">\n",
              "      <div>\n",
              "<style scoped>\n",
              "    .dataframe tbody tr th:only-of-type {\n",
              "        vertical-align: middle;\n",
              "    }\n",
              "\n",
              "    .dataframe tbody tr th {\n",
              "        vertical-align: top;\n",
              "    }\n",
              "\n",
              "    .dataframe thead th {\n",
              "        text-align: right;\n",
              "    }\n",
              "</style>\n",
              "<table border=\"1\" class=\"dataframe\">\n",
              "  <thead>\n",
              "    <tr style=\"text-align: right;\">\n",
              "      <th></th>\n",
              "      <th>TARGET</th>\n",
              "      <th>DAYS_BIRTH</th>\n",
              "      <th>DAYS_EMPLOYED</th>\n",
              "      <th>DAYS_REGISTRATION</th>\n",
              "      <th>DAYS_ID_PUBLISH</th>\n",
              "      <th>FLAG_EMP_PHONE</th>\n",
              "      <th>REGION_RATING_CLIENT</th>\n",
              "      <th>REGION_RATING_CLIENT_W_CITY</th>\n",
              "      <th>REG_CITY_NOT_WORK_CITY</th>\n",
              "      <th>EXT_SOURCE_2</th>\n",
              "      <th>EXT_SOURCE_3</th>\n",
              "      <th>DAYS_LAST_PHONE_CHANGE</th>\n",
              "      <th>FLAG_DOCUMENT_3</th>\n",
              "      <th>CODE_GENDER_M</th>\n",
              "      <th>NAME_INCOME_TYPE_Pensioner</th>\n",
              "      <th>NAME_INCOME_TYPE_Working</th>\n",
              "      <th>NAME_EDUCATION_TYPE_Higher education</th>\n",
              "      <th>NAME_EDUCATION_TYPE_Secondary / secondary special</th>\n",
              "      <th>ORGANIZATION_TYPE_XNA</th>\n",
              "    </tr>\n",
              "  </thead>\n",
              "  <tbody>\n",
              "    <tr>\n",
              "      <th>0</th>\n",
              "      <td>3.431238</td>\n",
              "      <td>1.504980</td>\n",
              "      <td>-0.454405</td>\n",
              "      <td>0.366581</td>\n",
              "      <td>0.572880</td>\n",
              "      <td>0.466947</td>\n",
              "      <td>-0.097848</td>\n",
              "      <td>-0.059246</td>\n",
              "      <td>-0.552095</td>\n",
              "      <td>-1.329872</td>\n",
              "      <td>-2.288670</td>\n",
              "      <td>-0.221470</td>\n",
              "      <td>6.393711e-01</td>\n",
              "      <td>1.385156</td>\n",
              "      <td>-0.466675</td>\n",
              "      <td>0.957852</td>\n",
              "      <td>-0.572636</td>\n",
              "      <td>0.643949</td>\n",
              "      <td>-0.466856</td>\n",
              "    </tr>\n",
              "    <tr>\n",
              "      <th>1</th>\n",
              "      <td>-0.291440</td>\n",
              "      <td>-0.175860</td>\n",
              "      <td>-0.458314</td>\n",
              "      <td>1.072204</td>\n",
              "      <td>1.784513</td>\n",
              "      <td>0.466947</td>\n",
              "      <td>-2.065398</td>\n",
              "      <td>-2.046332</td>\n",
              "      <td>-0.552095</td>\n",
              "      <td>0.564584</td>\n",
              "      <td>-0.041171</td>\n",
              "      <td>0.152816</td>\n",
              "      <td>6.393711e-01</td>\n",
              "      <td>-0.721940</td>\n",
              "      <td>-0.466675</td>\n",
              "      <td>-1.044003</td>\n",
              "      <td>1.746309</td>\n",
              "      <td>-1.552919</td>\n",
              "      <td>-0.466856</td>\n",
              "    </tr>\n",
              "    <tr>\n",
              "      <th>2</th>\n",
              "      <td>-0.291440</td>\n",
              "      <td>-0.700777</td>\n",
              "      <td>-0.451481</td>\n",
              "      <td>0.191178</td>\n",
              "      <td>0.300611</td>\n",
              "      <td>0.466947</td>\n",
              "      <td>-0.097848</td>\n",
              "      <td>-0.059246</td>\n",
              "      <td>-0.552095</td>\n",
              "      <td>0.214828</td>\n",
              "      <td>1.282489</td>\n",
              "      <td>0.168717</td>\n",
              "      <td>-1.564126e+00</td>\n",
              "      <td>1.385156</td>\n",
              "      <td>-0.466675</td>\n",
              "      <td>0.957852</td>\n",
              "      <td>-0.572636</td>\n",
              "      <td>0.643949</td>\n",
              "      <td>-0.466856</td>\n",
              "    </tr>\n",
              "    <tr>\n",
              "      <th>3</th>\n",
              "      <td>-0.291440</td>\n",
              "      <td>-0.691342</td>\n",
              "      <td>-0.471448</td>\n",
              "      <td>-1.406074</td>\n",
              "      <td>0.362882</td>\n",
              "      <td>0.466947</td>\n",
              "      <td>-0.097848</td>\n",
              "      <td>-0.059246</td>\n",
              "      <td>-0.552095</td>\n",
              "      <td>0.713251</td>\n",
              "      <td>-0.041171</td>\n",
              "      <td>0.410902</td>\n",
              "      <td>6.393711e-01</td>\n",
              "      <td>-0.721940</td>\n",
              "      <td>-0.466675</td>\n",
              "      <td>0.957852</td>\n",
              "      <td>-0.572636</td>\n",
              "      <td>0.643949</td>\n",
              "      <td>-0.466856</td>\n",
              "    </tr>\n",
              "    <tr>\n",
              "      <th>4</th>\n",
              "      <td>-0.291440</td>\n",
              "      <td>-0.904669</td>\n",
              "      <td>-0.471441</td>\n",
              "      <td>0.176561</td>\n",
              "      <td>-0.313486</td>\n",
              "      <td>0.466947</td>\n",
              "      <td>-0.097848</td>\n",
              "      <td>-0.059246</td>\n",
              "      <td>1.811283</td>\n",
              "      <td>-1.014621</td>\n",
              "      <td>-0.041171</td>\n",
              "      <td>-0.187222</td>\n",
              "      <td>-1.564126e+00</td>\n",
              "      <td>1.385156</td>\n",
              "      <td>-0.466675</td>\n",
              "      <td>0.957852</td>\n",
              "      <td>-0.572636</td>\n",
              "      <td>0.643949</td>\n",
              "      <td>-0.466856</td>\n",
              "    </tr>\n",
              "    <tr>\n",
              "      <th>...</th>\n",
              "      <td>...</td>\n",
              "      <td>...</td>\n",
              "      <td>...</td>\n",
              "      <td>...</td>\n",
              "      <td>...</td>\n",
              "      <td>...</td>\n",
              "      <td>...</td>\n",
              "      <td>...</td>\n",
              "      <td>...</td>\n",
              "      <td>...</td>\n",
              "      <td>...</td>\n",
              "      <td>...</td>\n",
              "      <td>...</td>\n",
              "      <td>...</td>\n",
              "      <td>...</td>\n",
              "      <td>...</td>\n",
              "      <td>...</td>\n",
              "      <td>...</td>\n",
              "      <td>...</td>\n",
              "    </tr>\n",
              "    <tr>\n",
              "      <th>17469</th>\n",
              "      <td>-0.291440</td>\n",
              "      <td>1.016883</td>\n",
              "      <td>-0.454958</td>\n",
              "      <td>0.958995</td>\n",
              "      <td>-0.550646</td>\n",
              "      <td>0.466947</td>\n",
              "      <td>-0.097848</td>\n",
              "      <td>-0.059246</td>\n",
              "      <td>-0.552095</td>\n",
              "      <td>1.085264</td>\n",
              "      <td>-0.001926</td>\n",
              "      <td>-0.330331</td>\n",
              "      <td>6.393711e-01</td>\n",
              "      <td>1.385156</td>\n",
              "      <td>-0.466675</td>\n",
              "      <td>0.957852</td>\n",
              "      <td>-0.572636</td>\n",
              "      <td>0.643949</td>\n",
              "      <td>-0.466856</td>\n",
              "    </tr>\n",
              "    <tr>\n",
              "      <th>17470</th>\n",
              "      <td>-0.291440</td>\n",
              "      <td>0.093618</td>\n",
              "      <td>-0.461749</td>\n",
              "      <td>1.168790</td>\n",
              "      <td>-0.743421</td>\n",
              "      <td>0.466947</td>\n",
              "      <td>1.869702</td>\n",
              "      <td>1.927840</td>\n",
              "      <td>-0.552095</td>\n",
              "      <td>-0.346295</td>\n",
              "      <td>-0.827849</td>\n",
              "      <td>0.700790</td>\n",
              "      <td>6.393711e-01</td>\n",
              "      <td>1.385156</td>\n",
              "      <td>-0.466675</td>\n",
              "      <td>0.957852</td>\n",
              "      <td>-0.572636</td>\n",
              "      <td>0.643949</td>\n",
              "      <td>-0.466856</td>\n",
              "    </tr>\n",
              "    <tr>\n",
              "      <th>17471</th>\n",
              "      <td>-0.291440</td>\n",
              "      <td>0.904582</td>\n",
              "      <td>-0.460911</td>\n",
              "      <td>0.669523</td>\n",
              "      <td>-1.004429</td>\n",
              "      <td>0.466947</td>\n",
              "      <td>-0.097848</td>\n",
              "      <td>-0.059246</td>\n",
              "      <td>-0.552095</td>\n",
              "      <td>-1.358836</td>\n",
              "      <td>-0.734546</td>\n",
              "      <td>1.155804</td>\n",
              "      <td>6.393711e-01</td>\n",
              "      <td>1.385156</td>\n",
              "      <td>-0.466675</td>\n",
              "      <td>0.957852</td>\n",
              "      <td>-0.572636</td>\n",
              "      <td>0.643949</td>\n",
              "      <td>-0.466856</td>\n",
              "    </tr>\n",
              "    <tr>\n",
              "      <th>17472</th>\n",
              "      <td>-0.291440</td>\n",
              "      <td>0.721631</td>\n",
              "      <td>-0.452545</td>\n",
              "      <td>0.908552</td>\n",
              "      <td>-1.676822</td>\n",
              "      <td>0.466947</td>\n",
              "      <td>-0.097848</td>\n",
              "      <td>-0.059246</td>\n",
              "      <td>-0.552095</td>\n",
              "      <td>0.422322</td>\n",
              "      <td>0.698369</td>\n",
              "      <td>1.165589</td>\n",
              "      <td>6.393711e-01</td>\n",
              "      <td>-0.721940</td>\n",
              "      <td>-0.466675</td>\n",
              "      <td>0.957852</td>\n",
              "      <td>-0.572636</td>\n",
              "      <td>0.643949</td>\n",
              "      <td>-0.466856</td>\n",
              "    </tr>\n",
              "    <tr>\n",
              "      <th>17473</th>\n",
              "      <td>-0.291440</td>\n",
              "      <td>1.096737</td>\n",
              "      <td>-0.476813</td>\n",
              "      <td>0.799355</td>\n",
              "      <td>-0.535409</td>\n",
              "      <td>0.466947</td>\n",
              "      <td>-0.097848</td>\n",
              "      <td>-0.059246</td>\n",
              "      <td>1.811283</td>\n",
              "      <td>-0.209203</td>\n",
              "      <td>-0.858640</td>\n",
              "      <td>-0.004898</td>\n",
              "      <td>-2.446374e-16</td>\n",
              "      <td>-0.721940</td>\n",
              "      <td>-0.466675</td>\n",
              "      <td>-1.044003</td>\n",
              "      <td>-0.572636</td>\n",
              "      <td>0.643949</td>\n",
              "      <td>-0.466856</td>\n",
              "    </tr>\n",
              "  </tbody>\n",
              "</table>\n",
              "<p>17474 rows × 19 columns</p>\n",
              "</div>\n",
              "      <button class=\"colab-df-convert\" onclick=\"convertToInteractive('df-c17fc4a7-8e6f-4fd6-8f7d-a31197c27877')\"\n",
              "              title=\"Convert this dataframe to an interactive table.\"\n",
              "              style=\"display:none;\">\n",
              "        \n",
              "  <svg xmlns=\"http://www.w3.org/2000/svg\" height=\"24px\"viewBox=\"0 0 24 24\"\n",
              "       width=\"24px\">\n",
              "    <path d=\"M0 0h24v24H0V0z\" fill=\"none\"/>\n",
              "    <path d=\"M18.56 5.44l.94 2.06.94-2.06 2.06-.94-2.06-.94-.94-2.06-.94 2.06-2.06.94zm-11 1L8.5 8.5l.94-2.06 2.06-.94-2.06-.94L8.5 2.5l-.94 2.06-2.06.94zm10 10l.94 2.06.94-2.06 2.06-.94-2.06-.94-.94-2.06-.94 2.06-2.06.94z\"/><path d=\"M17.41 7.96l-1.37-1.37c-.4-.4-.92-.59-1.43-.59-.52 0-1.04.2-1.43.59L10.3 9.45l-7.72 7.72c-.78.78-.78 2.05 0 2.83L4 21.41c.39.39.9.59 1.41.59.51 0 1.02-.2 1.41-.59l7.78-7.78 2.81-2.81c.8-.78.8-2.07 0-2.86zM5.41 20L4 18.59l7.72-7.72 1.47 1.35L5.41 20z\"/>\n",
              "  </svg>\n",
              "      </button>\n",
              "      \n",
              "  <style>\n",
              "    .colab-df-container {\n",
              "      display:flex;\n",
              "      flex-wrap:wrap;\n",
              "      gap: 12px;\n",
              "    }\n",
              "\n",
              "    .colab-df-convert {\n",
              "      background-color: #E8F0FE;\n",
              "      border: none;\n",
              "      border-radius: 50%;\n",
              "      cursor: pointer;\n",
              "      display: none;\n",
              "      fill: #1967D2;\n",
              "      height: 32px;\n",
              "      padding: 0 0 0 0;\n",
              "      width: 32px;\n",
              "    }\n",
              "\n",
              "    .colab-df-convert:hover {\n",
              "      background-color: #E2EBFA;\n",
              "      box-shadow: 0px 1px 2px rgba(60, 64, 67, 0.3), 0px 1px 3px 1px rgba(60, 64, 67, 0.15);\n",
              "      fill: #174EA6;\n",
              "    }\n",
              "\n",
              "    [theme=dark] .colab-df-convert {\n",
              "      background-color: #3B4455;\n",
              "      fill: #D2E3FC;\n",
              "    }\n",
              "\n",
              "    [theme=dark] .colab-df-convert:hover {\n",
              "      background-color: #434B5C;\n",
              "      box-shadow: 0px 1px 3px 1px rgba(0, 0, 0, 0.15);\n",
              "      filter: drop-shadow(0px 1px 2px rgba(0, 0, 0, 0.3));\n",
              "      fill: #FFFFFF;\n",
              "    }\n",
              "  </style>\n",
              "\n",
              "      <script>\n",
              "        const buttonEl =\n",
              "          document.querySelector('#df-c17fc4a7-8e6f-4fd6-8f7d-a31197c27877 button.colab-df-convert');\n",
              "        buttonEl.style.display =\n",
              "          google.colab.kernel.accessAllowed ? 'block' : 'none';\n",
              "\n",
              "        async function convertToInteractive(key) {\n",
              "          const element = document.querySelector('#df-c17fc4a7-8e6f-4fd6-8f7d-a31197c27877');\n",
              "          const dataTable =\n",
              "            await google.colab.kernel.invokeFunction('convertToInteractive',\n",
              "                                                     [key], {});\n",
              "          if (!dataTable) return;\n",
              "\n",
              "          const docLinkHtml = 'Like what you see? Visit the ' +\n",
              "            '<a target=\"_blank\" href=https://colab.research.google.com/notebooks/data_table.ipynb>data table notebook</a>'\n",
              "            + ' to learn more about interactive tables.';\n",
              "          element.innerHTML = '';\n",
              "          dataTable['output_type'] = 'display_data';\n",
              "          await google.colab.output.renderOutput(dataTable, element);\n",
              "          const docLink = document.createElement('div');\n",
              "          docLink.innerHTML = docLinkHtml;\n",
              "          element.appendChild(docLink);\n",
              "        }\n",
              "      </script>\n",
              "    </div>\n",
              "  </div>\n",
              "  "
            ]
          },
          "metadata": {},
          "execution_count": 78
        }
      ]
    },
    {
      "cell_type": "code",
      "source": [
        "df_scaled.to_csv('preprocessedData.csv', index=False)"
      ],
      "metadata": {
        "id": "xOanmVXgryp-"
      },
      "execution_count": 79,
      "outputs": []
    },
    {
      "cell_type": "markdown",
      "source": [
        "## Model Building"
      ],
      "metadata": {
        "id": "DDymoY1ksVx8"
      }
    },
    {
      "cell_type": "code",
      "source": [
        "# Split data\n",
        "X, y = df_scaled.drop(\"TARGET\",axis=1).values , df_new[\"TARGET\"]\n",
        "X_train, X_test, y_train, y_test = train_test_split(X, y)"
      ],
      "metadata": {
        "id": "CuiPC6RGso2x"
      },
      "execution_count": 80,
      "outputs": []
    },
    {
      "cell_type": "markdown",
      "source": [
        "**(1) Logistic Regression**"
      ],
      "metadata": {
        "id": "P5akMRXcuABA"
      }
    },
    {
      "cell_type": "code",
      "source": [
        "logreg = LogisticRegression(solver='liblinear')\n",
        "logreg.fit(X_train, y_train)"
      ],
      "metadata": {
        "colab": {
          "base_uri": "https://localhost:8080/",
          "height": 75
        },
        "id": "4Vrc5mW5sYMJ",
        "outputId": "7dab7e65-b926-4a07-b5be-e9f38d61faf7"
      },
      "execution_count": 82,
      "outputs": [
        {
          "output_type": "execute_result",
          "data": {
            "text/plain": [
              "LogisticRegression(solver='liblinear')"
            ],
            "text/html": [
              "<style>#sk-container-id-2 {color: black;background-color: white;}#sk-container-id-2 pre{padding: 0;}#sk-container-id-2 div.sk-toggleable {background-color: white;}#sk-container-id-2 label.sk-toggleable__label {cursor: pointer;display: block;width: 100%;margin-bottom: 0;padding: 0.3em;box-sizing: border-box;text-align: center;}#sk-container-id-2 label.sk-toggleable__label-arrow:before {content: \"▸\";float: left;margin-right: 0.25em;color: #696969;}#sk-container-id-2 label.sk-toggleable__label-arrow:hover:before {color: black;}#sk-container-id-2 div.sk-estimator:hover label.sk-toggleable__label-arrow:before {color: black;}#sk-container-id-2 div.sk-toggleable__content {max-height: 0;max-width: 0;overflow: hidden;text-align: left;background-color: #f0f8ff;}#sk-container-id-2 div.sk-toggleable__content pre {margin: 0.2em;color: black;border-radius: 0.25em;background-color: #f0f8ff;}#sk-container-id-2 input.sk-toggleable__control:checked~div.sk-toggleable__content {max-height: 200px;max-width: 100%;overflow: auto;}#sk-container-id-2 input.sk-toggleable__control:checked~label.sk-toggleable__label-arrow:before {content: \"▾\";}#sk-container-id-2 div.sk-estimator input.sk-toggleable__control:checked~label.sk-toggleable__label {background-color: #d4ebff;}#sk-container-id-2 div.sk-label input.sk-toggleable__control:checked~label.sk-toggleable__label {background-color: #d4ebff;}#sk-container-id-2 input.sk-hidden--visually {border: 0;clip: rect(1px 1px 1px 1px);clip: rect(1px, 1px, 1px, 1px);height: 1px;margin: -1px;overflow: hidden;padding: 0;position: absolute;width: 1px;}#sk-container-id-2 div.sk-estimator {font-family: monospace;background-color: #f0f8ff;border: 1px dotted black;border-radius: 0.25em;box-sizing: border-box;margin-bottom: 0.5em;}#sk-container-id-2 div.sk-estimator:hover {background-color: #d4ebff;}#sk-container-id-2 div.sk-parallel-item::after {content: \"\";width: 100%;border-bottom: 1px solid gray;flex-grow: 1;}#sk-container-id-2 div.sk-label:hover label.sk-toggleable__label {background-color: #d4ebff;}#sk-container-id-2 div.sk-serial::before {content: \"\";position: absolute;border-left: 1px solid gray;box-sizing: border-box;top: 0;bottom: 0;left: 50%;z-index: 0;}#sk-container-id-2 div.sk-serial {display: flex;flex-direction: column;align-items: center;background-color: white;padding-right: 0.2em;padding-left: 0.2em;position: relative;}#sk-container-id-2 div.sk-item {position: relative;z-index: 1;}#sk-container-id-2 div.sk-parallel {display: flex;align-items: stretch;justify-content: center;background-color: white;position: relative;}#sk-container-id-2 div.sk-item::before, #sk-container-id-2 div.sk-parallel-item::before {content: \"\";position: absolute;border-left: 1px solid gray;box-sizing: border-box;top: 0;bottom: 0;left: 50%;z-index: -1;}#sk-container-id-2 div.sk-parallel-item {display: flex;flex-direction: column;z-index: 1;position: relative;background-color: white;}#sk-container-id-2 div.sk-parallel-item:first-child::after {align-self: flex-end;width: 50%;}#sk-container-id-2 div.sk-parallel-item:last-child::after {align-self: flex-start;width: 50%;}#sk-container-id-2 div.sk-parallel-item:only-child::after {width: 0;}#sk-container-id-2 div.sk-dashed-wrapped {border: 1px dashed gray;margin: 0 0.4em 0.5em 0.4em;box-sizing: border-box;padding-bottom: 0.4em;background-color: white;}#sk-container-id-2 div.sk-label label {font-family: monospace;font-weight: bold;display: inline-block;line-height: 1.2em;}#sk-container-id-2 div.sk-label-container {text-align: center;}#sk-container-id-2 div.sk-container {/* jupyter's `normalize.less` sets `[hidden] { display: none; }` but bootstrap.min.css set `[hidden] { display: none !important; }` so we also need the `!important` here to be able to override the default hidden behavior on the sphinx rendered scikit-learn.org. See: https://github.com/scikit-learn/scikit-learn/issues/21755 */display: inline-block !important;position: relative;}#sk-container-id-2 div.sk-text-repr-fallback {display: none;}</style><div id=\"sk-container-id-2\" class=\"sk-top-container\"><div class=\"sk-text-repr-fallback\"><pre>LogisticRegression(solver=&#x27;liblinear&#x27;)</pre><b>In a Jupyter environment, please rerun this cell to show the HTML representation or trust the notebook. <br />On GitHub, the HTML representation is unable to render, please try loading this page with nbviewer.org.</b></div><div class=\"sk-container\" hidden><div class=\"sk-item\"><div class=\"sk-estimator sk-toggleable\"><input class=\"sk-toggleable__control sk-hidden--visually\" id=\"sk-estimator-id-2\" type=\"checkbox\" checked><label for=\"sk-estimator-id-2\" class=\"sk-toggleable__label sk-toggleable__label-arrow\">LogisticRegression</label><div class=\"sk-toggleable__content\"><pre>LogisticRegression(solver=&#x27;liblinear&#x27;)</pre></div></div></div></div></div>"
            ]
          },
          "metadata": {},
          "execution_count": 82
        }
      ]
    },
    {
      "cell_type": "code",
      "source": [
        "y_pred = logreg.predict(X_test) "
      ],
      "metadata": {
        "id": "48nYToZHs53q"
      },
      "execution_count": 90,
      "outputs": []
    },
    {
      "cell_type": "code",
      "source": [
        "cnf_matrix = metrics.confusion_matrix(y_test, y_pred) \n",
        "cnf_matrix "
      ],
      "metadata": {
        "colab": {
          "base_uri": "https://localhost:8080/"
        },
        "id": "sbTZV41ItPFN",
        "outputId": "639b1ea1-f726-46a3-a35b-2df28a96ad48"
      },
      "execution_count": 91,
      "outputs": [
        {
          "output_type": "execute_result",
          "data": {
            "text/plain": [
              "array([[4021,    0],\n",
              "       [ 346,    2]])"
            ]
          },
          "metadata": {},
          "execution_count": 91
        }
      ]
    },
    {
      "cell_type": "code",
      "source": [
        "print(\"Accuracy:\",metrics.accuracy_score(y_test, y_pred)) \n",
        "print(\"Precision:\",metrics.precision_score(y_test, y_pred)) \n",
        "print(\"Recall:\",metrics.recall_score(y_test, y_pred)) "
      ],
      "metadata": {
        "colab": {
          "base_uri": "https://localhost:8080/"
        },
        "id": "3xqj8JGXtcNy",
        "outputId": "07c51913-23c0-4358-91e9-72186e990457"
      },
      "execution_count": 92,
      "outputs": [
        {
          "output_type": "stream",
          "name": "stdout",
          "text": [
            "Accuracy: 0.9208056763561455\n",
            "Precision: 1.0\n",
            "Recall: 0.005747126436781609\n"
          ]
        }
      ]
    },
    {
      "cell_type": "markdown",
      "source": [
        "**(2) Bagging**"
      ],
      "metadata": {
        "id": "XX8xGDHWwrsP"
      }
    },
    {
      "cell_type": "code",
      "source": [
        "bagging = BaggingClassifier(n_jobs=-1)\n",
        "bagging.fit(X_train, y_train)"
      ],
      "metadata": {
        "colab": {
          "base_uri": "https://localhost:8080/",
          "height": 75
        },
        "id": "H9h8pH66vgfJ",
        "outputId": "9e1a907a-0b9f-49d9-dfd6-e87a585c1f5a"
      },
      "execution_count": 96,
      "outputs": [
        {
          "output_type": "execute_result",
          "data": {
            "text/plain": [
              "BaggingClassifier(n_jobs=-1)"
            ],
            "text/html": [
              "<style>#sk-container-id-3 {color: black;background-color: white;}#sk-container-id-3 pre{padding: 0;}#sk-container-id-3 div.sk-toggleable {background-color: white;}#sk-container-id-3 label.sk-toggleable__label {cursor: pointer;display: block;width: 100%;margin-bottom: 0;padding: 0.3em;box-sizing: border-box;text-align: center;}#sk-container-id-3 label.sk-toggleable__label-arrow:before {content: \"▸\";float: left;margin-right: 0.25em;color: #696969;}#sk-container-id-3 label.sk-toggleable__label-arrow:hover:before {color: black;}#sk-container-id-3 div.sk-estimator:hover label.sk-toggleable__label-arrow:before {color: black;}#sk-container-id-3 div.sk-toggleable__content {max-height: 0;max-width: 0;overflow: hidden;text-align: left;background-color: #f0f8ff;}#sk-container-id-3 div.sk-toggleable__content pre {margin: 0.2em;color: black;border-radius: 0.25em;background-color: #f0f8ff;}#sk-container-id-3 input.sk-toggleable__control:checked~div.sk-toggleable__content {max-height: 200px;max-width: 100%;overflow: auto;}#sk-container-id-3 input.sk-toggleable__control:checked~label.sk-toggleable__label-arrow:before {content: \"▾\";}#sk-container-id-3 div.sk-estimator input.sk-toggleable__control:checked~label.sk-toggleable__label {background-color: #d4ebff;}#sk-container-id-3 div.sk-label input.sk-toggleable__control:checked~label.sk-toggleable__label {background-color: #d4ebff;}#sk-container-id-3 input.sk-hidden--visually {border: 0;clip: rect(1px 1px 1px 1px);clip: rect(1px, 1px, 1px, 1px);height: 1px;margin: -1px;overflow: hidden;padding: 0;position: absolute;width: 1px;}#sk-container-id-3 div.sk-estimator {font-family: monospace;background-color: #f0f8ff;border: 1px dotted black;border-radius: 0.25em;box-sizing: border-box;margin-bottom: 0.5em;}#sk-container-id-3 div.sk-estimator:hover {background-color: #d4ebff;}#sk-container-id-3 div.sk-parallel-item::after {content: \"\";width: 100%;border-bottom: 1px solid gray;flex-grow: 1;}#sk-container-id-3 div.sk-label:hover label.sk-toggleable__label {background-color: #d4ebff;}#sk-container-id-3 div.sk-serial::before {content: \"\";position: absolute;border-left: 1px solid gray;box-sizing: border-box;top: 0;bottom: 0;left: 50%;z-index: 0;}#sk-container-id-3 div.sk-serial {display: flex;flex-direction: column;align-items: center;background-color: white;padding-right: 0.2em;padding-left: 0.2em;position: relative;}#sk-container-id-3 div.sk-item {position: relative;z-index: 1;}#sk-container-id-3 div.sk-parallel {display: flex;align-items: stretch;justify-content: center;background-color: white;position: relative;}#sk-container-id-3 div.sk-item::before, #sk-container-id-3 div.sk-parallel-item::before {content: \"\";position: absolute;border-left: 1px solid gray;box-sizing: border-box;top: 0;bottom: 0;left: 50%;z-index: -1;}#sk-container-id-3 div.sk-parallel-item {display: flex;flex-direction: column;z-index: 1;position: relative;background-color: white;}#sk-container-id-3 div.sk-parallel-item:first-child::after {align-self: flex-end;width: 50%;}#sk-container-id-3 div.sk-parallel-item:last-child::after {align-self: flex-start;width: 50%;}#sk-container-id-3 div.sk-parallel-item:only-child::after {width: 0;}#sk-container-id-3 div.sk-dashed-wrapped {border: 1px dashed gray;margin: 0 0.4em 0.5em 0.4em;box-sizing: border-box;padding-bottom: 0.4em;background-color: white;}#sk-container-id-3 div.sk-label label {font-family: monospace;font-weight: bold;display: inline-block;line-height: 1.2em;}#sk-container-id-3 div.sk-label-container {text-align: center;}#sk-container-id-3 div.sk-container {/* jupyter's `normalize.less` sets `[hidden] { display: none; }` but bootstrap.min.css set `[hidden] { display: none !important; }` so we also need the `!important` here to be able to override the default hidden behavior on the sphinx rendered scikit-learn.org. See: https://github.com/scikit-learn/scikit-learn/issues/21755 */display: inline-block !important;position: relative;}#sk-container-id-3 div.sk-text-repr-fallback {display: none;}</style><div id=\"sk-container-id-3\" class=\"sk-top-container\"><div class=\"sk-text-repr-fallback\"><pre>BaggingClassifier(n_jobs=-1)</pre><b>In a Jupyter environment, please rerun this cell to show the HTML representation or trust the notebook. <br />On GitHub, the HTML representation is unable to render, please try loading this page with nbviewer.org.</b></div><div class=\"sk-container\" hidden><div class=\"sk-item\"><div class=\"sk-estimator sk-toggleable\"><input class=\"sk-toggleable__control sk-hidden--visually\" id=\"sk-estimator-id-3\" type=\"checkbox\" checked><label for=\"sk-estimator-id-3\" class=\"sk-toggleable__label sk-toggleable__label-arrow\">BaggingClassifier</label><div class=\"sk-toggleable__content\"><pre>BaggingClassifier(n_jobs=-1)</pre></div></div></div></div></div>"
            ]
          },
          "metadata": {},
          "execution_count": 96
        }
      ]
    },
    {
      "cell_type": "code",
      "source": [
        "y_pred2 = bagging.predict(X_test) "
      ],
      "metadata": {
        "id": "wxnLUOQlvuwG"
      },
      "execution_count": 97,
      "outputs": []
    },
    {
      "cell_type": "code",
      "source": [
        "cnf_matrix2 = metrics.confusion_matrix(y_test, y_pred2) \n",
        "cnf_matrix2"
      ],
      "metadata": {
        "colab": {
          "base_uri": "https://localhost:8080/"
        },
        "id": "ogGbTwrqv0MB",
        "outputId": "ca47f3ba-d8b1-4ca0-86bf-439e9c5dc772"
      },
      "execution_count": 98,
      "outputs": [
        {
          "output_type": "execute_result",
          "data": {
            "text/plain": [
              "array([[4000,   21],\n",
              "       [ 340,    8]])"
            ]
          },
          "metadata": {},
          "execution_count": 98
        }
      ]
    },
    {
      "cell_type": "code",
      "source": [
        "print(\"Accuracy:\",metrics.accuracy_score(y_test, y_pred2)) \n",
        "print(\"Precision:\",metrics.precision_score(y_test, y_pred2)) \n",
        "print(\"Recall:\",metrics.recall_score(y_test, y_pred2)) "
      ],
      "metadata": {
        "colab": {
          "base_uri": "https://localhost:8080/"
        },
        "id": "BCMY9rnCv56E",
        "outputId": "48efebe8-3717-4793-c657-a367e8e4d379"
      },
      "execution_count": 99,
      "outputs": [
        {
          "output_type": "stream",
          "name": "stdout",
          "text": [
            "Accuracy: 0.9173723964293888\n",
            "Precision: 0.27586206896551724\n",
            "Recall: 0.022988505747126436\n"
          ]
        }
      ]
    },
    {
      "cell_type": "markdown",
      "source": [
        "**(3) Random Forest**"
      ],
      "metadata": {
        "id": "cFqEnl3WxBOX"
      }
    },
    {
      "cell_type": "code",
      "source": [
        "randomForest = RandomForestClassifier(n_jobs=-1)\n",
        "randomForest.fit(X_train, y_train)"
      ],
      "metadata": {
        "colab": {
          "base_uri": "https://localhost:8080/",
          "height": 75
        },
        "id": "aShIbkrJxAS0",
        "outputId": "b2777aed-5bdc-4d20-8430-dbf3e4fbeb12"
      },
      "execution_count": 100,
      "outputs": [
        {
          "output_type": "execute_result",
          "data": {
            "text/plain": [
              "RandomForestClassifier(n_jobs=-1)"
            ],
            "text/html": [
              "<style>#sk-container-id-4 {color: black;background-color: white;}#sk-container-id-4 pre{padding: 0;}#sk-container-id-4 div.sk-toggleable {background-color: white;}#sk-container-id-4 label.sk-toggleable__label {cursor: pointer;display: block;width: 100%;margin-bottom: 0;padding: 0.3em;box-sizing: border-box;text-align: center;}#sk-container-id-4 label.sk-toggleable__label-arrow:before {content: \"▸\";float: left;margin-right: 0.25em;color: #696969;}#sk-container-id-4 label.sk-toggleable__label-arrow:hover:before {color: black;}#sk-container-id-4 div.sk-estimator:hover label.sk-toggleable__label-arrow:before {color: black;}#sk-container-id-4 div.sk-toggleable__content {max-height: 0;max-width: 0;overflow: hidden;text-align: left;background-color: #f0f8ff;}#sk-container-id-4 div.sk-toggleable__content pre {margin: 0.2em;color: black;border-radius: 0.25em;background-color: #f0f8ff;}#sk-container-id-4 input.sk-toggleable__control:checked~div.sk-toggleable__content {max-height: 200px;max-width: 100%;overflow: auto;}#sk-container-id-4 input.sk-toggleable__control:checked~label.sk-toggleable__label-arrow:before {content: \"▾\";}#sk-container-id-4 div.sk-estimator input.sk-toggleable__control:checked~label.sk-toggleable__label {background-color: #d4ebff;}#sk-container-id-4 div.sk-label input.sk-toggleable__control:checked~label.sk-toggleable__label {background-color: #d4ebff;}#sk-container-id-4 input.sk-hidden--visually {border: 0;clip: rect(1px 1px 1px 1px);clip: rect(1px, 1px, 1px, 1px);height: 1px;margin: -1px;overflow: hidden;padding: 0;position: absolute;width: 1px;}#sk-container-id-4 div.sk-estimator {font-family: monospace;background-color: #f0f8ff;border: 1px dotted black;border-radius: 0.25em;box-sizing: border-box;margin-bottom: 0.5em;}#sk-container-id-4 div.sk-estimator:hover {background-color: #d4ebff;}#sk-container-id-4 div.sk-parallel-item::after {content: \"\";width: 100%;border-bottom: 1px solid gray;flex-grow: 1;}#sk-container-id-4 div.sk-label:hover label.sk-toggleable__label {background-color: #d4ebff;}#sk-container-id-4 div.sk-serial::before {content: \"\";position: absolute;border-left: 1px solid gray;box-sizing: border-box;top: 0;bottom: 0;left: 50%;z-index: 0;}#sk-container-id-4 div.sk-serial {display: flex;flex-direction: column;align-items: center;background-color: white;padding-right: 0.2em;padding-left: 0.2em;position: relative;}#sk-container-id-4 div.sk-item {position: relative;z-index: 1;}#sk-container-id-4 div.sk-parallel {display: flex;align-items: stretch;justify-content: center;background-color: white;position: relative;}#sk-container-id-4 div.sk-item::before, #sk-container-id-4 div.sk-parallel-item::before {content: \"\";position: absolute;border-left: 1px solid gray;box-sizing: border-box;top: 0;bottom: 0;left: 50%;z-index: -1;}#sk-container-id-4 div.sk-parallel-item {display: flex;flex-direction: column;z-index: 1;position: relative;background-color: white;}#sk-container-id-4 div.sk-parallel-item:first-child::after {align-self: flex-end;width: 50%;}#sk-container-id-4 div.sk-parallel-item:last-child::after {align-self: flex-start;width: 50%;}#sk-container-id-4 div.sk-parallel-item:only-child::after {width: 0;}#sk-container-id-4 div.sk-dashed-wrapped {border: 1px dashed gray;margin: 0 0.4em 0.5em 0.4em;box-sizing: border-box;padding-bottom: 0.4em;background-color: white;}#sk-container-id-4 div.sk-label label {font-family: monospace;font-weight: bold;display: inline-block;line-height: 1.2em;}#sk-container-id-4 div.sk-label-container {text-align: center;}#sk-container-id-4 div.sk-container {/* jupyter's `normalize.less` sets `[hidden] { display: none; }` but bootstrap.min.css set `[hidden] { display: none !important; }` so we also need the `!important` here to be able to override the default hidden behavior on the sphinx rendered scikit-learn.org. See: https://github.com/scikit-learn/scikit-learn/issues/21755 */display: inline-block !important;position: relative;}#sk-container-id-4 div.sk-text-repr-fallback {display: none;}</style><div id=\"sk-container-id-4\" class=\"sk-top-container\"><div class=\"sk-text-repr-fallback\"><pre>RandomForestClassifier(n_jobs=-1)</pre><b>In a Jupyter environment, please rerun this cell to show the HTML representation or trust the notebook. <br />On GitHub, the HTML representation is unable to render, please try loading this page with nbviewer.org.</b></div><div class=\"sk-container\" hidden><div class=\"sk-item\"><div class=\"sk-estimator sk-toggleable\"><input class=\"sk-toggleable__control sk-hidden--visually\" id=\"sk-estimator-id-4\" type=\"checkbox\" checked><label for=\"sk-estimator-id-4\" class=\"sk-toggleable__label sk-toggleable__label-arrow\">RandomForestClassifier</label><div class=\"sk-toggleable__content\"><pre>RandomForestClassifier(n_jobs=-1)</pre></div></div></div></div></div>"
            ]
          },
          "metadata": {},
          "execution_count": 100
        }
      ]
    },
    {
      "cell_type": "code",
      "source": [
        "y_pred3 = randomForest.predict(X_test) "
      ],
      "metadata": {
        "id": "_GNLomWnxWsi"
      },
      "execution_count": 101,
      "outputs": []
    },
    {
      "cell_type": "code",
      "source": [
        "cnf_matrix3 = metrics.confusion_matrix(y_test, y_pred3) \n",
        "cnf_matrix3"
      ],
      "metadata": {
        "colab": {
          "base_uri": "https://localhost:8080/"
        },
        "id": "H-UieX-exSUN",
        "outputId": "673cadb9-2570-4b42-df78-09c358aded55"
      },
      "execution_count": 102,
      "outputs": [
        {
          "output_type": "execute_result",
          "data": {
            "text/plain": [
              "array([[4019,    2],\n",
              "       [ 346,    2]])"
            ]
          },
          "metadata": {},
          "execution_count": 102
        }
      ]
    },
    {
      "cell_type": "code",
      "source": [
        "print(\"Accuracy:\",metrics.accuracy_score(y_test, y_pred3)) \n",
        "print(\"Precision:\",metrics.precision_score(y_test, y_pred3)) \n",
        "print(\"Recall:\",metrics.recall_score(y_test, y_pred3)) "
      ],
      "metadata": {
        "colab": {
          "base_uri": "https://localhost:8080/"
        },
        "id": "imLAY3Ofxe4k",
        "outputId": "e554db0a-b022-41d2-a2c6-5715ddd2f292"
      },
      "execution_count": 103,
      "outputs": [
        {
          "output_type": "stream",
          "name": "stdout",
          "text": [
            "Accuracy: 0.9203479056992446\n",
            "Precision: 0.5\n",
            "Recall: 0.005747126436781609\n"
          ]
        }
      ]
    },
    {
      "cell_type": "markdown",
      "source": [
        "**(4) XGB**"
      ],
      "metadata": {
        "id": "Jjo_LBGxxs5E"
      }
    },
    {
      "cell_type": "code",
      "source": [
        "XGB = XGBClassifier(n_jobs=-1)\n",
        "XGB.fit(X_train, y_train)"
      ],
      "metadata": {
        "colab": {
          "base_uri": "https://localhost:8080/",
          "height": 249
        },
        "id": "Na_AB1Bbxrzw",
        "outputId": "abae751c-723d-4cd0-de01-ac902c9cab12"
      },
      "execution_count": 104,
      "outputs": [
        {
          "output_type": "execute_result",
          "data": {
            "text/plain": [
              "XGBClassifier(base_score=None, booster=None, callbacks=None,\n",
              "              colsample_bylevel=None, colsample_bynode=None,\n",
              "              colsample_bytree=None, early_stopping_rounds=None,\n",
              "              enable_categorical=False, eval_metric=None, feature_types=None,\n",
              "              gamma=None, gpu_id=None, grow_policy=None, importance_type=None,\n",
              "              interaction_constraints=None, learning_rate=None, max_bin=None,\n",
              "              max_cat_threshold=None, max_cat_to_onehot=None,\n",
              "              max_delta_step=None, max_depth=None, max_leaves=None,\n",
              "              min_child_weight=None, missing=nan, monotone_constraints=None,\n",
              "              n_estimators=100, n_jobs=-1, num_parallel_tree=None,\n",
              "              predictor=None, random_state=None, ...)"
            ],
            "text/html": [
              "<style>#sk-container-id-5 {color: black;background-color: white;}#sk-container-id-5 pre{padding: 0;}#sk-container-id-5 div.sk-toggleable {background-color: white;}#sk-container-id-5 label.sk-toggleable__label {cursor: pointer;display: block;width: 100%;margin-bottom: 0;padding: 0.3em;box-sizing: border-box;text-align: center;}#sk-container-id-5 label.sk-toggleable__label-arrow:before {content: \"▸\";float: left;margin-right: 0.25em;color: #696969;}#sk-container-id-5 label.sk-toggleable__label-arrow:hover:before {color: black;}#sk-container-id-5 div.sk-estimator:hover label.sk-toggleable__label-arrow:before {color: black;}#sk-container-id-5 div.sk-toggleable__content {max-height: 0;max-width: 0;overflow: hidden;text-align: left;background-color: #f0f8ff;}#sk-container-id-5 div.sk-toggleable__content pre {margin: 0.2em;color: black;border-radius: 0.25em;background-color: #f0f8ff;}#sk-container-id-5 input.sk-toggleable__control:checked~div.sk-toggleable__content {max-height: 200px;max-width: 100%;overflow: auto;}#sk-container-id-5 input.sk-toggleable__control:checked~label.sk-toggleable__label-arrow:before {content: \"▾\";}#sk-container-id-5 div.sk-estimator input.sk-toggleable__control:checked~label.sk-toggleable__label {background-color: #d4ebff;}#sk-container-id-5 div.sk-label input.sk-toggleable__control:checked~label.sk-toggleable__label {background-color: #d4ebff;}#sk-container-id-5 input.sk-hidden--visually {border: 0;clip: rect(1px 1px 1px 1px);clip: rect(1px, 1px, 1px, 1px);height: 1px;margin: -1px;overflow: hidden;padding: 0;position: absolute;width: 1px;}#sk-container-id-5 div.sk-estimator {font-family: monospace;background-color: #f0f8ff;border: 1px dotted black;border-radius: 0.25em;box-sizing: border-box;margin-bottom: 0.5em;}#sk-container-id-5 div.sk-estimator:hover {background-color: #d4ebff;}#sk-container-id-5 div.sk-parallel-item::after {content: \"\";width: 100%;border-bottom: 1px solid gray;flex-grow: 1;}#sk-container-id-5 div.sk-label:hover label.sk-toggleable__label {background-color: #d4ebff;}#sk-container-id-5 div.sk-serial::before {content: \"\";position: absolute;border-left: 1px solid gray;box-sizing: border-box;top: 0;bottom: 0;left: 50%;z-index: 0;}#sk-container-id-5 div.sk-serial {display: flex;flex-direction: column;align-items: center;background-color: white;padding-right: 0.2em;padding-left: 0.2em;position: relative;}#sk-container-id-5 div.sk-item {position: relative;z-index: 1;}#sk-container-id-5 div.sk-parallel {display: flex;align-items: stretch;justify-content: center;background-color: white;position: relative;}#sk-container-id-5 div.sk-item::before, #sk-container-id-5 div.sk-parallel-item::before {content: \"\";position: absolute;border-left: 1px solid gray;box-sizing: border-box;top: 0;bottom: 0;left: 50%;z-index: -1;}#sk-container-id-5 div.sk-parallel-item {display: flex;flex-direction: column;z-index: 1;position: relative;background-color: white;}#sk-container-id-5 div.sk-parallel-item:first-child::after {align-self: flex-end;width: 50%;}#sk-container-id-5 div.sk-parallel-item:last-child::after {align-self: flex-start;width: 50%;}#sk-container-id-5 div.sk-parallel-item:only-child::after {width: 0;}#sk-container-id-5 div.sk-dashed-wrapped {border: 1px dashed gray;margin: 0 0.4em 0.5em 0.4em;box-sizing: border-box;padding-bottom: 0.4em;background-color: white;}#sk-container-id-5 div.sk-label label {font-family: monospace;font-weight: bold;display: inline-block;line-height: 1.2em;}#sk-container-id-5 div.sk-label-container {text-align: center;}#sk-container-id-5 div.sk-container {/* jupyter's `normalize.less` sets `[hidden] { display: none; }` but bootstrap.min.css set `[hidden] { display: none !important; }` so we also need the `!important` here to be able to override the default hidden behavior on the sphinx rendered scikit-learn.org. See: https://github.com/scikit-learn/scikit-learn/issues/21755 */display: inline-block !important;position: relative;}#sk-container-id-5 div.sk-text-repr-fallback {display: none;}</style><div id=\"sk-container-id-5\" class=\"sk-top-container\"><div class=\"sk-text-repr-fallback\"><pre>XGBClassifier(base_score=None, booster=None, callbacks=None,\n",
              "              colsample_bylevel=None, colsample_bynode=None,\n",
              "              colsample_bytree=None, early_stopping_rounds=None,\n",
              "              enable_categorical=False, eval_metric=None, feature_types=None,\n",
              "              gamma=None, gpu_id=None, grow_policy=None, importance_type=None,\n",
              "              interaction_constraints=None, learning_rate=None, max_bin=None,\n",
              "              max_cat_threshold=None, max_cat_to_onehot=None,\n",
              "              max_delta_step=None, max_depth=None, max_leaves=None,\n",
              "              min_child_weight=None, missing=nan, monotone_constraints=None,\n",
              "              n_estimators=100, n_jobs=-1, num_parallel_tree=None,\n",
              "              predictor=None, random_state=None, ...)</pre><b>In a Jupyter environment, please rerun this cell to show the HTML representation or trust the notebook. <br />On GitHub, the HTML representation is unable to render, please try loading this page with nbviewer.org.</b></div><div class=\"sk-container\" hidden><div class=\"sk-item\"><div class=\"sk-estimator sk-toggleable\"><input class=\"sk-toggleable__control sk-hidden--visually\" id=\"sk-estimator-id-5\" type=\"checkbox\" checked><label for=\"sk-estimator-id-5\" class=\"sk-toggleable__label sk-toggleable__label-arrow\">XGBClassifier</label><div class=\"sk-toggleable__content\"><pre>XGBClassifier(base_score=None, booster=None, callbacks=None,\n",
              "              colsample_bylevel=None, colsample_bynode=None,\n",
              "              colsample_bytree=None, early_stopping_rounds=None,\n",
              "              enable_categorical=False, eval_metric=None, feature_types=None,\n",
              "              gamma=None, gpu_id=None, grow_policy=None, importance_type=None,\n",
              "              interaction_constraints=None, learning_rate=None, max_bin=None,\n",
              "              max_cat_threshold=None, max_cat_to_onehot=None,\n",
              "              max_delta_step=None, max_depth=None, max_leaves=None,\n",
              "              min_child_weight=None, missing=nan, monotone_constraints=None,\n",
              "              n_estimators=100, n_jobs=-1, num_parallel_tree=None,\n",
              "              predictor=None, random_state=None, ...)</pre></div></div></div></div></div>"
            ]
          },
          "metadata": {},
          "execution_count": 104
        }
      ]
    },
    {
      "cell_type": "code",
      "source": [
        "y_pred4 = XGB.predict(X_test) "
      ],
      "metadata": {
        "id": "SjNnmn7hx9YP"
      },
      "execution_count": 105,
      "outputs": []
    },
    {
      "cell_type": "code",
      "source": [
        "cnf_matrix4 = metrics.confusion_matrix(y_test, y_pred4) \n",
        "cnf_matrix4"
      ],
      "metadata": {
        "colab": {
          "base_uri": "https://localhost:8080/"
        },
        "id": "_gv1Opb1yEAw",
        "outputId": "2744651a-a33d-4a72-9a86-7465ece5e62f"
      },
      "execution_count": 106,
      "outputs": [
        {
          "output_type": "execute_result",
          "data": {
            "text/plain": [
              "array([[3994,   27],\n",
              "       [ 339,    9]])"
            ]
          },
          "metadata": {},
          "execution_count": 106
        }
      ]
    },
    {
      "cell_type": "code",
      "source": [
        "print(\"Accuracy:\",metrics.accuracy_score(y_test, y_pred4)) \n",
        "print(\"Precision:\",metrics.precision_score(y_test, y_pred4)) \n",
        "print(\"Recall:\",metrics.recall_score(y_test, y_pred4)) "
      ],
      "metadata": {
        "colab": {
          "base_uri": "https://localhost:8080/"
        },
        "id": "87dN5LjuyJPt",
        "outputId": "6fca254d-0320-454b-aa4a-18089e33c55c"
      },
      "execution_count": 107,
      "outputs": [
        {
          "output_type": "stream",
          "name": "stdout",
          "text": [
            "Accuracy: 0.9162279697871366\n",
            "Precision: 0.25\n",
            "Recall: 0.02586206896551724\n"
          ]
        }
      ]
    },
    {
      "cell_type": "markdown",
      "source": [
        "## Data Insights"
      ],
      "metadata": {
        "id": "mBn179FrU2rE"
      }
    },
    {
      "cell_type": "code",
      "source": [
        "import pandas as pd\n",
        "df_exp = pd.read_csv('/content/application_train.csv')\n",
        "df_exp[\"TARGET\"].value_counts()"
      ],
      "metadata": {
        "colab": {
          "base_uri": "https://localhost:8080/"
        },
        "id": "CB5Qr5J_U6hf",
        "outputId": "79bf51e4-214d-45f5-f095-0b742c417f37"
      },
      "execution_count": 12,
      "outputs": [
        {
          "output_type": "execute_result",
          "data": {
            "text/plain": [
              "0    5341\n",
              "1     448\n",
              "Name: TARGET, dtype: int64"
            ]
          },
          "metadata": {},
          "execution_count": 12
        }
      ]
    },
    {
      "cell_type": "code",
      "source": [
        "import plotly.express as px\n",
        "fig = px.box(df_exp, \n",
        "             x=\"DAYS_BIRTH\",  \n",
        "             color=\"TARGET\", \n",
        "             title=\"TARGET Based on DAYS_BIRTH\", \n",
        "            )\n",
        "fig.show()"
      ],
      "metadata": {
        "colab": {
          "base_uri": "https://localhost:8080/",
          "height": 542
        },
        "id": "58eTfyChYHuv",
        "outputId": "63a01e31-f532-46a0-8bf0-390a1b0ae369"
      },
      "execution_count": 15,
      "outputs": [
        {
          "output_type": "display_data",
          "data": {
            "text/html": [
              "<html>\n",
              "<head><meta charset=\"utf-8\" /></head>\n",
              "<body>\n",
              "    <div>            <script src=\"https://cdnjs.cloudflare.com/ajax/libs/mathjax/2.7.5/MathJax.js?config=TeX-AMS-MML_SVG\"></script><script type=\"text/javascript\">if (window.MathJax && window.MathJax.Hub && window.MathJax.Hub.Config) {window.MathJax.Hub.Config({SVG: {font: \"STIX-Web\"}});}</script>                <script type=\"text/javascript\">window.PlotlyConfig = {MathJaxConfig: 'local'};</script>\n",
              "        <script src=\"https://cdn.plot.ly/plotly-2.18.2.min.js\"></script>                <div id=\"4b29c971-d6c1-4d31-a564-24e71a25e2eb\" class=\"plotly-graph-div\" style=\"height:525px; width:100%;\"></div>            <script type=\"text/javascript\">                                    window.PLOTLYENV=window.PLOTLYENV || {};                                    if (document.getElementById(\"4b29c971-d6c1-4d31-a564-24e71a25e2eb\")) {                    Plotly.newPlot(                        \"4b29c971-d6c1-4d31-a564-24e71a25e2eb\",                        [{\"alignmentgroup\":\"True\",\"hovertemplate\":\"TARGET=1<br>DAYS_BIRTH=%{x}<extra></extra>\",\"legendgroup\":\"1\",\"marker\":{\"color\":\"#636efa\"},\"name\":\"1\",\"notched\":false,\"offsetgroup\":\"1\",\"orientation\":\"h\",\"showlegend\":true,\"x\":[-9461,-18724,-17482,-13384,-24794,-10199,-10526,-16667,-17538,-7989,-15326,-10127,-12824,-23127,-9157,-17847,-11356,-12209,-8292,-22078,-13989,-13707,-20200,-18302,-8038,-18767,-13923,-13715,-11353,-9684,-9289,-10616,-10037,-8063,-13481,-21022,-11405,-15152,-11653,-16582,-21107,-12135,-12893,-21818,-10800,-22181,-19311,-9904,-22562,-16532,-14655,-18740,-13913,-21838,-22167,-14702,-20527,-11073,-12755,-11952,-15181,-13955,-14122,-16015,-9082,-8824,-15481,-16492,-11006,-12102,-19862,-10188,-12676,-14073,-8402,-15930,-12165,-20975,-16333,-15061,-11025,-21167,-16476,-8757,-14441,-15124,-10164,-9006,-13251,-14492,-15138,-10323,-10072,-13357,-11922,-14317,-9900,-9912,-18388,-21740,-11238,-15753,-17188,-16835,-9207,-13840,-22856,-11795,-8075,-15308,-22025,-12022,-10152,-20752,-13795,-23299,-21179,-9088,-10581,-13274,-8633,-17425,-8474,-19085,-14646,-9108,-11410,-18471,-21383,-18276,-15942,-14510,-9830,-16996,-18228,-16096,-12184,-13183,-13707,-13207,-19147,-11357,-9679,-15976,-21713,-13140,-16557,-8618,-15747,-18916,-9939,-13675,-16017,-10185,-21679,-22898,-24760,-20536,-8072,-20311,-14059,-12946,-23755,-21478,-10039,-12415,-19644,-12265,-14601,-10884,-13597,-19032,-12805,-20074,-16785,-19824,-11208,-10262,-21977,-12733,-13618,-13232,-14309,-23243,-19262,-8710,-13281,-24853,-7763,-15438,-21622,-14340,-11935,-14340,-22770,-22668,-12449,-16314,-12062,-22542,-16624,-13193,-14615,-17417,-16100,-15472,-14248,-15002,-23025,-11425,-18255,-11075,-9839,-23923,-13973,-15523,-17833,-14193,-11703,-8511,-11849,-21382,-18735,-17270,-10595,-23085,-19402,-13106,-9310,-12301,-18448,-11077,-10551,-10057,-11155,-11862,-19411,-19470,-10801,-8679,-11526,-8390,-17760,-16000,-8387,-23758,-17442,-21601,-19576,-18556,-9917,-9721,-13856,-16292,-20817,-17130,-9571,-17714,-11339,-11827,-20716,-15901,-10600,-18610,-19809,-14636,-8710,-19527,-17030,-20783,-10794,-23669,-23748,-11409,-10776,-18133,-12748,-22482,-20170,-11632,-9476,-18358,-22881,-21586,-19870,-11152,-10962,-9026,-16545,-17546,-14422,-19265,-14393,-9711,-16521,-17047,-20050,-18427,-12875,-21012,-15996,-11941,-18808,-17066,-11661,-19863,-11373,-15665,-20458,-10449,-13453,-15440,-16511,-12036,-9904,-10089,-12460,-15578,-8938,-16195,-13936,-17697,-16045,-20795,-13700,-15482,-16043,-12957,-18796,-17735,-11775,-11159,-11391,-18386,-11699,-16981,-15143,-21748,-10771,-10301,-11907,-12214,-8423,-11285,-12518,-17535,-14640,-13973,-12154,-16462,-22698,-13001,-20658,-13744,-17979,-15071,-12669,-14444,-13176,-17873,-18916,-19176,-16349,-15915,-18079,-17851,-22432,-11028,-10092,-21679,-10572,-12846,-11225,-20114,-15569,-8608,-10325,-14238,-16514,-22600,-13160,-10744,-18990,-19659,-17871,-11164,-9975,-12529,-10328,-10842,-11453,-12650,-16657,-18590,-10030,-12666,-10121,-22312,-16163,-21198,-12680,-10410,-21072,-15331,-19653,-10798,-15056,-21139,-16426,-12568,-11312,-11279,-8070,-12780,-17257,-11167,-14450,-10930,-17775,-10346,-12898,-14142,-18009,-15154,-15072,-16280,-10181,-14874,-18617,-10896,-19641,-14255,-15640,-10145,-9822,-18273,-16430,-10950,-16716,-9408,-10257,-14291,-11860,-16020,-14150,-16877,-14379,-11657],\"x0\":\" \",\"xaxis\":\"x\",\"y0\":\" \",\"yaxis\":\"y\",\"type\":\"box\"},{\"alignmentgroup\":\"True\",\"hovertemplate\":\"TARGET=0<br>DAYS_BIRTH=%{x}<extra></extra>\",\"legendgroup\":\"0\",\"marker\":{\"color\":\"#EF553B\"},\"name\":\"0\",\"notched\":false,\"offsetgroup\":\"0\",\"orientation\":\"h\",\"showlegend\":true,\"x\":[-16765,-19046,-19005,-19932,-16941,-13778,-18850,-20099,-14469,-10197,-20417,-13439,-14086,-14583,-8728,-12931,-9776,-17718,-11348,-18252,-14815,-11146,-24827,-11286,-19334,-15948,-9994,-10341,-15280,-11144,-12974,-11694,-15997,-12158,-17199,-21077,-23920,-16126,-16971,-23548,-9827,-7974,-20373,-20121,-19727,-18264,-12406,-18632,-12282,-10473,-18611,-12955,-21621,-18248,-14186,-20544,-20121,-7907,-22843,-12240,-13866,-12049,-19550,-15359,-11956,-10848,-12009,-15406,-14860,-11187,-14264,-17542,-19467,-9666,-18253,-22935,-18693,-17527,-17390,-23032,-15909,-18138,-14321,-21112,-18556,-19810,-12780,-10744,-10485,-15137,-10734,-15371,-14751,-22471,-11142,-9650,-16798,-10954,-23719,-24051,-21613,-12900,-21341,-9415,-13830,-23656,-9207,-10085,-19829,-15949,-20284,-14339,-13286,-9223,-13379,-22881,-16759,-16282,-22959,-16142,-16340,-9203,-16522,-16083,-18413,-12157,-11944,-14235,-16086,-12348,-14645,-16219,-21061,-19718,-16097,-21961,-14359,-15127,-11633,-14597,-16296,-17682,-14311,-19286,-11375,-15581,-13558,-24729,-20215,-21861,-15323,-16807,-13972,-21819,-17879,-12805,-10887,-11568,-12019,-13116,-20858,-16891,-12147,-22994,-25104,-19525,-18302,-12027,-16518,-12648,-16475,-14033,-13873,-21703,-19785,-13620,-13210,-11177,-14823,-23656,-14091,-14144,-13584,-10010,-13957,-17947,-19070,-17850,-18341,-16614,-15887,-23187,-13803,-12994,-20191,-11978,-20945,-9720,-17103,-19914,-22389,-15293,-11259,-19530,-17715,-21646,-15377,-23090,-16273,-20672,-10038,-14974,-13640,-23456,-23037,-8302,-18810,-13685,-10571,-11180,-21497,-9135,-15612,-23650,-12246,-21812,-23946,-17957,-12585,-14445,-10755,-24891,-9907,-14811,-14726,-11881,-21185,-14247,-20984,-17186,-10427,-16223,-19045,-9105,-24006,-22794,-9011,-16546,-14534,-16098,-14659,-22510,-10788,-10203,-15076,-17013,-9627,-11631,-11996,-13534,-19297,-18213,-10471,-20385,-20317,-15864,-19997,-23444,-10442,-18665,-23420,-9324,-21292,-21535,-13080,-20348,-8400,-10935,-11287,-21154,-17674,-21419,-10390,-23338,-22759,-22606,-17941,-9259,-9178,-21140,-9166,-14923,-19676,-17099,-17438,-14882,-17498,-20435,-11788,-11285,-19323,-23195,-14768,-21909,-15013,-14975,-21552,-18831,-14252,-15017,-19003,-15023,-11223,-13754,-13299,-18929,-14216,-11799,-18315,-12325,-14966,-23721,-16719,-22767,-20010,-23187,-19780,-10615,-8598,-20846,-11582,-15781,-10547,-14239,-19410,-11039,-22768,-12360,-13552,-16129,-13284,-20434,-14283,-19082,-16376,-12982,-13455,-19998,-15438,-8650,-19642,-10347,-16048,-17860,-16462,-19345,-21401,-23903,-20171,-18715,-23054,-11693,-16832,-19501,-12191,-13530,-11523,-12360,-8922,-20646,-15832,-9842,-15868,-16395,-14402,-9825,-15783,-17935,-18287,-10485,-15601,-15150,-16245,-23045,-20165,-18469,-11935,-9496,-10046,-17599,-18579,-23794,-16476,-15300,-19833,-12018,-12662,-18651,-13494,-18627,-8956,-16468,-13229,-18522,-13816,-16121,-22524,-18271,-17222,-14671,-7747,-18268,-21987,-11519,-18344,-15187,-17668,-20792,-22681,-19031,-20143,-20523,-10933,-18278,-10936,-15191,-13227,-9393,-14608,-8857,-18035,-12349,-18437,-15363,-13986,-20488,-14357,-11418,-16060,-14678,-16388,-20173,-13583,-19058,-23539,-16540,-13768,-11980,-12293,-22735,-10825,-19499,-20589,-21157,-12232,-15227,-16304,-20934,-18125,-13162,-9970,-19110,-13482,-18280,-22443,-12803,-23169,-11178,-15953,-19008,-19484,-22838,-16465,-19092,-12327,-22291,-17999,-11816,-10053,-15923,-13693,-14324,-15538,-17196,-18673,-13405,-16117,-14751,-13509,-19862,-8433,-9920,-20372,-20597,-9250,-13281,-17437,-14573,-8126,-18294,-11156,-17388,-18204,-17789,-23759,-11230,-15061,-15671,-17275,-9524,-17515,-16195,-13146,-12515,-12265,-22883,-13468,-17573,-11887,-21893,-23185,-12463,-12340,-17142,-12749,-12838,-22021,-12394,-11767,-19763,-20419,-19215,-8948,-18926,-14739,-12520,-16848,-17426,-20092,-7766,-10691,-20113,-14731,-22990,-19741,-12052,-16313,-14960,-22503,-18723,-10598,-19968,-16794,-16781,-16773,-17327,-20313,-20020,-13137,-12257,-13103,-21752,-15705,-8454,-16215,-14354,-17426,-15200,-20648,-14590,-17342,-22881,-25050,-17781,-17233,-22460,-16960,-17541,-8746,-11455,-15111,-19139,-11981,-16297,-12309,-8993,-19605,-16194,-14239,-14809,-11487,-10231,-16914,-17853,-16938,-13830,-10230,-14351,-13879,-14569,-20629,-24181,-10939,-10643,-8685,-20206,-19989,-17806,-16540,-17016,-13432,-10598,-19361,-18355,-13419,-16290,-11518,-10630,-14385,-13962,-20438,-13877,-17087,-23049,-19164,-8384,-12405,-18323,-20681,-10565,-20204,-15573,-9543,-21306,-16625,-16590,-10114,-16329,-9365,-13037,-21351,-13778,-16658,-21411,-21314,-9528,-19169,-11847,-12200,-11809,-18178,-14014,-18711,-12643,-20220,-13706,-15069,-21704,-22725,-19335,-11763,-20895,-18007,-21579,-11653,-16219,-21435,-8759,-10662,-21082,-10237,-14966,-14804,-16133,-19594,-10072,-16053,-8675,-11667,-19235,-11395,-10140,-23491,-12757,-14816,-21264,-13978,-17796,-19794,-13176,-12418,-16951,-16862,-23630,-14907,-14004,-10241,-14206,-11485,-23511,-9132,-13525,-15453,-24645,-19129,-16645,-18840,-7865,-19776,-21642,-10303,-13465,-16989,-16851,-22637,-7705,-14661,-9106,-10960,-12106,-15217,-24680,-18874,-12385,-20108,-21817,-18284,-16419,-11916,-16054,-8087,-22478,-14164,-17254,-15463,-17432,-17876,-13291,-15113,-16309,-17523,-20193,-8604,-10582,-21910,-10548,-9927,-15317,-23039,-13765,-16860,-21738,-12333,-14897,-11726,-15300,-16797,-14238,-16037,-14774,-18013,-14259,-11649,-12406,-14740,-23236,-16683,-19227,-19133,-15301,-16228,-11700,-23079,-9694,-17852,-13850,-11218,-9455,-19919,-22321,-16940,-10014,-16656,-14664,-14565,-12024,-10534,-12956,-13465,-18493,-11083,-8545,-17641,-17825,-25059,-15981,-11001,-20693,-17899,-17924,-10973,-21516,-17468,-17231,-8664,-11869,-14391,-14601,-14276,-20071,-19860,-10121,-11574,-12294,-14471,-15044,-22839,-15140,-14105,-11041,-19367,-17295,-14077,-14102,-18397,-22443,-21525,-16101,-21493,-22251,-21057,-18007,-13818,-20719,-15883,-21280,-21204,-11411,-21590,-11264,-22346,-19002,-16892,-23064,-20186,-15085,-15928,-15839,-13646,-16600,-10729,-19533,-7859,-11272,-18452,-15017,-12229,-13928,-17648,-15202,-19517,-8880,-12093,-14300,-18735,-20426,-15241,-17660,-15787,-16265,-16360,-13670,-8935,-20836,-14562,-10476,-10867,-13233,-8587,-17650,-19642,-20289,-23643,-21192,-11215,-10769,-19419,-13141,-11742,-22925,-10453,-19452,-11239,-13461,-13529,-10209,-15521,-18591,-12409,-10218,-14390,-18656,-10128,-15267,-12198,-20266,-21647,-23282,-24103,-13963,-12926,-23942,-15175,-10718,-8991,-20726,-11944,-16496,-10265,-18033,-13336,-22427,-13802,-20077,-17801,-21202,-14075,-21027,-16204,-17530,-23218,-10419,-17551,-23192,-8133,-16745,-10334,-10076,-10144,-21461,-19380,-16061,-13713,-9914,-12693,-19723,-20035,-15872,-19937,-14328,-15457,-11005,-10486,-18931,-15890,-19288,-14193,-21323,-15593,-10467,-20891,-8145,-10792,-12021,-11622,-12855,-24235,-17974,-13787,-18800,-11955,-13876,-15457,-11768,-17964,-20475,-20715,-10810,-9801,-10560,-8993,-23075,-11284,-23236,-15412,-9127,-11699,-13273,-11927,-14287,-21030,-23035,-7938,-9166,-18983,-11729,-16255,-20300,-21458,-11639,-18040,-22022,-14882,-11508,-23215,-10839,-8316,-19446,-13616,-18776,-13432,-23962,-9175,-21642,-8179,-11106,-19548,-22731,-21454,-21246,-23153,-18880,-11213,-19504,-10392,-18777,-20666,-15347,-21172,-19104,-19459,-10850,-16677,-16627,-16071,-9722,-9388,-10597,-22246,-11630,-22337,-21498,-20166,-19572,-16180,-10333,-19940,-23815,-19009,-8827,-10108,-17265,-16639,-23629,-15155,-20728,-23352,-20063,-10056,-22407,-21641,-11741,-8230,-8098,-9672,-19982,-15009,-20548,-19340,-8987,-18037,-21031,-10866,-13914,-22928,-13964,-9533,-9808,-20385,-10361,-12083,-18461,-13418,-15532,-20518,-16475,-15312,-13825,-19275,-10238,-12068,-21984,-18142,-11513,-17406,-18131,-12255,-19831,-15466,-15597,-21918,-19768,-15126,-20989,-11796,-15293,-19541,-11686,-12170,-15926,-15053,-12821,-18909,-24305,-21717,-23339,-22079,-17076,-8592,-17243,-11392,-8953,-19384,-15059,-16617,-22170,-13933,-13226,-21425,-23710,-10789,-14514,-9615,-19029,-11679,-20395,-12034,-8497,-8258,-14034,-12648,-13822,-10373,-20175,-22159,-9790,-16496,-18435,-17512,-16893,-21766,-10022,-14206,-17596,-8957,-11361,-22392,-21770,-18174,-13465,-21991,-16227,-15944,-22909,-18068,-12775,-18805,-16660,-11425,-10924,-18597,-19312,-11881,-18738,-13969,-20905,-15351,-14321,-24646,-11697,-14032,-17615,-12598,-22373,-22424,-11867,-8234,-17537,-19619,-22910,-15713,-22337,-17714,-15405,-18424,-17678,-10629,-20465,-10305,-14923,-14222,-17277,-17140,-19728,-12167,-19032,-23968,-20276,-13581,-14814,-15912,-21780,-11710,-20068,-14012,-14386,-10902,-22256,-10075,-22627,-16202,-14185,-16121,-12117,-18975,-18311,-12585,-17179,-15245,-11085,-15628,-16536,-10647,-17040,-14620,-22423,-14210,-20243,-18181,-21943,-22362,-11559,-15489,-18012,-18198,-11663,-21371,-22983,-16978,-13609,-8981,-23140,-22432,-16524,-21268,-9757,-17252,-18533,-10032,-10255,-20020,-12820,-9938,-12438,-20341,-17651,-20171,-18659,-16415,-24406,-16290,-18518,-21982,-22123,-21951,-12358,-14194,-14959,-20468,-20080,-15782,-23014,-17596,-14039,-10507,-21112,-16391,-11499,-19418,-10793,-12183,-12507,-13533,-19946,-21313,-22891,-22637,-10719,-14862,-9796,-17377,-14371,-18405,-13243,-20247,-15597,-11449,-22265,-19651,-17547,-20350,-13070,-13346,-21670,-14090,-9090,-15863,-16934,-11331,-15873,-19705,-8159,-14937,-16970,-9142,-18516,-13387,-15307,-17057,-9575,-10031,-15113,-13747,-24693,-21601,-19453,-11532,-20026,-21468,-19765,-16791,-16578,-12718,-12087,-13374,-18088,-13398,-15811,-23602,-24138,-14849,-14639,-19636,-15168,-12557,-14894,-19971,-17150,-13960,-21363,-11893,-18910,-12458,-17805,-7979,-16273,-14985,-17121,-23496,-12364,-8031,-13343,-15354,-16499,-13988,-13989,-18857,-21791,-13159,-23621,-13969,-17965,-21040,-22484,-15702,-15789,-18561,-11628,-11247,-18047,-12657,-20796,-21122,-9868,-20149,-18206,-20687,-21692,-13633,-16636,-22885,-14153,-14867,-17150,-19914,-15855,-15397,-16419,-13177,-8220,-10900,-8350,-19563,-18896,-12451,-17479,-19458,-11123,-13723,-12912,-14026,-18320,-16670,-12126,-22633,-14063,-16471,-12176,-12229,-13580,-13581,-9303,-21797,-20829,-23298,-21234,-20572,-8350,-17541,-16309,-14511,-10974,-11430,-13328,-12784,-18397,-11010,-15526,-15879,-19249,-16135,-13617,-20579,-17039,-23218,-11515,-18318,-15312,-12141,-11755,-18442,-12593,-24132,-24485,-14061,-12474,-9988,-18283,-20305,-11679,-21988,-20292,-13434,-20839,-18813,-21630,-17890,-17471,-15745,-15326,-10053,-21294,-12295,-21918,-12418,-18138,-13006,-23957,-9748,-20678,-10071,-19898,-19279,-13832,-22738,-14834,-11935,-21830,-17427,-16960,-20503,-21945,-23123,-23444,-15710,-12044,-8223,-21762,-22147,-10782,-11273,-18726,-14798,-8716,-15801,-16839,-18095,-23172,-23061,-21855,-11891,-14348,-22399,-22588,-23371,-24122,-24612,-19097,-10457,-9535,-11714,-20205,-10451,-10439,-11649,-17179,-15582,-14788,-18915,-23119,-10901,-23382,-20474,-18248,-18079,-10792,-20087,-20070,-15441,-15640,-10280,-23295,-12975,-19173,-10870,-8520,-18162,-20093,-18445,-21631,-14415,-17813,-15367,-22789,-14111,-13768,-15918,-8334,-20342,-14420,-22333,-16393,-12477,-12051,-14986,-16982,-10878,-9270,-19698,-8696,-9875,-17760,-13467,-14447,-14158,-18966,-10180,-7835,-12589,-18221,-11196,-13614,-12979,-16271,-12831,-15172,-15067,-19738,-11958,-11257,-18636,-17916,-16862,-19229,-20683,-21147,-15641,-14495,-17165,-15046,-14067,-10342,-11333,-10827,-14801,-11961,-15727,-16591,-20095,-18954,-18875,-13773,-14877,-10671,-8103,-19039,-18871,-16376,-23235,-13427,-7714,-18399,-9367,-17985,-21948,-21471,-10016,-19003,-8098,-13738,-14534,-14897,-13523,-9194,-18430,-9197,-17344,-15724,-19155,-11582,-15422,-12936,-21888,-11855,-9080,-15808,-18158,-18454,-11757,-16310,-11831,-17406,-11355,-17531,-13891,-21596,-12427,-12441,-16763,-13345,-15264,-15919,-12765,-16107,-17998,-15209,-17231,-15722,-21517,-13675,-21282,-17421,-16598,-21244,-14491,-16672,-9979,-17211,-18100,-12913,-10048,-22487,-15222,-20532,-15864,-19696,-15617,-22344,-22029,-14868,-17851,-13723,-13124,-9417,-17259,-15021,-16002,-18053,-9111,-23747,-23792,-15566,-20030,-12217,-16955,-13429,-9932,-17788,-20510,-18942,-15505,-10930,-13223,-13772,-21528,-18397,-12870,-20505,-17571,-14502,-19457,-23962,-21168,-14009,-12770,-20130,-10280,-15888,-19010,-18396,-20471,-18652,-11991,-12526,-16710,-15378,-13487,-18270,-11838,-18930,-9503,-12890,-18782,-21409,-16944,-12916,-15874,-12696,-14842,-15266,-11136,-21018,-8113,-18977,-10696,-12040,-16328,-22668,-16546,-13222,-11756,-10712,-15113,-21497,-11047,-16974,-13810,-14345,-9295,-10163,-19599,-13408,-12221,-14792,-18174,-22366,-11700,-11729,-10118,-18838,-8132,-14850,-13098,-22604,-23346,-15484,-23723,-18641,-10189,-9699,-12613,-24314,-10347,-11168,-9271,-21001,-17157,-10376,-23918,-10114,-16624,-20924,-21329,-21432,-9912,-19757,-16483,-20835,-11332,-12195,-18223,-24537,-9286,-19895,-21159,-22791,-17567,-14327,-21771,-12661,-17199,-15666,-22308,-24695,-13605,-23372,-15848,-22149,-22948,-19044,-7708,-10244,-14406,-21285,-9794,-15395,-11833,-23878,-21654,-15085,-17232,-14209,-14744,-10100,-15957,-17805,-18793,-10993,-12112,-12054,-12786,-13735,-18437,-24870,-10186,-22514,-15267,-20845,-10441,-23252,-12492,-17481,-13478,-7836,-15709,-14505,-11640,-14284,-13703,-15507,-18067,-10505,-18980,-22033,-9934,-16228,-18835,-15270,-14477,-22645,-15058,-21747,-15932,-11750,-14713,-13504,-20081,-15993,-17435,-18202,-11490,-12062,-15911,-12605,-16523,-13673,-11089,-10969,-22437,-15528,-17091,-23100,-16545,-11425,-19315,-23728,-24890,-13081,-10773,-12995,-21056,-22323,-13583,-11459,-20988,-23516,-19840,-19386,-11102,-14765,-16874,-19389,-13913,-10415,-9914,-14454,-16058,-22096,-12086,-12866,-20042,-20781,-24645,-14964,-20848,-15725,-21203,-22713,-17562,-22457,-23326,-13758,-22921,-9315,-19795,-17817,-17216,-20866,-10161,-11132,-16432,-15649,-12021,-23186,-22586,-10140,-22802,-17417,-15474,-12437,-13952,-17552,-13275,-21079,-11045,-22042,-8534,-19079,-8348,-18914,-14287,-17109,-10388,-15822,-9924,-16261,-8954,-13033,-11593,-12108,-14740,-21133,-17790,-18959,-24781,-15089,-19862,-18413,-16688,-11864,-16199,-14676,-16995,-9120,-22594,-19800,-19937,-20742,-22193,-11189,-18145,-12270,-13888,-14997,-17686,-21814,-19017,-15941,-21626,-15117,-17764,-14896,-18840,-11093,-14043,-20254,-10445,-13327,-17498,-18516,-11341,-10027,-19004,-19687,-10505,-15576,-12621,-13606,-22314,-10008,-22912,-22431,-11061,-15902,-19219,-13230,-12439,-24646,-19499,-18144,-22600,-16150,-18012,-19854,-19330,-19261,-18748,-17813,-9707,-8942,-15509,-16454,-9815,-10918,-21577,-21250,-13180,-23298,-12703,-15755,-15124,-21224,-13632,-9324,-12785,-15319,-22472,-11419,-10665,-10695,-21083,-14881,-10298,-21934,-10720,-23034,-19768,-24506,-16783,-11199,-13905,-18232,-19584,-10101,-8643,-16749,-10266,-21715,-15979,-20781,-23381,-8656,-17136,-20680,-14535,-15665,-12064,-20783,-13279,-20549,-21855,-21952,-14905,-25007,-18300,-19737,-11687,-21200,-8480,-13625,-11892,-22177,-15483,-11420,-9175,-20665,-20637,-19764,-18266,-15971,-9539,-10587,-21977,-9494,-16635,-10224,-14741,-8601,-13437,-12155,-8367,-9819,-15373,-17113,-17941,-12551,-10107,-17440,-18942,-22948,-23693,-19432,-15559,-18138,-21512,-18227,-14771,-9591,-23627,-11204,-16277,-10086,-10793,-19180,-18160,-17740,-21812,-12852,-22790,-18826,-21769,-17789,-13575,-14173,-9022,-14978,-8476,-10380,-17131,-22336,-12272,-24425,-18154,-18051,-15709,-13936,-14086,-11565,-12002,-15032,-14488,-19770,-21484,-11553,-16376,-24556,-13665,-11654,-11493,-21350,-14293,-13706,-24111,-21339,-24149,-18469,-17600,-10076,-20970,-15497,-13631,-21608,-14123,-13714,-12268,-21756,-18675,-21463,-18407,-14816,-14049,-16078,-15536,-20581,-19026,-14428,-21160,-13247,-20445,-19626,-23479,-22159,-14212,-12599,-19987,-22006,-17817,-10504,-15990,-14164,-20055,-11357,-11823,-10879,-21002,-22147,-15716,-16167,-24105,-20815,-20731,-10190,-9913,-20170,-9012,-12567,-17188,-19293,-22282,-9526,-16752,-22292,-10028,-10045,-18068,-7923,-19789,-24565,-7806,-15273,-9904,-17790,-18003,-14393,-15332,-14120,-18145,-17925,-11566,-15617,-18435,-15411,-11982,-22525,-14791,-20219,-8963,-13482,-20267,-19520,-8806,-18193,-13003,-24735,-13727,-11562,-23115,-20814,-18857,-14537,-19770,-18548,-14631,-19656,-10275,-9798,-22999,-10265,-15469,-8992,-11967,-8127,-15980,-20278,-19481,-12628,-11929,-21529,-16605,-16627,-18928,-18604,-24559,-13991,-17773,-12165,-20243,-13770,-13928,-10728,-16678,-18960,-8806,-11060,-21035,-22834,-22754,-16506,-21843,-13184,-16420,-22495,-10726,-18808,-22289,-13891,-15179,-20525,-20786,-20665,-15884,-10813,-10573,-15978,-11200,-16475,-20402,-14388,-14861,-22013,-17004,-12114,-11412,-19708,-14058,-9425,-8790,-24241,-10842,-14956,-20041,-22283,-22468,-8971,-15010,-22379,-19656,-22999,-15488,-13465,-13346,-16793,-12653,-12004,-20627,-8189,-13747,-21408,-14982,-10292,-22842,-14648,-14231,-22933,-12045,-15366,-19406,-20972,-9940,-12094,-22743,-15543,-11345,-18982,-13893,-18095,-14496,-14826,-23474,-14559,-24631,-22871,-17877,-13028,-14008,-24192,-11690,-23901,-23308,-16489,-10885,-15009,-18812,-18364,-15113,-16018,-14912,-11679,-11757,-17343,-10665,-8967,-14421,-21426,-22559,-14200,-19763,-16103,-20934,-13083,-12860,-15589,-12239,-9721,-15228,-11641,-12544,-17661,-16790,-14570,-11135,-22633,-14643,-10713,-24276,-14724,-12303,-14319,-11802,-18640,-14165,-8612,-12085,-13467,-9580,-15095,-11790,-20758,-14675,-21134,-20527,-13818,-16661,-23759,-11513,-12428,-16123,-15263,-20793,-16574,-22240,-23287,-21446,-20981,-22707,-17931,-23123,-12453,-19041,-15767,-23305,-10273,-10415,-19793,-23585,-17773,-10208,-13807,-21933,-17802,-16472,-17791,-12101,-17687,-19850,-16642,-14484,-18562,-14387,-15936,-10751,-10384,-11640,-20701,-20496,-11063,-18643,-12679,-14733,-10672,-18150,-21632,-21264,-16257,-17815,-24602,-17459,-15195,-18794,-20291,-12736,-14981,-16003,-16511,-23059,-20948,-11828,-19608,-11340,-16109,-17069,-16134,-22644,-16543,-10182,-10934,-11630,-21565,-19329,-23690,-22144,-20863,-23149,-13385,-17230,-23516,-10989,-17495,-23211,-9531,-22174,-10727,-14234,-12377,-11329,-10455,-15871,-12218,-13749,-10933,-9508,-9538,-11323,-21624,-18710,-19938,-19208,-19822,-15613,-12684,-11259,-15977,-19340,-12518,-15587,-21199,-13665,-15764,-13021,-21420,-23479,-10681,-23020,-18033,-19293,-21777,-22360,-17024,-16274,-21225,-14304,-14936,-15145,-12148,-20213,-15216,-15218,-19974,-16775,-13599,-22235,-20189,-15397,-22057,-16013,-14722,-14038,-14452,-11581,-9971,-9967,-21494,-14887,-18475,-15273,-18255,-13091,-18729,-19260,-23677,-16176,-22403,-22522,-17900,-12005,-21645,-13710,-23323,-20036,-10431,-23698,-17228,-22011,-14958,-15172,-20363,-22606,-16799,-13752,-9733,-11120,-22911,-17817,-16102,-19743,-21200,-15006,-15598,-8611,-12810,-21812,-12825,-8261,-10709,-18815,-19494,-15848,-12689,-21966,-21086,-22767,-13891,-19452,-21819,-17611,-17397,-9870,-22437,-17257,-20696,-24151,-20361,-19943,-20495,-14014,-17209,-23262,-14469,-8002,-23811,-17329,-16014,-14504,-22549,-11556,-20221,-18612,-16619,-16554,-9149,-8561,-21036,-22045,-13455,-17207,-16348,-11662,-18172,-16029,-19677,-22319,-15386,-19681,-18260,-16616,-9344,-19379,-10070,-15295,-23086,-12765,-12656,-17452,-8153,-19596,-16822,-12954,-24235,-19821,-14778,-18635,-8143,-15004,-23167,-19456,-10252,-16277,-22881,-21352,-16188,-18985,-12625,-15246,-18687,-11530,-11756,-18619,-10072,-21221,-12726,-17012,-12434,-13284,-19355,-14298,-15847,-20612,-19384,-12323,-9433,-10088,-15314,-11627,-22449,-15603,-13769,-22416,-19908,-20935,-12524,-20544,-20905,-19297,-11086,-24656,-14714,-10037,-16935,-14489,-13575,-18898,-12635,-18806,-9468,-10913,-19756,-17687,-14552,-21087,-19203,-15672,-10127,-12786,-11321,-14322,-22822,-21392,-12817,-9867,-8444,-11090,-22478,-13988,-16413,-15306,-14988,-20982,-16531,-11831,-14502,-14644,-9294,-17777,-10206,-21531,-12040,-23115,-10440,-9536,-11526,-9113,-13461,-19482,-8865,-12616,-10817,-13612,-13592,-23256,-21868,-13139,-15525,-24279,-10109,-25160,-17676,-22719,-22288,-16004,-18070,-13584,-10076,-9438,-22836,-10107,-22556,-17054,-11385,-17730,-21136,-8147,-20782,-9651,-24032,-9759,-9883,-21334,-11258,-17192,-24427,-21871,-21336,-13007,-13647,-18333,-17445,-19306,-23387,-15135,-9155,-18937,-12790,-24813,-13984,-20142,-10119,-18529,-14439,-15835,-19190,-18038,-20358,-12333,-11133,-8348,-13923,-15024,-18045,-18829,-15983,-18709,-21904,-14329,-19091,-22785,-15591,-14873,-11798,-23716,-11560,-17139,-17303,-19652,-11055,-10270,-13014,-21864,-22517,-14344,-17393,-13206,-13466,-21086,-19452,-12774,-10492,-25122,-23568,-9852,-14485,-21024,-14510,-14804,-20177,-20059,-19730,-9130,-14811,-16024,-14288,-9421,-12954,-16004,-19134,-8412,-24499,-18637,-10629,-21659,-10859,-14816,-17329,-18656,-17066,-9607,-11263,-14805,-18826,-11153,-16189,-24144,-20686,-10270,-15016,-22015,-19139,-21633,-17420,-14882,-9410,-23168,-11335,-18210,-21023,-20938,-18907,-20062,-10298,-14219,-16210,-18944,-13210,-20524,-12201,-15641,-9293,-18549,-18228,-17885,-15154,-11913,-14218,-8517,-15376,-12296,-23116,-14926,-13584,-22965,-17435,-18617,-12424,-14437,-20543,-16499,-17152,-20427,-13753,-22158,-16660,-16176,-14474,-17593,-23326,-18605,-12261,-21098,-17594,-14867,-21343,-19054,-21414,-19995,-13933,-20055,-17010,-11722,-21043,-19055,-23087,-23208,-21744,-14370,-17669,-18374,-19870,-22939,-10508,-12348,-10712,-9632,-19586,-24696,-20805,-14133,-11056,-13930,-22466,-13606,-11883,-17581,-19055,-15492,-10985,-16538,-14794,-14028,-14908,-15798,-21673,-23617,-24489,-12439,-12707,-14553,-14483,-23438,-13612,-13998,-14548,-17007,-13323,-14243,-12463,-15166,-16948,-21221,-14281,-14858,-15439,-14573,-19609,-10123,-17125,-17729,-13418,-10490,-13445,-20597,-22935,-13514,-17378,-10097,-15026,-13798,-21514,-11349,-9575,-11118,-18167,-23774,-10916,-11285,-20300,-9412,-17984,-12649,-18611,-15121,-9055,-22178,-19553,-17151,-22834,-10945,-15803,-21008,-12213,-11252,-13582,-17256,-14680,-14487,-21796,-14681,-19326,-15199,-12737,-13557,-14399,-19458,-15251,-10692,-18639,-11995,-15893,-13085,-20889,-21431,-10661,-12580,-11556,-21442,-12900,-20036,-16712,-11008,-15859,-10968,-17384,-19034,-19728,-22719,-8448,-15349,-14988,-24692,-14790,-12498,-14342,-13914,-14594,-12740,-10298,-16178,-19011,-10414,-11922,-20057,-13138,-12205,-9587,-9879,-18594,-14824,-15771,-15695,-15920,-13225,-15823,-12702,-16601,-16976,-13353,-12035,-18799,-20322,-13107,-19321,-12993,-22528,-17901,-21513,-17193,-21451,-15997,-10473,-21013,-13538,-11316,-12336,-22684,-18946,-16829,-20493,-8417,-24684,-13665,-21065,-19826,-15815,-12745,-16844,-16946,-24302,-9815,-12199,-9530,-19666,-14653,-19759,-20012,-9654,-23165,-16684,-16340,-13846,-10148,-20924,-20074,-9225,-19109,-17972,-13454,-12460,-20320,-18180,-18298,-12197,-23134,-10782,-17747,-20771,-10468,-18465,-18449,-21718,-22830,-15212,-16861,-18196,-14901,-11396,-18476,-11100,-21286,-24530,-22061,-17418,-11233,-18009,-10249,-10148,-14770,-23039,-22768,-15123,-13000,-17902,-16175,-17203,-20060,-16740,-14078,-24678,-14126,-18011,-16026,-17762,-9907,-11585,-13655,-12918,-10553,-11878,-20598,-21589,-18156,-9027,-23588,-20883,-8763,-17439,-11391,-17343,-22517,-19438,-14753,-10744,-22332,-11459,-22326,-12053,-11764,-8482,-13026,-16358,-13875,-16616,-20692,-17549,-21883,-9221,-18736,-20219,-24892,-14092,-11684,-20071,-12818,-8860,-15411,-20121,-23866,-17474,-15319,-15970,-15659,-17725,-14586,-22281,-21505,-9034,-13184,-12085,-10587,-8483,-15456,-13374,-13417,-10071,-8997,-22097,-15983,-9207,-8668,-15028,-15490,-15927,-18854,-20902,-19468,-11787,-20613,-17786,-23533,-15102,-14676,-17567,-19049,-11900,-10170,-16213,-14019,-10147,-12035,-11051,-14127,-17435,-13236,-9701,-13959,-17180,-9549,-14465,-15089,-23037,-14418,-9290,-14124,-7817,-14964,-15479,-19867,-21752,-12515,-20417,-10461,-18339,-11823,-17195,-16871,-14581,-15224,-16792,-12437,-22803,-14019,-21830,-14705,-12036,-14520,-20353,-22110,-14682,-10560,-12943,-20717,-15545,-20629,-20078,-10179,-16557,-21789,-11354,-14201,-11805,-16885,-13365,-15837,-15348,-12514,-18530,-20485,-22449,-19078,-13619,-22054,-13633,-18103,-9452,-12057,-18664,-14545,-15029,-9277,-12592,-23895,-9608,-21183,-7859,-21978,-22306,-15274,-19065,-13015,-19964,-15559,-21905,-13027,-11853,-18254,-20533,-14686,-16632,-18638,-23377,-22025,-22434,-11123,-13087,-12500,-21517,-10487,-16135,-13814,-17524,-23216,-10142,-20803,-12719,-11417,-22272,-21647,-19006,-12172,-19721,-18029,-19979,-18571,-12565,-16489,-10915,-17861,-17354,-16061,-8154,-9635,-19267,-12563,-17508,-11924,-18999,-19430,-19940,-15604,-12276,-12837,-16603,-12153,-21943,-13432,-12942,-10624,-15685,-10425,-9020,-22616,-18136,-17837,-16516,-22703,-13174,-12200,-16122,-12675,-16490,-22390,-11485,-22155,-20338,-18513,-19659,-12712,-18426,-13772,-15908,-16841,-10159,-11759,-20688,-10767,-21193,-13457,-19278,-15201,-16507,-23362,-12516,-8196,-20468,-21996,-16792,-8476,-9007,-16183,-12146,-21465,-13417,-11804,-15473,-17974,-23141,-14732,-8485,-21717,-18214,-19644,-12494,-18305,-16751,-8813,-15540,-15730,-11517,-17195,-12306,-17875,-23543,-15082,-23728,-13888,-19461,-20339,-16307,-22151,-19739,-18065,-19294,-15013,-10950,-19290,-12682,-12449,-12601,-23238,-12965,-14350,-24839,-19998,-7877,-21694,-12339,-17719,-10309,-21226,-16955,-22857,-14868,-12257,-24098,-14883,-14563,-10114,-10553,-8637,-17596,-13404,-20071,-10104,-10106,-21216,-21515,-25059,-15465,-16799,-21832,-19665,-14594,-14152,-14030,-18335,-12612,-15730,-16422,-22629,-16285,-15663,-18738,-13839,-12240,-17751,-20657,-19972,-13299,-14547,-13669,-22592,-12524,-22808,-15304,-23248,-15947,-16957,-11852,-21537,-22645,-23503,-12733,-23631,-19435,-10343,-23272,-14159,-20927,-15355,-10870,-16943,-18521,-13006,-16693,-14854,-19606,-13465,-22455,-20273,-16910,-12945,-17654,-13801,-17782,-24705,-9869,-20246,-14875,-14215,-19590,-19241,-19347,-15787,-23419,-16369,-15855,-21624,-23914,-23312,-20989,-21413,-21537,-8514,-11800,-23626,-17470,-8359,-9269,-18852,-8649,-8702,-15572,-20792,-19001,-13850,-13902,-11048,-20796,-20363,-22233,-22163,-20407,-16030,-23300,-21977,-21899,-18667,-18237,-22142,-21688,-22505,-12908,-15153,-14794,-19298,-14179,-9822,-15283,-21773,-9032,-23901,-15775,-14460,-12080,-8897,-8464,-20492,-20075,-13611,-20271,-22596,-13067,-23310,-16089,-14897,-16055,-19740,-10908,-17292,-22128,-17122,-14980,-14732,-17919,-19995,-13604,-8885,-18273,-9512,-20406,-13349,-20637,-15954,-10172,-15266,-15623,-12918,-15075,-17645,-15233,-14012,-23163,-20238,-14477,-18781,-17819,-19864,-18598,-15752,-15835,-14838,-10785,-12659,-15218,-17038,-18705,-11947,-14519,-19971,-14840,-13771,-13504,-22906,-8798,-13631,-13696,-14750,-12561,-16690,-21863,-16169,-10303,-20851,-13951,-12417,-16722,-20719,-11124,-12413,-15970,-10775,-14889,-13613,-22192,-18008,-16595,-23034,-21593,-16596,-10436,-14119,-11418,-17625,-10621,-22057,-11139,-14825,-17021,-18394,-20978,-15700,-20176,-14706,-22366,-19925,-21720,-15418,-13484,-10822,-20454,-12094,-13830,-14267,-9641,-16475,-16701,-19540,-22792,-14208,-21657,-12584,-12966,-8137,-18141,-13609,-16956,-21453,-21253,-9960,-15036,-9776,-15948,-18280,-15255,-23706,-19997,-10301,-9768,-21606,-18670,-23186,-17010,-15446,-12884,-10958,-17875,-15449,-20426,-17821,-9100,-17811,-12800,-10197,-10943,-15741,-21295,-19765,-15488,-13990,-15963,-16596,-11299,-13408,-17360,-19429,-14463,-10336,-21966,-12106,-16783,-20842,-23113,-12456,-23450,-22662,-16351,-13043,-17396,-13535,-8147,-12876,-14081,-17699,-20908,-15962,-15597,-11704,-13055,-22555,-18486,-21479,-9273,-11861,-9958,-23955,-14723,-11431,-13328,-10053,-12643,-22532,-23216,-12487,-16591,-18201,-10605,-10852,-12295,-15043,-17521,-16358,-11932,-20336,-15427,-17590,-9444,-24166,-18191,-8232,-14129,-18816,-23147,-20554,-11921,-9593,-16064,-13744,-11799,-14467,-21756,-13024,-16677,-19095,-23739,-24202,-14209,-19309,-14209,-18430,-13436,-12688,-19347,-20070,-15898,-9916,-22870,-15591,-10498,-10028,-23055,-17329,-16895,-21284,-20118,-22010,-17507,-22611,-22860,-11445,-20692,-12627,-16472,-9284,-21155,-8739,-23474,-17481,-22518,-17471,-14414,-10302,-16959,-11499,-11386,-14731,-11480,-23676,-20056,-10267,-11819,-17617,-16176,-15428,-12417,-9431,-16203,-14924,-8421,-11262,-13208,-21108,-20642,-10299,-24010,-14160,-17209,-9217,-22513,-13981,-15731,-18037,-9895,-14452,-17943,-19634,-14172,-13857,-16703,-22696,-12934,-24816,-22162,-12112,-22510,-16540,-10175,-12490,-10320,-11579,-13777,-13592,-16971,-22766,-14261,-18894,-9362,-21256,-15899,-12407,-8483,-16599,-13250,-10347,-15095,-21081,-19594,-9447,-22855,-13038,-14149,-17051,-19381,-14945,-22159,-11305,-23066,-9556,-11108,-15662,-7778,-14596,-22778,-23048,-11634,-11560,-15465,-13822,-9434,-19238,-11984,-20600,-10279,-13562,-21965,-17567,-16624,-22718,-11031,-18015,-10573,-13394,-14546,-13660,-10956,-17435,-17961,-13476,-20154,-14304,-8416,-21764,-12998,-18944,-12836,-18953,-19677,-23628,-16106,-23335,-13517,-8401,-14574,-15321,-14465,-16061,-16918,-13583,-20632,-16112,-19184,-14495,-11967,-14952,-16748,-21892,-17766,-18337,-16210,-15282,-8476,-15559,-20792,-13643,-23533,-12571,-16109,-20063,-10404,-18726,-18112,-11991,-21097,-15689,-23589,-10920,-11121,-13459,-13194,-20713,-16760,-12836,-9289,-17518,-21260,-9104,-21864,-10283,-20123,-14156,-11596,-15547,-18139,-13305,-15367,-11703,-24813,-16542,-19984,-13075,-12149,-9499,-19652,-10066,-15839,-19878,-14301,-8964,-10157,-22192,-16647,-12969,-19209,-11655,-12492,-19183,-18075,-22493,-19071,-12331,-9018,-10383,-15770,-18658,-11134,-11068,-16703,-16854,-10542,-9851,-14076,-15198,-21212,-16206,-23770,-9686,-19065,-16534,-17294,-8411,-17706,-21245,-22548,-8990,-21826,-13123,-19348,-15777,-17361,-20735,-16994,-12868,-13541,-12212,-10514,-14770,-18061,-11137,-19545,-11357,-19919,-11848,-18839,-19846,-21034,-19494,-15719,-9585,-11797,-16949,-16175,-11148,-14171,-18650,-9906,-12546,-22299,-22139,-13964,-23977,-11869,-14781,-22751,-10244,-15790,-23686,-14934,-19903,-23643,-9940,-9122,-14220,-15979,-12858,-11223,-17123,-15566,-19413,-19164,-21961,-15468,-13586,-23827,-12785,-22143,-14539,-8633,-24626,-20167,-19038,-16779,-13350,-14049,-19998,-17031,-13072,-8613,-8630,-20975,-17226,-13702,-14225,-20406,-10152,-11668,-19341,-18668,-8406,-18548,-10043,-8872,-20193,-12271,-9616,-13898,-20136,-12122,-8347,-13120,-14252,-13858,-21055,-14445,-10874,-12605,-18184,-11846,-17506,-18573,-10020,-9877,-16987,-19670,-10705,-20111,-13145,-19571,-17859,-9485,-20951,-10276,-11125,-13011,-11736,-10368,-16583,-8741,-17897,-19130,-11989,-22159,-15988,-18530,-13670,-17163,-18939,-14441,-12201,-18130,-21096,-13234,-19360,-14700,-18743,-12519,-10054,-10932,-21809,-23344,-24350,-20065,-24059,-19154,-15424,-24605,-21717,-11418,-12326,-14925,-11032,-19478,-9917,-17860,-20340,-23593,-19025,-13329,-15329,-16062,-20133,-13598,-15787,-19467,-16052,-23547,-24864,-10845,-17569,-15189,-25102,-15002,-10354,-20010,-12557,-19280,-12127,-16900,-14775,-10759,-13427,-20299,-23203,-12726,-12410,-7801,-8827,-13944,-16558,-16543,-20678,-8102,-17790,-14955,-14007,-21472,-11971,-16877,-19014,-12248,-14539,-14136,-22579,-8361,-16067,-13930,-17272,-13515,-12778,-15374,-22339,-15902,-11685,-14155,-17461,-16495,-19437,-14630,-15201,-22557,-15429,-10353,-16222,-13307,-10245,-13927,-13556,-12103,-13001,-10591,-13044,-18808,-9416,-18707,-11041,-11782,-11882,-17419,-16396,-21843,-20812,-15540,-21967,-16071,-24179,-16828,-20266,-20727,-19495,-13016,-9955,-11933,-9370,-15643,-8365,-10725,-17292,-10166,-8258,-12488,-20135,-12235,-13741,-8604,-11215,-14435,-21118,-16783,-22630,-18888,-12321,-9879,-14821,-13250,-20884,-14005,-20639,-14241,-15006,-9940,-12642,-12296,-11434,-16394,-20221,-20040,-22876,-16004,-19471,-11324,-12685,-23077,-15807,-9440,-14906,-14781,-22122,-13049,-23904,-11543,-21877,-22537,-10616,-18665,-8565,-22954,-13005,-16966,-12589,-16727,-11923,-14815,-22675,-11800,-14914,-18743,-10944,-16643,-17130,-10914,-13515,-17256,-23224,-20085,-19395,-17185,-9366,-20978,-11543,-12287,-14163,-8912,-14158,-15940,-18376,-16589,-9543,-23706,-14943,-23255,-13860,-24111,-17323,-15103,-10533,-22483,-19309,-17050,-13620,-14807,-19171,-13830,-14827,-22255,-18345,-19824,-13634,-17460,-17633,-15207,-22253,-13562,-11156,-14226,-16284,-7961,-10971,-17108,-20232,-17192,-14651,-17628,-21303,-19697,-19938,-18074,-17374,-13587,-11610,-22078,-15092,-14061,-16801,-22012,-10291,-12960,-13674,-17976,-15857,-18782,-12818,-10891,-22755,-22062,-16226,-18537,-18152,-9056,-15916,-14436,-15920,-22833,-12126,-18225,-17612,-15939,-23508,-20973,-11848,-12417,-22260,-12911,-15104,-19138,-13099,-19422,-9721,-14568,-14993,-11213,-9747,-12015,-11711,-19832,-17668,-22167,-23611,-18341,-23350,-21523,-8260,-18882,-19015,-16183,-15718,-10866,-12501,-20813,-12910,-20989,-15297,-12532,-12854,-17929,-17228,-8402,-16890,-8808,-8195,-18775,-20177,-19323,-20356,-23284,-9483,-10248,-14965,-10442,-10829,-23445,-9685,-19168,-21064,-19635,-13553,-8363,-21537,-15164,-23680,-11469,-20832,-16802,-13836,-20293,-16394,-23774,-18148,-19605,-12239,-23283,-12462,-20859,-10448,-14042,-9361,-14350,-17385,-17811,-14895,-15374,-12152,-15896,-9872,-14237,-11444,-23458,-14863,-12656,-21082,-18455,-14410,-19852,-10300,-16578,-9036,-11350,-15646,-19380,-16380,-11637,-24652,-13003,-21113,-14696,-18456,-19811,-19901,-14186,-13002,-21936,-20231,-20318,-15551,-13287,-14505,-20010,-12560,-12054,-16814,-8488,-11630,-23235,-13333,-22971,-11892,-14875,-19600,-24258,-10032,-18892,-16538,-21806,-15895,-14141,-8865,-23123,-16403,-23956,-18562,-13101,-14166,-12428,-22758,-10624,-10271,-20943,-10720,-17021,-19398,-14675,-21259,-11488,-20983,-12792,-9729,-15519,-22376,-21032,-18130,-16182,-15409,-14009,-19152,-23705,-10132,-17461,-22459,-14194,-21438,-11088,-21865,-16462,-12446,-19988,-17168,-15029,-11463,-18108,-15648,-23007,-17548,-21955,-16068,-11266,-20348,-23522,-8759,-22012,-22406,-21751,-14506,-14253,-13246,-20592,-21448,-20418,-13794,-15456,-12200,-10746,-19339,-14478,-12703,-10189,-21712,-15817,-16742,-11682,-15420,-22934,-10984,-15938,-13544,-11422,-17988,-20805,-13009,-11507,-21511,-16288,-10011,-22048,-15731,-17710,-18676,-17730,-23128,-19415,-17390,-19366,-22114,-20552,-16173,-16652,-10938,-11753,-13782,-12956,-16364,-17734,-14691,-17107,-13642,-20827,-11980,-16368,-22562,-9463,-11452,-11142,-18060,-19949,-23720,-11826,-16794,-19434,-10147,-9159,-22498,-14597,-22688,-20632,-21398,-23622,-22119,-18644,-11837,-22496,-11496,-20019,-16168,-15038,-21333,-17741,-15872,-11723,-17577,-19325,-14660,-14693,-11429,-17310,-19771,-12270,-15240,-10382,-17916,-19271,-16643,-17374,-16212,-17755,-18832,-15168,-16667,-10030,-11044,-23738,-24466,-10807,-23818,-9643,-14137,-16350,-17156,-24076,-19396,-11361,-20481,-13198,-23607,-17123,-12415,-23437,-17017,-16866,-20448,-14668,-19397,-11330,-10477,-19870,-10292,-11773,-13580,-14502,-17482,-20898,-11339,-16591,-18066,-13327,-9495,-16249,-13069,-17434,-19941,-18236,-15221,-20974,-14580,-12762,-18320,-23065,-15817,-22700,-19494,-8382,-14197,-14750,-11370,-16320,-16152,-15963,-12380,-7915,-8558,-23238,-12284,-17578,-18503,-19683,-18229,-7933,-18778,-18974,-20605,-11155,-24152,-18058,-13659,-21538,-21042,-17371,-18958,-15953,-21377,-16360,-14483,-18345,-21414,-8613,-17996,-19333,-8451,-11283,-21943,-16679,-8614,-21588,-10995,-10123,-16586,-20391,-13640,-23715,-18578,-11117,-12731,-13492,-12521,-20501,-19602,-10249,-15183,-14602,-14229,-12717,-15169,-11115,-21511,-10693,-22026,-13342,-16290,-11790,-9824,-17905,-11984,-14150,-18974,-9104,-10284,-23762,-16261,-19109,-9164,-15446,-11022,-13598,-13722,-11540,-13904,-21496,-15964,-21347,-8703,-13473,-17761,-11575,-11640,-19284,-11884,-18496,-14163,-8262,-17732,-14069,-7736,-17634,-15161,-18934,-11788,-14802,-11878,-17933,-18483,-9840,-18379,-23638,-22732,-20077,-21989,-19113,-21757,-20732,-22308,-14467,-14892,-16365,-14670,-7942,-23929,-12297,-20101,-20750,-20204,-22885,-21117,-14376,-15880,-19193,-19430,-11349,-12338,-20406,-21982,-23749,-11831,-14804,-15204,-21310,-19079,-12969,-18409,-15066,-24277,-22676,-24225,-8650,-8891,-14514,-18377,-24758,-12571,-12378,-13767,-23524,-23045,-21405,-21327,-14066,-21382,-10856,-21043,-19574,-8493,-20714,-12600,-11859,-14196,-20173,-12682,-18657,-16585,-22939,-20734,-11713,-14774,-9297,-24212,-12620,-14457,-11131,-12537,-12797,-19595,-11393,-20794,-17808,-14940,-13634,-17341,-14965,-13075,-17574,-10137,-16891,-13349,-15673,-12434,-19472,-19823,-13044,-19605,-15172,-10745,-13663,-20400,-10467,-11349,-15555,-10676,-12868,-22832,-11346,-23745,-14748,-15044,-11544,-22615,-22802,-19889,-11610,-18104,-19944,-13119,-13203,-21388,-22485,-19672,-15656,-20689,-23040,-18321,-16013,-15013,-12084,-17222,-11567,-14674,-21301,-15987,-15235,-13811,-23517,-21650,-11713,-21219,-13758,-8442,-20046,-19579,-24820,-18039,-20782,-14825,-21287,-21755,-12291,-11901,-20035,-15378,-13969,-13047,-14116,-14098,-19498,-10158,-19866,-9607,-14464,-19949,-10803,-17639,-11458,-8456,-11189,-16190,-10033,-14517,-10481,-13904,-21390,-13607,-18876,-22796,-19395,-9684,-15713,-11426,-21806,-17257,-16728,-17416,-17385,-15943,-15021,-15231,-22860,-24444,-14970,-14367,-19531,-19141,-21149,-19902,-8651,-14306,-19820,-21833,-10128,-12733,-14818,-8072,-15417,-12435,-16266,-15760,-17160,-11773,-20050,-10143,-12435,-9150,-12955,-16822,-19690,-18737,-20285,-15019,-13167,-9491,-12820,-19311,-20188,-14100,-14840,-14747,-11608,-18823,-11770,-17831,-10741,-19237,-19859,-16300,-23305,-16981,-10119,-16087,-15489,-24082,-14152,-16038,-23738,-18322,-22884,-11041,-18041,-17918,-10249,-14853,-11457,-25054,-18391],\"x0\":\" \",\"xaxis\":\"x\",\"y0\":\" \",\"yaxis\":\"y\",\"type\":\"box\"}],                        {\"template\":{\"data\":{\"histogram2dcontour\":[{\"type\":\"histogram2dcontour\",\"colorbar\":{\"outlinewidth\":0,\"ticks\":\"\"},\"colorscale\":[[0.0,\"#0d0887\"],[0.1111111111111111,\"#46039f\"],[0.2222222222222222,\"#7201a8\"],[0.3333333333333333,\"#9c179e\"],[0.4444444444444444,\"#bd3786\"],[0.5555555555555556,\"#d8576b\"],[0.6666666666666666,\"#ed7953\"],[0.7777777777777778,\"#fb9f3a\"],[0.8888888888888888,\"#fdca26\"],[1.0,\"#f0f921\"]]}],\"choropleth\":[{\"type\":\"choropleth\",\"colorbar\":{\"outlinewidth\":0,\"ticks\":\"\"}}],\"histogram2d\":[{\"type\":\"histogram2d\",\"colorbar\":{\"outlinewidth\":0,\"ticks\":\"\"},\"colorscale\":[[0.0,\"#0d0887\"],[0.1111111111111111,\"#46039f\"],[0.2222222222222222,\"#7201a8\"],[0.3333333333333333,\"#9c179e\"],[0.4444444444444444,\"#bd3786\"],[0.5555555555555556,\"#d8576b\"],[0.6666666666666666,\"#ed7953\"],[0.7777777777777778,\"#fb9f3a\"],[0.8888888888888888,\"#fdca26\"],[1.0,\"#f0f921\"]]}],\"heatmap\":[{\"type\":\"heatmap\",\"colorbar\":{\"outlinewidth\":0,\"ticks\":\"\"},\"colorscale\":[[0.0,\"#0d0887\"],[0.1111111111111111,\"#46039f\"],[0.2222222222222222,\"#7201a8\"],[0.3333333333333333,\"#9c179e\"],[0.4444444444444444,\"#bd3786\"],[0.5555555555555556,\"#d8576b\"],[0.6666666666666666,\"#ed7953\"],[0.7777777777777778,\"#fb9f3a\"],[0.8888888888888888,\"#fdca26\"],[1.0,\"#f0f921\"]]}],\"heatmapgl\":[{\"type\":\"heatmapgl\",\"colorbar\":{\"outlinewidth\":0,\"ticks\":\"\"},\"colorscale\":[[0.0,\"#0d0887\"],[0.1111111111111111,\"#46039f\"],[0.2222222222222222,\"#7201a8\"],[0.3333333333333333,\"#9c179e\"],[0.4444444444444444,\"#bd3786\"],[0.5555555555555556,\"#d8576b\"],[0.6666666666666666,\"#ed7953\"],[0.7777777777777778,\"#fb9f3a\"],[0.8888888888888888,\"#fdca26\"],[1.0,\"#f0f921\"]]}],\"contourcarpet\":[{\"type\":\"contourcarpet\",\"colorbar\":{\"outlinewidth\":0,\"ticks\":\"\"}}],\"contour\":[{\"type\":\"contour\",\"colorbar\":{\"outlinewidth\":0,\"ticks\":\"\"},\"colorscale\":[[0.0,\"#0d0887\"],[0.1111111111111111,\"#46039f\"],[0.2222222222222222,\"#7201a8\"],[0.3333333333333333,\"#9c179e\"],[0.4444444444444444,\"#bd3786\"],[0.5555555555555556,\"#d8576b\"],[0.6666666666666666,\"#ed7953\"],[0.7777777777777778,\"#fb9f3a\"],[0.8888888888888888,\"#fdca26\"],[1.0,\"#f0f921\"]]}],\"surface\":[{\"type\":\"surface\",\"colorbar\":{\"outlinewidth\":0,\"ticks\":\"\"},\"colorscale\":[[0.0,\"#0d0887\"],[0.1111111111111111,\"#46039f\"],[0.2222222222222222,\"#7201a8\"],[0.3333333333333333,\"#9c179e\"],[0.4444444444444444,\"#bd3786\"],[0.5555555555555556,\"#d8576b\"],[0.6666666666666666,\"#ed7953\"],[0.7777777777777778,\"#fb9f3a\"],[0.8888888888888888,\"#fdca26\"],[1.0,\"#f0f921\"]]}],\"mesh3d\":[{\"type\":\"mesh3d\",\"colorbar\":{\"outlinewidth\":0,\"ticks\":\"\"}}],\"scatter\":[{\"fillpattern\":{\"fillmode\":\"overlay\",\"size\":10,\"solidity\":0.2},\"type\":\"scatter\"}],\"parcoords\":[{\"type\":\"parcoords\",\"line\":{\"colorbar\":{\"outlinewidth\":0,\"ticks\":\"\"}}}],\"scatterpolargl\":[{\"type\":\"scatterpolargl\",\"marker\":{\"colorbar\":{\"outlinewidth\":0,\"ticks\":\"\"}}}],\"bar\":[{\"error_x\":{\"color\":\"#2a3f5f\"},\"error_y\":{\"color\":\"#2a3f5f\"},\"marker\":{\"line\":{\"color\":\"#E5ECF6\",\"width\":0.5},\"pattern\":{\"fillmode\":\"overlay\",\"size\":10,\"solidity\":0.2}},\"type\":\"bar\"}],\"scattergeo\":[{\"type\":\"scattergeo\",\"marker\":{\"colorbar\":{\"outlinewidth\":0,\"ticks\":\"\"}}}],\"scatterpolar\":[{\"type\":\"scatterpolar\",\"marker\":{\"colorbar\":{\"outlinewidth\":0,\"ticks\":\"\"}}}],\"histogram\":[{\"marker\":{\"pattern\":{\"fillmode\":\"overlay\",\"size\":10,\"solidity\":0.2}},\"type\":\"histogram\"}],\"scattergl\":[{\"type\":\"scattergl\",\"marker\":{\"colorbar\":{\"outlinewidth\":0,\"ticks\":\"\"}}}],\"scatter3d\":[{\"type\":\"scatter3d\",\"line\":{\"colorbar\":{\"outlinewidth\":0,\"ticks\":\"\"}},\"marker\":{\"colorbar\":{\"outlinewidth\":0,\"ticks\":\"\"}}}],\"scattermapbox\":[{\"type\":\"scattermapbox\",\"marker\":{\"colorbar\":{\"outlinewidth\":0,\"ticks\":\"\"}}}],\"scatterternary\":[{\"type\":\"scatterternary\",\"marker\":{\"colorbar\":{\"outlinewidth\":0,\"ticks\":\"\"}}}],\"scattercarpet\":[{\"type\":\"scattercarpet\",\"marker\":{\"colorbar\":{\"outlinewidth\":0,\"ticks\":\"\"}}}],\"carpet\":[{\"aaxis\":{\"endlinecolor\":\"#2a3f5f\",\"gridcolor\":\"white\",\"linecolor\":\"white\",\"minorgridcolor\":\"white\",\"startlinecolor\":\"#2a3f5f\"},\"baxis\":{\"endlinecolor\":\"#2a3f5f\",\"gridcolor\":\"white\",\"linecolor\":\"white\",\"minorgridcolor\":\"white\",\"startlinecolor\":\"#2a3f5f\"},\"type\":\"carpet\"}],\"table\":[{\"cells\":{\"fill\":{\"color\":\"#EBF0F8\"},\"line\":{\"color\":\"white\"}},\"header\":{\"fill\":{\"color\":\"#C8D4E3\"},\"line\":{\"color\":\"white\"}},\"type\":\"table\"}],\"barpolar\":[{\"marker\":{\"line\":{\"color\":\"#E5ECF6\",\"width\":0.5},\"pattern\":{\"fillmode\":\"overlay\",\"size\":10,\"solidity\":0.2}},\"type\":\"barpolar\"}],\"pie\":[{\"automargin\":true,\"type\":\"pie\"}]},\"layout\":{\"autotypenumbers\":\"strict\",\"colorway\":[\"#636efa\",\"#EF553B\",\"#00cc96\",\"#ab63fa\",\"#FFA15A\",\"#19d3f3\",\"#FF6692\",\"#B6E880\",\"#FF97FF\",\"#FECB52\"],\"font\":{\"color\":\"#2a3f5f\"},\"hovermode\":\"closest\",\"hoverlabel\":{\"align\":\"left\"},\"paper_bgcolor\":\"white\",\"plot_bgcolor\":\"#E5ECF6\",\"polar\":{\"bgcolor\":\"#E5ECF6\",\"angularaxis\":{\"gridcolor\":\"white\",\"linecolor\":\"white\",\"ticks\":\"\"},\"radialaxis\":{\"gridcolor\":\"white\",\"linecolor\":\"white\",\"ticks\":\"\"}},\"ternary\":{\"bgcolor\":\"#E5ECF6\",\"aaxis\":{\"gridcolor\":\"white\",\"linecolor\":\"white\",\"ticks\":\"\"},\"baxis\":{\"gridcolor\":\"white\",\"linecolor\":\"white\",\"ticks\":\"\"},\"caxis\":{\"gridcolor\":\"white\",\"linecolor\":\"white\",\"ticks\":\"\"}},\"coloraxis\":{\"colorbar\":{\"outlinewidth\":0,\"ticks\":\"\"}},\"colorscale\":{\"sequential\":[[0.0,\"#0d0887\"],[0.1111111111111111,\"#46039f\"],[0.2222222222222222,\"#7201a8\"],[0.3333333333333333,\"#9c179e\"],[0.4444444444444444,\"#bd3786\"],[0.5555555555555556,\"#d8576b\"],[0.6666666666666666,\"#ed7953\"],[0.7777777777777778,\"#fb9f3a\"],[0.8888888888888888,\"#fdca26\"],[1.0,\"#f0f921\"]],\"sequentialminus\":[[0.0,\"#0d0887\"],[0.1111111111111111,\"#46039f\"],[0.2222222222222222,\"#7201a8\"],[0.3333333333333333,\"#9c179e\"],[0.4444444444444444,\"#bd3786\"],[0.5555555555555556,\"#d8576b\"],[0.6666666666666666,\"#ed7953\"],[0.7777777777777778,\"#fb9f3a\"],[0.8888888888888888,\"#fdca26\"],[1.0,\"#f0f921\"]],\"diverging\":[[0,\"#8e0152\"],[0.1,\"#c51b7d\"],[0.2,\"#de77ae\"],[0.3,\"#f1b6da\"],[0.4,\"#fde0ef\"],[0.5,\"#f7f7f7\"],[0.6,\"#e6f5d0\"],[0.7,\"#b8e186\"],[0.8,\"#7fbc41\"],[0.9,\"#4d9221\"],[1,\"#276419\"]]},\"xaxis\":{\"gridcolor\":\"white\",\"linecolor\":\"white\",\"ticks\":\"\",\"title\":{\"standoff\":15},\"zerolinecolor\":\"white\",\"automargin\":true,\"zerolinewidth\":2},\"yaxis\":{\"gridcolor\":\"white\",\"linecolor\":\"white\",\"ticks\":\"\",\"title\":{\"standoff\":15},\"zerolinecolor\":\"white\",\"automargin\":true,\"zerolinewidth\":2},\"scene\":{\"xaxis\":{\"backgroundcolor\":\"#E5ECF6\",\"gridcolor\":\"white\",\"linecolor\":\"white\",\"showbackground\":true,\"ticks\":\"\",\"zerolinecolor\":\"white\",\"gridwidth\":2},\"yaxis\":{\"backgroundcolor\":\"#E5ECF6\",\"gridcolor\":\"white\",\"linecolor\":\"white\",\"showbackground\":true,\"ticks\":\"\",\"zerolinecolor\":\"white\",\"gridwidth\":2},\"zaxis\":{\"backgroundcolor\":\"#E5ECF6\",\"gridcolor\":\"white\",\"linecolor\":\"white\",\"showbackground\":true,\"ticks\":\"\",\"zerolinecolor\":\"white\",\"gridwidth\":2}},\"shapedefaults\":{\"line\":{\"color\":\"#2a3f5f\"}},\"annotationdefaults\":{\"arrowcolor\":\"#2a3f5f\",\"arrowhead\":0,\"arrowwidth\":1},\"geo\":{\"bgcolor\":\"white\",\"landcolor\":\"#E5ECF6\",\"subunitcolor\":\"white\",\"showland\":true,\"showlakes\":true,\"lakecolor\":\"white\"},\"title\":{\"x\":0.05},\"mapbox\":{\"style\":\"light\"}}},\"xaxis\":{\"anchor\":\"y\",\"domain\":[0.0,1.0],\"title\":{\"text\":\"DAYS_BIRTH\"}},\"yaxis\":{\"anchor\":\"x\",\"domain\":[0.0,1.0]},\"legend\":{\"title\":{\"text\":\"TARGET\"},\"tracegroupgap\":0},\"title\":{\"text\":\"TARGET Based on DAYS_BIRTH\"},\"boxmode\":\"group\"},                        {\"responsive\": true}                    ).then(function(){\n",
              "                            \n",
              "var gd = document.getElementById('4b29c971-d6c1-4d31-a564-24e71a25e2eb');\n",
              "var x = new MutationObserver(function (mutations, observer) {{\n",
              "        var display = window.getComputedStyle(gd).display;\n",
              "        if (!display || display === 'none') {{\n",
              "            console.log([gd, 'removed!']);\n",
              "            Plotly.purge(gd);\n",
              "            observer.disconnect();\n",
              "        }}\n",
              "}});\n",
              "\n",
              "// Listen for the removal of the full notebook cells\n",
              "var notebookContainer = gd.closest('#notebook-container');\n",
              "if (notebookContainer) {{\n",
              "    x.observe(notebookContainer, {childList: true});\n",
              "}}\n",
              "\n",
              "// Listen for the clearing of the current output cell\n",
              "var outputEl = gd.closest('.output');\n",
              "if (outputEl) {{\n",
              "    x.observe(outputEl, {childList: true});\n",
              "}}\n",
              "\n",
              "                        })                };                            </script>        </div>\n",
              "</body>\n",
              "</html>"
            ]
          },
          "metadata": {}
        }
      ]
    },
    {
      "cell_type": "code",
      "source": [
        "fig = px.box(df_exp, \n",
        "             x=\"NAME_EDUCATION_TYPE\",  \n",
        "             color=\"TARGET\", \n",
        "             title=\"TARGET Based on DAYS_BIRTH\", \n",
        "            )\n",
        "fig.show()"
      ],
      "metadata": {
        "colab": {
          "base_uri": "https://localhost:8080/",
          "height": 542
        },
        "id": "SEv3Sv0SZx7k",
        "outputId": "13b4b9fe-87fa-4d29-ef84-a95972fccd3d"
      },
      "execution_count": 16,
      "outputs": [
        {
          "output_type": "display_data",
          "data": {
            "text/html": [
              "<html>\n",
              "<head><meta charset=\"utf-8\" /></head>\n",
              "<body>\n",
              "    <div>            <script src=\"https://cdnjs.cloudflare.com/ajax/libs/mathjax/2.7.5/MathJax.js?config=TeX-AMS-MML_SVG\"></script><script type=\"text/javascript\">if (window.MathJax && window.MathJax.Hub && window.MathJax.Hub.Config) {window.MathJax.Hub.Config({SVG: {font: \"STIX-Web\"}});}</script>                <script type=\"text/javascript\">window.PlotlyConfig = {MathJaxConfig: 'local'};</script>\n",
              "        <script src=\"https://cdn.plot.ly/plotly-2.18.2.min.js\"></script>                <div id=\"e15a757d-f935-4b33-a671-c3a2cdb780f8\" class=\"plotly-graph-div\" style=\"height:525px; width:100%;\"></div>            <script type=\"text/javascript\">                                    window.PLOTLYENV=window.PLOTLYENV || {};                                    if (document.getElementById(\"e15a757d-f935-4b33-a671-c3a2cdb780f8\")) {                    Plotly.newPlot(                        \"e15a757d-f935-4b33-a671-c3a2cdb780f8\",                        [{\"alignmentgroup\":\"True\",\"hovertemplate\":\"TARGET=1<br>NAME_EDUCATION_TYPE=%{x}<extra></extra>\",\"legendgroup\":\"1\",\"marker\":{\"color\":\"#636efa\"},\"name\":\"1\",\"notched\":false,\"offsetgroup\":\"1\",\"orientation\":\"h\",\"showlegend\":true,\"x\":[\"Secondary / secondary special\",\"Secondary / secondary special\",\"Secondary / secondary special\",\"Secondary / secondary special\",\"Secondary / secondary special\",\"Incomplete higher\",\"Incomplete higher\",\"Higher education\",\"Secondary / secondary special\",\"Secondary / secondary special\",\"Higher education\",\"Higher education\",\"Secondary / secondary special\",\"Secondary / secondary special\",\"Higher education\",\"Secondary / secondary special\",\"Secondary / secondary special\",\"Secondary / secondary special\",\"Secondary / secondary special\",\"Secondary / secondary special\",\"Secondary / secondary special\",\"Secondary / secondary special\",\"Secondary / secondary special\",\"Secondary / secondary special\",\"Secondary / secondary special\",\"Secondary / secondary special\",\"Secondary / secondary special\",\"Secondary / secondary special\",\"Secondary / secondary special\",\"Secondary / secondary special\",\"Secondary / secondary special\",\"Secondary / secondary special\",\"Secondary / secondary special\",\"Secondary / secondary special\",\"Secondary / secondary special\",\"Higher education\",\"Secondary / secondary special\",\"Secondary / secondary special\",\"Secondary / secondary special\",\"Secondary / secondary special\",\"Secondary / secondary special\",\"Secondary / secondary special\",\"Higher education\",\"Secondary / secondary special\",\"Secondary / secondary special\",\"Secondary / secondary special\",\"Secondary / secondary special\",\"Secondary / secondary special\",\"Secondary / secondary special\",\"Secondary / secondary special\",\"Secondary / secondary special\",\"Higher education\",\"Secondary / secondary special\",\"Secondary / secondary special\",\"Secondary / secondary special\",\"Secondary / secondary special\",\"Secondary / secondary special\",\"Secondary / secondary special\",\"Secondary / secondary special\",\"Higher education\",\"Higher education\",\"Secondary / secondary special\",\"Secondary / secondary special\",\"Secondary / secondary special\",\"Secondary / secondary special\",\"Secondary / secondary special\",\"Secondary / secondary special\",\"Secondary / secondary special\",\"Secondary / secondary special\",\"Secondary / secondary special\",\"Secondary / secondary special\",\"Secondary / secondary special\",\"Secondary / secondary special\",\"Secondary / secondary special\",\"Secondary / secondary special\",\"Secondary / secondary special\",\"Secondary / secondary special\",\"Secondary / secondary special\",\"Secondary / secondary special\",\"Secondary / secondary special\",\"Higher education\",\"Secondary / secondary special\",\"Secondary / secondary special\",\"Secondary / secondary special\",\"Secondary / secondary special\",\"Secondary / secondary special\",\"Secondary / secondary special\",\"Higher education\",\"Secondary / secondary special\",\"Higher education\",\"Secondary / secondary special\",\"Higher education\",\"Secondary / secondary special\",\"Secondary / secondary special\",\"Secondary / secondary special\",\"Higher education\",\"Secondary / secondary special\",\"Secondary / secondary special\",\"Secondary / secondary special\",\"Lower secondary\",\"Secondary / secondary special\",\"Secondary / secondary special\",\"Higher education\",\"Secondary / secondary special\",\"Incomplete higher\",\"Secondary / secondary special\",\"Secondary / secondary special\",\"Secondary / secondary special\",\"Secondary / secondary special\",\"Secondary / secondary special\",\"Secondary / secondary special\",\"Secondary / secondary special\",\"Secondary / secondary special\",\"Secondary / secondary special\",\"Secondary / secondary special\",\"Secondary / secondary special\",\"Secondary / secondary special\",\"Secondary / secondary special\",\"Secondary / secondary special\",\"Higher education\",\"Secondary / secondary special\",\"Secondary / secondary special\",\"Secondary / secondary special\",\"Secondary / secondary special\",\"Secondary / secondary special\",\"Secondary / secondary special\",\"Secondary / secondary special\",\"Higher education\",\"Secondary / secondary special\",\"Secondary / secondary special\",\"Secondary / secondary special\",\"Secondary / secondary special\",\"Secondary / secondary special\",\"Secondary / secondary special\",\"Secondary / secondary special\",\"Secondary / secondary special\",\"Secondary / secondary special\",\"Secondary / secondary special\",\"Secondary / secondary special\",\"Secondary / secondary special\",\"Secondary / secondary special\",\"Secondary / secondary special\",\"Incomplete higher\",\"Secondary / secondary special\",\"Secondary / secondary special\",\"Secondary / secondary special\",\"Secondary / secondary special\",\"Incomplete higher\",\"Secondary / secondary special\",\"Secondary / secondary special\",\"Secondary / secondary special\",\"Secondary / secondary special\",\"Secondary / secondary special\",\"Secondary / secondary special\",\"Higher education\",\"Secondary / secondary special\",\"Secondary / secondary special\",\"Secondary / secondary special\",\"Incomplete higher\",\"Secondary / secondary special\",\"Secondary / secondary special\",\"Secondary / secondary special\",\"Secondary / secondary special\",\"Higher education\",\"Secondary / secondary special\",\"Higher education\",\"Secondary / secondary special\",\"Secondary / secondary special\",\"Secondary / secondary special\",\"Secondary / secondary special\",\"Secondary / secondary special\",\"Lower secondary\",\"Secondary / secondary special\",\"Secondary / secondary special\",\"Lower secondary\",\"Secondary / secondary special\",\"Incomplete higher\",\"Incomplete higher\",\"Secondary / secondary special\",\"Secondary / secondary special\",\"Secondary / secondary special\",\"Secondary / secondary special\",\"Higher education\",\"Secondary / secondary special\",\"Secondary / secondary special\",\"Secondary / secondary special\",\"Secondary / secondary special\",\"Secondary / secondary special\",\"Secondary / secondary special\",\"Secondary / secondary special\",\"Secondary / secondary special\",\"Higher education\",\"Secondary / secondary special\",\"Secondary / secondary special\",\"Secondary / secondary special\",\"Secondary / secondary special\",\"Secondary / secondary special\",\"Secondary / secondary special\",\"Secondary / secondary special\",\"Secondary / secondary special\",\"Higher education\",\"Secondary / secondary special\",\"Secondary / secondary special\",\"Secondary / secondary special\",\"Secondary / secondary special\",\"Secondary / secondary special\",\"Higher education\",\"Secondary / secondary special\",\"Secondary / secondary special\",\"Higher education\",\"Secondary / secondary special\",\"Secondary / secondary special\",\"Secondary / secondary special\",\"Secondary / secondary special\",\"Higher education\",\"Secondary / secondary special\",\"Secondary / secondary special\",\"Secondary / secondary special\",\"Secondary / secondary special\",\"Secondary / secondary special\",\"Secondary / secondary special\",\"Secondary / secondary special\",\"Secondary / secondary special\",\"Secondary / secondary special\",\"Secondary / secondary special\",\"Secondary / secondary special\",\"Secondary / secondary special\",\"Secondary / secondary special\",\"Secondary / secondary special\",\"Secondary / secondary special\",\"Secondary / secondary special\",\"Higher education\",\"Higher education\",\"Secondary / secondary special\",\"Secondary / secondary special\",\"Secondary / secondary special\",\"Secondary / secondary special\",\"Incomplete higher\",\"Secondary / secondary special\",\"Secondary / secondary special\",\"Secondary / secondary special\",\"Secondary / secondary special\",\"Secondary / secondary special\",\"Higher education\",\"Higher education\",\"Higher education\",\"Secondary / secondary special\",\"Secondary / secondary special\",\"Secondary / secondary special\",\"Secondary / secondary special\",\"Secondary / secondary special\",\"Secondary / secondary special\",\"Secondary / secondary special\",\"Secondary / secondary special\",\"Secondary / secondary special\",\"Secondary / secondary special\",\"Secondary / secondary special\",\"Secondary / secondary special\",\"Secondary / secondary special\",\"Secondary / secondary special\",\"Higher education\",\"Secondary / secondary special\",\"Secondary / secondary special\",\"Secondary / secondary special\",\"Secondary / secondary special\",\"Secondary / secondary special\",\"Secondary / secondary special\",\"Secondary / secondary special\",\"Higher education\",\"Secondary / secondary special\",\"Secondary / secondary special\",\"Secondary / secondary special\",\"Lower secondary\",\"Secondary / secondary special\",\"Incomplete higher\",\"Secondary / secondary special\",\"Secondary / secondary special\",\"Secondary / secondary special\",\"Secondary / secondary special\",\"Secondary / secondary special\",\"Higher education\",\"Higher education\",\"Secondary / secondary special\",\"Secondary / secondary special\",\"Secondary / secondary special\",\"Secondary / secondary special\",\"Secondary / secondary special\",\"Secondary / secondary special\",\"Secondary / secondary special\",\"Secondary / secondary special\",\"Secondary / secondary special\",\"Lower secondary\",\"Secondary / secondary special\",\"Secondary / secondary special\",\"Higher education\",\"Secondary / secondary special\",\"Secondary / secondary special\",\"Secondary / secondary special\",\"Secondary / secondary special\",\"Secondary / secondary special\",\"Secondary / secondary special\",\"Secondary / secondary special\",\"Secondary / secondary special\",\"Secondary / secondary special\",\"Secondary / secondary special\",\"Secondary / secondary special\",\"Lower secondary\",\"Secondary / secondary special\",\"Incomplete higher\",\"Secondary / secondary special\",\"Secondary / secondary special\",\"Secondary / secondary special\",\"Secondary / secondary special\",\"Secondary / secondary special\",\"Secondary / secondary special\",\"Lower secondary\",\"Higher education\",\"Secondary / secondary special\",\"Higher education\",\"Secondary / secondary special\",\"Higher education\",\"Secondary / secondary special\",\"Higher education\",\"Secondary / secondary special\",\"Secondary / secondary special\",\"Secondary / secondary special\",\"Secondary / secondary special\",\"Higher education\",\"Secondary / secondary special\",\"Incomplete higher\",\"Secondary / secondary special\",\"Secondary / secondary special\",\"Secondary / secondary special\",\"Secondary / secondary special\",\"Secondary / secondary special\",\"Secondary / secondary special\",\"Secondary / secondary special\",\"Secondary / secondary special\",\"Secondary / secondary special\",\"Secondary / secondary special\",\"Secondary / secondary special\",\"Secondary / secondary special\",\"Secondary / secondary special\",\"Secondary / secondary special\",\"Secondary / secondary special\",\"Secondary / secondary special\",\"Secondary / secondary special\",\"Higher education\",\"Secondary / secondary special\",\"Secondary / secondary special\",\"Secondary / secondary special\",\"Secondary / secondary special\",\"Secondary / secondary special\",\"Secondary / secondary special\",\"Secondary / secondary special\",\"Secondary / secondary special\",\"Secondary / secondary special\",\"Secondary / secondary special\",\"Secondary / secondary special\",\"Secondary / secondary special\",\"Secondary / secondary special\",\"Secondary / secondary special\",\"Secondary / secondary special\",\"Higher education\",\"Secondary / secondary special\",\"Secondary / secondary special\",\"Secondary / secondary special\",\"Secondary / secondary special\",\"Secondary / secondary special\",\"Secondary / secondary special\",\"Higher education\",\"Higher education\",\"Incomplete higher\",\"Secondary / secondary special\",\"Secondary / secondary special\",\"Incomplete higher\",\"Higher education\",\"Secondary / secondary special\",\"Higher education\",\"Secondary / secondary special\",\"Higher education\",\"Incomplete higher\",\"Secondary / secondary special\",\"Secondary / secondary special\",\"Secondary / secondary special\",\"Incomplete higher\",\"Secondary / secondary special\",\"Higher education\",\"Secondary / secondary special\",\"Secondary / secondary special\",\"Higher education\",\"Secondary / secondary special\",\"Secondary / secondary special\",\"Secondary / secondary special\",\"Secondary / secondary special\",\"Secondary / secondary special\",\"Secondary / secondary special\",\"Secondary / secondary special\",\"Secondary / secondary special\",\"Secondary / secondary special\",\"Secondary / secondary special\",\"Secondary / secondary special\",\"Higher education\",\"Secondary / secondary special\",\"Secondary / secondary special\",\"Secondary / secondary special\",\"Secondary / secondary special\",\"Secondary / secondary special\",\"Higher education\",\"Secondary / secondary special\",\"Secondary / secondary special\",\"Secondary / secondary special\",\"Secondary / secondary special\",\"Higher education\",\"Secondary / secondary special\",\"Secondary / secondary special\",\"Secondary / secondary special\",\"Secondary / secondary special\",\"Secondary / secondary special\",\"Secondary / secondary special\",\"Higher education\",\"Secondary / secondary special\",\"Secondary / secondary special\",\"Higher education\",\"Secondary / secondary special\",\"Secondary / secondary special\",\"Incomplete higher\",\"Secondary / secondary special\",\"Secondary / secondary special\",\"Secondary / secondary special\",\"Secondary / secondary special\",\"Higher education\",\"Secondary / secondary special\",\"Secondary / secondary special\",\"Secondary / secondary special\",\"Secondary / secondary special\",\"Lower secondary\",\"Secondary / secondary special\",\"Secondary / secondary special\",\"Secondary / secondary special\",\"Higher education\",\"Lower secondary\",\"Secondary / secondary special\",\"Secondary / secondary special\",\"Secondary / secondary special\",\"Secondary / secondary special\",\"Secondary / secondary special\",\"Secondary / secondary special\"],\"x0\":\" \",\"xaxis\":\"x\",\"y0\":\" \",\"yaxis\":\"y\",\"type\":\"box\"},{\"alignmentgroup\":\"True\",\"hovertemplate\":\"TARGET=0<br>NAME_EDUCATION_TYPE=%{x}<extra></extra>\",\"legendgroup\":\"0\",\"marker\":{\"color\":\"#EF553B\"},\"name\":\"0\",\"notched\":false,\"offsetgroup\":\"0\",\"orientation\":\"h\",\"showlegend\":true,\"x\":[\"Higher education\",\"Secondary / secondary special\",\"Secondary / secondary special\",\"Secondary / secondary special\",\"Secondary / secondary special\",\"Higher education\",\"Higher education\",\"Secondary / secondary special\",\"Secondary / secondary special\",\"Higher education\",\"Secondary / secondary special\",\"Secondary / secondary special\",\"Secondary / secondary special\",\"Secondary / secondary special\",\"Secondary / secondary special\",\"Secondary / secondary special\",\"Secondary / secondary special\",\"Secondary / secondary special\",\"Higher education\",\"Secondary / secondary special\",\"Secondary / secondary special\",\"Secondary / secondary special\",\"Secondary / secondary special\",\"Secondary / secondary special\",\"Secondary / secondary special\",\"Secondary / secondary special\",\"Higher education\",\"Higher education\",\"Secondary / secondary special\",\"Secondary / secondary special\",\"Secondary / secondary special\",\"Secondary / secondary special\",\"Higher education\",\"Higher education\",\"Secondary / secondary special\",\"Secondary / secondary special\",\"Secondary / secondary special\",\"Higher education\",\"Secondary / secondary special\",\"Higher education\",\"Secondary / secondary special\",\"Secondary / secondary special\",\"Secondary / secondary special\",\"Secondary / secondary special\",\"Secondary / secondary special\",\"Secondary / secondary special\",\"Higher education\",\"Higher education\",\"Secondary / secondary special\",\"Higher education\",\"Secondary / secondary special\",\"Higher education\",\"Secondary / secondary special\",\"Secondary / secondary special\",\"Secondary / secondary special\",\"Higher education\",\"Secondary / secondary special\",\"Incomplete higher\",\"Higher education\",\"Higher education\",\"Secondary / secondary special\",\"Secondary / secondary special\",\"Higher education\",\"Secondary / secondary special\",\"Secondary / secondary special\",\"Secondary / secondary special\",\"Higher education\",\"Secondary / secondary special\",\"Secondary / secondary special\",\"Secondary / secondary special\",\"Higher education\",\"Secondary / secondary special\",\"Higher education\",\"Secondary / secondary special\",\"Secondary / secondary special\",\"Higher education\",\"Secondary / secondary special\",\"Secondary / secondary special\",\"Secondary / secondary special\",\"Secondary / secondary special\",\"Higher education\",\"Higher education\",\"Secondary / secondary special\",\"Secondary / secondary special\",\"Secondary / secondary special\",\"Secondary / secondary special\",\"Secondary / secondary special\",\"Secondary / secondary special\",\"Secondary / secondary special\",\"Secondary / secondary special\",\"Higher education\",\"Secondary / secondary special\",\"Higher education\",\"Secondary / secondary special\",\"Secondary / secondary special\",\"Higher education\",\"Secondary / secondary special\",\"Higher education\",\"Secondary / secondary special\",\"Secondary / secondary special\",\"Secondary / secondary special\",\"Secondary / secondary special\",\"Secondary / secondary special\",\"Higher education\",\"Secondary / secondary special\",\"Secondary / secondary special\",\"Secondary / secondary special\",\"Secondary / secondary special\",\"Secondary / secondary special\",\"Secondary / secondary special\",\"Secondary / secondary special\",\"Higher education\",\"Secondary / secondary special\",\"Higher education\",\"Higher education\",\"Higher education\",\"Secondary / secondary special\",\"Secondary / secondary special\",\"Secondary / secondary special\",\"Secondary / secondary special\",\"Secondary / secondary special\",\"Secondary / secondary special\",\"Higher education\",\"Secondary / secondary special\",\"Secondary / secondary special\",\"Secondary / secondary special\",\"Secondary / secondary special\",\"Secondary / secondary special\",\"Secondary / secondary special\",\"Incomplete higher\",\"Secondary / secondary special\",\"Secondary / secondary special\",\"Secondary / secondary special\",\"Higher education\",\"Higher education\",\"Secondary / secondary special\",\"Secondary / secondary special\",\"Secondary / secondary special\",\"Higher education\",\"Incomplete higher\",\"Secondary / secondary special\",\"Secondary / secondary special\",\"Secondary / secondary special\",\"Higher education\",\"Higher education\",\"Higher education\",\"Secondary / secondary special\",\"Secondary / secondary special\",\"Secondary / secondary special\",\"Secondary / secondary special\",\"Higher education\",\"Incomplete higher\",\"Higher education\",\"Higher education\",\"Secondary / secondary special\",\"Higher education\",\"Higher education\",\"Higher education\",\"Secondary / secondary special\",\"Secondary / secondary special\",\"Secondary / secondary special\",\"Secondary / secondary special\",\"Higher education\",\"Secondary / secondary special\",\"Secondary / secondary special\",\"Secondary / secondary special\",\"Secondary / secondary special\",\"Secondary / secondary special\",\"Secondary / secondary special\",\"Secondary / secondary special\",\"Higher education\",\"Secondary / secondary special\",\"Secondary / secondary special\",\"Secondary / secondary special\",\"Secondary / secondary special\",\"Secondary / secondary special\",\"Higher education\",\"Higher education\",\"Higher education\",\"Secondary / secondary special\",\"Secondary / secondary special\",\"Secondary / secondary special\",\"Secondary / secondary special\",\"Higher education\",\"Secondary / secondary special\",\"Secondary / secondary special\",\"Secondary / secondary special\",\"Secondary / secondary special\",\"Secondary / secondary special\",\"Secondary / secondary special\",\"Secondary / secondary special\",\"Secondary / secondary special\",\"Secondary / secondary special\",\"Secondary / secondary special\",\"Secondary / secondary special\",\"Secondary / secondary special\",\"Secondary / secondary special\",\"Higher education\",\"Secondary / secondary special\",\"Secondary / secondary special\",\"Secondary / secondary special\",\"Secondary / secondary special\",\"Secondary / secondary special\",\"Secondary / secondary special\",\"Secondary / secondary special\",\"Higher education\",\"Secondary / secondary special\",\"Secondary / secondary special\",\"Secondary / secondary special\",\"Secondary / secondary special\",\"Higher education\",\"Secondary / secondary special\",\"Secondary / secondary special\",\"Higher education\",\"Higher education\",\"Secondary / secondary special\",\"Secondary / secondary special\",\"Higher education\",\"Secondary / secondary special\",\"Secondary / secondary special\",\"Higher education\",\"Secondary / secondary special\",\"Secondary / secondary special\",\"Secondary / secondary special\",\"Secondary / secondary special\",\"Secondary / secondary special\",\"Secondary / secondary special\",\"Secondary / secondary special\",\"Secondary / secondary special\",\"Higher education\",\"Secondary / secondary special\",\"Higher education\",\"Secondary / secondary special\",\"Higher education\",\"Secondary / secondary special\",\"Incomplete higher\",\"Secondary / secondary special\",\"Higher education\",\"Secondary / secondary special\",\"Secondary / secondary special\",\"Secondary / secondary special\",\"Secondary / secondary special\",\"Secondary / secondary special\",\"Secondary / secondary special\",\"Secondary / secondary special\",\"Secondary / secondary special\",\"Incomplete higher\",\"Secondary / secondary special\",\"Higher education\",\"Secondary / secondary special\",\"Higher education\",\"Higher education\",\"Secondary / secondary special\",\"Higher education\",\"Secondary / secondary special\",\"Higher education\",\"Higher education\",\"Higher education\",\"Secondary / secondary special\",\"Secondary / secondary special\",\"Secondary / secondary special\",\"Higher education\",\"Secondary / secondary special\",\"Secondary / secondary special\",\"Secondary / secondary special\",\"Secondary / secondary special\",\"Secondary / secondary special\",\"Secondary / secondary special\",\"Incomplete higher\",\"Secondary / secondary special\",\"Secondary / secondary special\",\"Higher education\",\"Secondary / secondary special\",\"Secondary / secondary special\",\"Secondary / secondary special\",\"Secondary / secondary special\",\"Secondary / secondary special\",\"Secondary / secondary special\",\"Higher education\",\"Secondary / secondary special\",\"Higher education\",\"Secondary / secondary special\",\"Incomplete higher\",\"Secondary / secondary special\",\"Secondary / secondary special\",\"Secondary / secondary special\",\"Secondary / secondary special\",\"Secondary / secondary special\",\"Secondary / secondary special\",\"Secondary / secondary special\",\"Incomplete higher\",\"Secondary / secondary special\",\"Secondary / secondary special\",\"Secondary / secondary special\",\"Secondary / secondary special\",\"Higher education\",\"Secondary / secondary special\",\"Higher education\",\"Higher education\",\"Secondary / secondary special\",\"Secondary / secondary special\",\"Secondary / secondary special\",\"Higher education\",\"Secondary / secondary special\",\"Secondary / secondary special\",\"Secondary / secondary special\",\"Higher education\",\"Secondary / secondary special\",\"Higher education\",\"Secondary / secondary special\",\"Secondary / secondary special\",\"Higher education\",\"Higher education\",\"Secondary / secondary special\",\"Secondary / secondary special\",\"Secondary / secondary special\",\"Higher education\",\"Higher education\",\"Secondary / secondary special\",\"Secondary / secondary special\",\"Higher education\",\"Secondary / secondary special\",\"Secondary / secondary special\",\"Secondary / secondary special\",\"Secondary / secondary special\",\"Secondary / secondary special\",\"Secondary / secondary special\",\"Higher education\",\"Secondary / secondary special\",\"Secondary / secondary special\",\"Higher education\",\"Incomplete higher\",\"Incomplete higher\",\"Secondary / secondary special\",\"Higher education\",\"Secondary / secondary special\",\"Secondary / secondary special\",\"Secondary / secondary special\",\"Secondary / secondary special\",\"Secondary / secondary special\",\"Secondary / secondary special\",\"Secondary / secondary special\",\"Secondary / secondary special\",\"Higher education\",\"Higher education\",\"Higher education\",\"Higher education\",\"Higher education\",\"Secondary / secondary special\",\"Secondary / secondary special\",\"Secondary / secondary special\",\"Secondary / secondary special\",\"Secondary / secondary special\",\"Secondary / secondary special\",\"Secondary / secondary special\",\"Secondary / secondary special\",\"Secondary / secondary special\",\"Secondary / secondary special\",\"Secondary / secondary special\",\"Secondary / secondary special\",\"Secondary / secondary special\",\"Secondary / secondary special\",\"Higher education\",\"Secondary / secondary special\",\"Higher education\",\"Higher education\",\"Higher education\",\"Secondary / secondary special\",\"Higher education\",\"Secondary / secondary special\",\"Secondary / secondary special\",\"Higher education\",\"Secondary / secondary special\",\"Secondary / secondary special\",\"Secondary / secondary special\",\"Secondary / secondary special\",\"Secondary / secondary special\",\"Secondary / secondary special\",\"Secondary / secondary special\",\"Higher education\",\"Higher education\",\"Secondary / secondary special\",\"Higher education\",\"Higher education\",\"Higher education\",\"Secondary / secondary special\",\"Secondary / secondary special\",\"Secondary / secondary special\",\"Secondary / secondary special\",\"Secondary / secondary special\",\"Secondary / secondary special\",\"Secondary / secondary special\",\"Secondary / secondary special\",\"Higher education\",\"Secondary / secondary special\",\"Secondary / secondary special\",\"Higher education\",\"Higher education\",\"Secondary / secondary special\",\"Secondary / secondary special\",\"Secondary / secondary special\",\"Secondary / secondary special\",\"Secondary / secondary special\",\"Secondary / secondary special\",\"Higher education\",\"Higher education\",\"Secondary / secondary special\",\"Secondary / secondary special\",\"Secondary / secondary special\",\"Secondary / secondary special\",\"Secondary / secondary special\",\"Higher education\",\"Secondary / secondary special\",\"Secondary / secondary special\",\"Secondary / secondary special\",\"Higher education\",\"Secondary / secondary special\",\"Secondary / secondary special\",\"Secondary / secondary special\",\"Secondary / secondary special\",\"Secondary / secondary special\",\"Secondary / secondary special\",\"Secondary / secondary special\",\"Secondary / secondary special\",\"Secondary / secondary special\",\"Secondary / secondary special\",\"Secondary / secondary special\",\"Higher education\",\"Secondary / secondary special\",\"Higher education\",\"Secondary / secondary special\",\"Higher education\",\"Secondary / secondary special\",\"Secondary / secondary special\",\"Secondary / secondary special\",\"Secondary / secondary special\",\"Secondary / secondary special\",\"Higher education\",\"Secondary / secondary special\",\"Secondary / secondary special\",\"Secondary / secondary special\",\"Secondary / secondary special\",\"Secondary / secondary special\",\"Secondary / secondary special\",\"Secondary / secondary special\",\"Secondary / secondary special\",\"Higher education\",\"Higher education\",\"Secondary / secondary special\",\"Secondary / secondary special\",\"Incomplete higher\",\"Secondary / secondary special\",\"Higher education\",\"Higher education\",\"Higher education\",\"Secondary / secondary special\",\"Secondary / secondary special\",\"Secondary / secondary special\",\"Secondary / secondary special\",\"Secondary / secondary special\",\"Secondary / secondary special\",\"Lower secondary\",\"Secondary / secondary special\",\"Higher education\",\"Higher education\",\"Secondary / secondary special\",\"Lower secondary\",\"Lower secondary\",\"Secondary / secondary special\",\"Secondary / secondary special\",\"Higher education\",\"Secondary / secondary special\",\"Secondary / secondary special\",\"Secondary / secondary special\",\"Secondary / secondary special\",\"Secondary / secondary special\",\"Secondary / secondary special\",\"Higher education\",\"Secondary / secondary special\",\"Secondary / secondary special\",\"Secondary / secondary special\",\"Higher education\",\"Secondary / secondary special\",\"Secondary / secondary special\",\"Secondary / secondary special\",\"Higher education\",\"Secondary / secondary special\",\"Secondary / secondary special\",\"Secondary / secondary special\",\"Secondary / secondary special\",\"Higher education\",\"Higher education\",\"Secondary / secondary special\",\"Secondary / secondary special\",\"Secondary / secondary special\",\"Incomplete higher\",\"Higher education\",\"Higher education\",\"Incomplete higher\",\"Secondary / secondary special\",\"Higher education\",\"Secondary / secondary special\",\"Secondary / secondary special\",\"Secondary / secondary special\",\"Secondary / secondary special\",\"Higher education\",\"Higher education\",\"Secondary / secondary special\",\"Secondary / secondary special\",\"Higher education\",\"Secondary / secondary special\",\"Higher education\",\"Secondary / secondary special\",\"Higher education\",\"Secondary / secondary special\",\"Higher education\",\"Secondary / secondary special\",\"Secondary / secondary special\",\"Higher education\",\"Incomplete higher\",\"Higher education\",\"Higher education\",\"Secondary / secondary special\",\"Higher education\",\"Secondary / secondary special\",\"Secondary / secondary special\",\"Secondary / secondary special\",\"Secondary / secondary special\",\"Higher education\",\"Secondary / secondary special\",\"Secondary / secondary special\",\"Lower secondary\",\"Secondary / secondary special\",\"Secondary / secondary special\",\"Secondary / secondary special\",\"Higher education\",\"Secondary / secondary special\",\"Secondary / secondary special\",\"Secondary / secondary special\",\"Secondary / secondary special\",\"Secondary / secondary special\",\"Secondary / secondary special\",\"Higher education\",\"Secondary / secondary special\",\"Incomplete higher\",\"Lower secondary\",\"Higher education\",\"Higher education\",\"Secondary / secondary special\",\"Secondary / secondary special\",\"Higher education\",\"Secondary / secondary special\",\"Secondary / secondary special\",\"Secondary / secondary special\",\"Secondary / secondary special\",\"Secondary / secondary special\",\"Secondary / secondary special\",\"Secondary / secondary special\",\"Higher education\",\"Secondary / secondary special\",\"Secondary / secondary special\",\"Secondary / secondary special\",\"Secondary / secondary special\",\"Incomplete higher\",\"Secondary / secondary special\",\"Higher education\",\"Secondary / secondary special\",\"Lower secondary\",\"Higher education\",\"Secondary / secondary special\",\"Higher education\",\"Secondary / secondary special\",\"Secondary / secondary special\",\"Higher education\",\"Secondary / secondary special\",\"Secondary / secondary special\",\"Higher education\",\"Secondary / secondary special\",\"Secondary / secondary special\",\"Higher education\",\"Higher education\",\"Secondary / secondary special\",\"Secondary / secondary special\",\"Higher education\",\"Higher education\",\"Secondary / secondary special\",\"Secondary / secondary special\",\"Secondary / secondary special\",\"Secondary / secondary special\",\"Incomplete higher\",\"Higher education\",\"Secondary / secondary special\",\"Secondary / secondary special\",\"Secondary / secondary special\",\"Higher education\",\"Secondary / secondary special\",\"Incomplete higher\",\"Incomplete higher\",\"Secondary / secondary special\",\"Secondary / secondary special\",\"Secondary / secondary special\",\"Secondary / secondary special\",\"Secondary / secondary special\",\"Higher education\",\"Secondary / secondary special\",\"Secondary / secondary special\",\"Secondary / secondary special\",\"Higher education\",\"Higher education\",\"Higher education\",\"Secondary / secondary special\",\"Secondary / secondary special\",\"Higher education\",\"Secondary / secondary special\",\"Higher education\",\"Incomplete higher\",\"Higher education\",\"Higher education\",\"Secondary / secondary special\",\"Secondary / secondary special\",\"Secondary / secondary special\",\"Higher education\",\"Higher education\",\"Secondary / secondary special\",\"Secondary / secondary special\",\"Secondary / secondary special\",\"Higher education\",\"Secondary / secondary special\",\"Secondary / secondary special\",\"Higher education\",\"Higher education\",\"Secondary / secondary special\",\"Secondary / secondary special\",\"Secondary / secondary special\",\"Higher education\",\"Higher education\",\"Higher education\",\"Secondary / secondary special\",\"Secondary / secondary special\",\"Higher education\",\"Secondary / secondary special\",\"Secondary / secondary special\",\"Secondary / secondary special\",\"Secondary / secondary special\",\"Lower secondary\",\"Secondary / secondary special\",\"Secondary / secondary special\",\"Higher education\",\"Incomplete higher\",\"Higher education\",\"Higher education\",\"Secondary / secondary special\",\"Secondary / secondary special\",\"Higher education\",\"Higher education\",\"Higher education\",\"Secondary / secondary special\",\"Secondary / secondary special\",\"Higher education\",\"Secondary / secondary special\",\"Secondary / secondary special\",\"Secondary / secondary special\",\"Secondary / secondary special\",\"Secondary / secondary special\",\"Higher education\",\"Secondary / secondary special\",\"Secondary / secondary special\",\"Higher education\",\"Secondary / secondary special\",\"Secondary / secondary special\",\"Higher education\",\"Secondary / secondary special\",\"Secondary / secondary special\",\"Incomplete higher\",\"Higher education\",\"Secondary / secondary special\",\"Secondary / secondary special\",\"Higher education\",\"Secondary / secondary special\",\"Secondary / secondary special\",\"Secondary / secondary special\",\"Secondary / secondary special\",\"Secondary / secondary special\",\"Secondary / secondary special\",\"Secondary / secondary special\",\"Secondary / secondary special\",\"Secondary / secondary special\",\"Secondary / secondary special\",\"Secondary / secondary special\",\"Secondary / secondary special\",\"Secondary / secondary special\",\"Higher education\",\"Secondary / secondary special\",\"Secondary / secondary special\",\"Secondary / secondary special\",\"Secondary / secondary special\",\"Secondary / secondary special\",\"Secondary / secondary special\",\"Secondary / secondary special\",\"Secondary / secondary special\",\"Incomplete higher\",\"Higher education\",\"Higher education\",\"Higher education\",\"Secondary / secondary special\",\"Secondary / secondary special\",\"Secondary / secondary special\",\"Secondary / secondary special\",\"Higher education\",\"Higher education\",\"Secondary / secondary special\",\"Higher education\",\"Secondary / secondary special\",\"Secondary / secondary special\",\"Lower secondary\",\"Secondary / secondary special\",\"Secondary / secondary special\",\"Secondary / secondary special\",\"Secondary / secondary special\",\"Secondary / secondary special\",\"Higher education\",\"Secondary / secondary special\",\"Secondary / secondary special\",\"Higher education\",\"Secondary / secondary special\",\"Secondary / secondary special\",\"Secondary / secondary special\",\"Higher education\",\"Higher education\",\"Higher education\",\"Secondary / secondary special\",\"Secondary / secondary special\",\"Secondary / secondary special\",\"Higher education\",\"Secondary / secondary special\",\"Secondary / secondary special\",\"Secondary / secondary special\",\"Secondary / secondary special\",\"Secondary / secondary special\",\"Secondary / secondary special\",\"Secondary / secondary special\",\"Secondary / secondary special\",\"Higher education\",\"Higher education\",\"Higher education\",\"Secondary / secondary special\",\"Higher education\",\"Secondary / secondary special\",\"Secondary / secondary special\",\"Secondary / secondary special\",\"Secondary / secondary special\",\"Secondary / secondary special\",\"Secondary / secondary special\",\"Secondary / secondary special\",\"Secondary / secondary special\",\"Secondary / secondary special\",\"Secondary / secondary special\",\"Higher education\",\"Secondary / secondary special\",\"Higher education\",\"Secondary / secondary special\",\"Secondary / secondary special\",\"Higher education\",\"Higher education\",\"Secondary / secondary special\",\"Secondary / secondary special\",\"Higher education\",\"Secondary / secondary special\",\"Secondary / secondary special\",\"Higher education\",\"Secondary / secondary special\",\"Secondary / secondary special\",\"Secondary / secondary special\",\"Secondary / secondary special\",\"Secondary / secondary special\",\"Secondary / secondary special\",\"Higher education\",\"Secondary / secondary special\",\"Higher education\",\"Lower secondary\",\"Secondary / secondary special\",\"Secondary / secondary special\",\"Secondary / secondary special\",\"Higher education\",\"Secondary / secondary special\",\"Secondary / secondary special\",\"Secondary / secondary special\",\"Higher education\",\"Secondary / secondary special\",\"Secondary / secondary special\",\"Secondary / secondary special\",\"Secondary / secondary special\",\"Secondary / secondary special\",\"Secondary / secondary special\",\"Higher education\",\"Secondary / secondary special\",\"Secondary / secondary special\",\"Secondary / secondary special\",\"Secondary / secondary special\",\"Secondary / secondary special\",\"Secondary / secondary special\",\"Secondary / secondary special\",\"Secondary / secondary special\",\"Secondary / secondary special\",\"Higher education\",\"Secondary / secondary special\",\"Secondary / secondary special\",\"Secondary / secondary special\",\"Secondary / secondary special\",\"Secondary / secondary special\",\"Higher education\",\"Higher education\",\"Secondary / secondary special\",\"Secondary / secondary special\",\"Secondary / secondary special\",\"Secondary / secondary special\",\"Secondary / secondary special\",\"Higher education\",\"Incomplete higher\",\"Secondary / secondary special\",\"Secondary / secondary special\",\"Secondary / secondary special\",\"Higher education\",\"Secondary / secondary special\",\"Secondary / secondary special\",\"Secondary / secondary special\",\"Secondary / secondary special\",\"Higher education\",\"Secondary / secondary special\",\"Secondary / secondary special\",\"Secondary / secondary special\",\"Secondary / secondary special\",\"Higher education\",\"Higher education\",\"Higher education\",\"Secondary / secondary special\",\"Secondary / secondary special\",\"Incomplete higher\",\"Secondary / secondary special\",\"Secondary / secondary special\",\"Secondary / secondary special\",\"Secondary / secondary special\",\"Higher education\",\"Secondary / secondary special\",\"Secondary / secondary special\",\"Secondary / secondary special\",\"Secondary / secondary special\",\"Secondary / secondary special\",\"Higher education\",\"Secondary / secondary special\",\"Secondary / secondary special\",\"Secondary / secondary special\",\"Higher education\",\"Secondary / secondary special\",\"Secondary / secondary special\",\"Secondary / secondary special\",\"Higher education\",\"Higher education\",\"Secondary / secondary special\",\"Secondary / secondary special\",\"Secondary / secondary special\",\"Higher education\",\"Higher education\",\"Secondary / secondary special\",\"Secondary / secondary special\",\"Higher education\",\"Secondary / secondary special\",\"Higher education\",\"Secondary / secondary special\",\"Secondary / secondary special\",\"Higher education\",\"Secondary / secondary special\",\"Secondary / secondary special\",\"Secondary / secondary special\",\"Secondary / secondary special\",\"Higher education\",\"Secondary / secondary special\",\"Secondary / secondary special\",\"Secondary / secondary special\",\"Secondary / secondary special\",\"Secondary / secondary special\",\"Secondary / secondary special\",\"Secondary / secondary special\",\"Secondary / secondary special\",\"Higher education\",\"Higher education\",\"Secondary / secondary special\",\"Higher education\",\"Incomplete higher\",\"Secondary / secondary special\",\"Secondary / secondary special\",\"Secondary / secondary special\",\"Higher education\",\"Secondary / secondary special\",\"Higher education\",\"Secondary / secondary special\",\"Secondary / secondary special\",\"Higher education\",\"Higher education\",\"Secondary / secondary special\",\"Secondary / secondary special\",\"Secondary / secondary special\",\"Higher education\",\"Secondary / secondary special\",\"Higher education\",\"Secondary / secondary special\",\"Secondary / secondary special\",\"Secondary / secondary special\",\"Higher education\",\"Secondary / secondary special\",\"Secondary / secondary special\",\"Secondary / secondary special\",\"Secondary / secondary special\",\"Secondary / secondary special\",\"Secondary / secondary special\",\"Secondary / secondary special\",\"Higher education\",\"Secondary / secondary special\",\"Secondary / secondary special\",\"Secondary / secondary special\",\"Secondary / secondary special\",\"Secondary / secondary special\",\"Higher education\",\"Secondary / secondary special\",\"Secondary / secondary special\",\"Secondary / secondary special\",\"Secondary / secondary special\",\"Secondary / secondary special\",\"Higher education\",\"Secondary / secondary special\",\"Secondary / secondary special\",\"Higher education\",\"Secondary / secondary special\",\"Secondary / secondary special\",\"Secondary / secondary special\",\"Secondary / secondary special\",\"Secondary / secondary special\",\"Secondary / secondary special\",\"Higher education\",\"Higher education\",\"Higher education\",\"Secondary / secondary special\",\"Secondary / secondary special\",\"Higher education\",\"Secondary / secondary special\",\"Secondary / secondary special\",\"Secondary / secondary special\",\"Higher education\",\"Secondary / secondary special\",\"Higher education\",\"Secondary / secondary special\",\"Secondary / secondary special\",\"Secondary / secondary special\",\"Secondary / secondary special\",\"Secondary / secondary special\",\"Secondary / secondary special\",\"Secondary / secondary special\",\"Secondary / secondary special\",\"Secondary / secondary special\",\"Secondary / secondary special\",\"Secondary / secondary special\",\"Incomplete higher\",\"Secondary / secondary special\",\"Secondary / secondary special\",\"Secondary / secondary special\",\"Secondary / secondary special\",\"Secondary / secondary special\",\"Secondary / secondary special\",\"Secondary / secondary special\",\"Higher education\",\"Higher education\",\"Secondary / secondary special\",\"Higher education\",\"Secondary / secondary special\",\"Secondary / secondary special\",\"Secondary / secondary special\",\"Higher education\",\"Secondary / secondary special\",\"Higher education\",\"Secondary / secondary special\",\"Higher education\",\"Secondary / secondary special\",\"Higher education\",\"Secondary / secondary special\",\"Higher education\",\"Higher education\",\"Incomplete higher\",\"Secondary / secondary special\",\"Higher education\",\"Secondary / secondary special\",\"Higher education\",\"Higher education\",\"Secondary / secondary special\",\"Secondary / secondary special\",\"Secondary / secondary special\",\"Secondary / secondary special\",\"Secondary / secondary special\",\"Secondary / secondary special\",\"Secondary / secondary special\",\"Secondary / secondary special\",\"Higher education\",\"Secondary / secondary special\",\"Secondary / secondary special\",\"Secondary / secondary special\",\"Secondary / secondary special\",\"Lower secondary\",\"Incomplete higher\",\"Higher education\",\"Secondary / secondary special\",\"Secondary / secondary special\",\"Secondary / secondary special\",\"Secondary / secondary special\",\"Secondary / secondary special\",\"Secondary / secondary special\",\"Higher education\",\"Higher education\",\"Secondary / secondary special\",\"Secondary / secondary special\",\"Secondary / secondary special\",\"Secondary / secondary special\",\"Secondary / secondary special\",\"Secondary / secondary special\",\"Secondary / secondary special\",\"Higher education\",\"Higher education\",\"Secondary / secondary special\",\"Secondary / secondary special\",\"Secondary / secondary special\",\"Secondary / secondary special\",\"Secondary / secondary special\",\"Secondary / secondary special\",\"Secondary / secondary special\",\"Secondary / secondary special\",\"Secondary / secondary special\",\"Secondary / secondary special\",\"Secondary / secondary special\",\"Secondary / secondary special\",\"Incomplete higher\",\"Secondary / secondary special\",\"Higher education\",\"Secondary / secondary special\",\"Secondary / secondary special\",\"Secondary / secondary special\",\"Secondary / secondary special\",\"Secondary / secondary special\",\"Secondary / secondary special\",\"Secondary / secondary special\",\"Secondary / secondary special\",\"Higher education\",\"Secondary / secondary special\",\"Secondary / secondary special\",\"Higher education\",\"Secondary / secondary special\",\"Secondary / secondary special\",\"Secondary / secondary special\",\"Secondary / secondary special\",\"Secondary / secondary special\",\"Secondary / secondary special\",\"Higher education\",\"Secondary / secondary special\",\"Secondary / secondary special\",\"Secondary / secondary special\",\"Incomplete higher\",\"Secondary / secondary special\",\"Incomplete higher\",\"Higher education\",\"Secondary / secondary special\",\"Secondary / secondary special\",\"Secondary / secondary special\",\"Secondary / secondary special\",\"Secondary / secondary special\",\"Secondary / secondary special\",\"Higher education\",\"Secondary / secondary special\",\"Secondary / secondary special\",\"Higher education\",\"Incomplete higher\",\"Secondary / secondary special\",\"Secondary / secondary special\",\"Higher education\",\"Secondary / secondary special\",\"Secondary / secondary special\",\"Higher education\",\"Higher education\",\"Secondary / secondary special\",\"Secondary / secondary special\",\"Secondary / secondary special\",\"Incomplete higher\",\"Secondary / secondary special\",\"Secondary / secondary special\",\"Secondary / secondary special\",\"Secondary / secondary special\",\"Secondary / secondary special\",\"Secondary / secondary special\",\"Secondary / secondary special\",\"Higher education\",\"Higher education\",\"Higher education\",\"Secondary / secondary special\",\"Secondary / secondary special\",\"Secondary / secondary special\",\"Higher education\",\"Incomplete higher\",\"Secondary / secondary special\",\"Secondary / secondary special\",\"Secondary / secondary special\",\"Secondary / secondary special\",\"Higher education\",\"Higher education\",\"Secondary / secondary special\",\"Secondary / secondary special\",\"Secondary / secondary special\",\"Secondary / secondary special\",\"Higher education\",\"Secondary / secondary special\",\"Secondary / secondary special\",\"Secondary / secondary special\",\"Secondary / secondary special\",\"Higher education\",\"Secondary / secondary special\",\"Secondary / secondary special\",\"Secondary / secondary special\",\"Secondary / secondary special\",\"Higher education\",\"Secondary / secondary special\",\"Secondary / secondary special\",\"Secondary / secondary special\",\"Higher education\",\"Higher education\",\"Secondary / secondary special\",\"Secondary / secondary special\",\"Higher education\",\"Secondary / secondary special\",\"Secondary / secondary special\",\"Incomplete higher\",\"Secondary / secondary special\",\"Secondary / secondary special\",\"Higher education\",\"Secondary / secondary special\",\"Secondary / secondary special\",\"Secondary / secondary special\",\"Secondary / secondary special\",\"Secondary / secondary special\",\"Higher education\",\"Secondary / secondary special\",\"Incomplete higher\",\"Secondary / secondary special\",\"Secondary / secondary special\",\"Secondary / secondary special\",\"Secondary / secondary special\",\"Secondary / secondary special\",\"Secondary / secondary special\",\"Secondary / secondary special\",\"Higher education\",\"Secondary / secondary special\",\"Higher education\",\"Secondary / secondary special\",\"Secondary / secondary special\",\"Higher education\",\"Secondary / secondary special\",\"Secondary / secondary special\",\"Lower secondary\",\"Secondary / secondary special\",\"Secondary / secondary special\",\"Secondary / secondary special\",\"Secondary / secondary special\",\"Secondary / secondary special\",\"Higher education\",\"Secondary / secondary special\",\"Secondary / secondary special\",\"Secondary / secondary special\",\"Secondary / secondary special\",\"Secondary / secondary special\",\"Higher education\",\"Secondary / secondary special\",\"Secondary / secondary special\",\"Secondary / secondary special\",\"Secondary / secondary special\",\"Secondary / secondary special\",\"Higher education\",\"Secondary / secondary special\",\"Secondary / secondary special\",\"Secondary / secondary special\",\"Secondary / secondary special\",\"Secondary / secondary special\",\"Secondary / secondary special\",\"Secondary / secondary special\",\"Secondary / secondary special\",\"Secondary / secondary special\",\"Higher education\",\"Higher education\",\"Secondary / secondary special\",\"Secondary / secondary special\",\"Secondary / secondary special\",\"Higher education\",\"Secondary / secondary special\",\"Secondary / secondary special\",\"Secondary / secondary special\",\"Secondary / secondary special\",\"Secondary / secondary special\",\"Secondary / secondary special\",\"Secondary / secondary special\",\"Higher education\",\"Secondary / secondary special\",\"Secondary / secondary special\",\"Secondary / secondary special\",\"Secondary / secondary special\",\"Secondary / secondary special\",\"Secondary / secondary special\",\"Higher education\",\"Secondary / secondary special\",\"Secondary / secondary special\",\"Higher education\",\"Secondary / secondary special\",\"Secondary / secondary special\",\"Secondary / secondary special\",\"Higher education\",\"Secondary / secondary special\",\"Higher education\",\"Secondary / secondary special\",\"Secondary / secondary special\",\"Higher education\",\"Higher education\",\"Higher education\",\"Secondary / secondary special\",\"Secondary / secondary special\",\"Secondary / secondary special\",\"Incomplete higher\",\"Higher education\",\"Incomplete higher\",\"Higher education\",\"Secondary / secondary special\",\"Secondary / secondary special\",\"Secondary / secondary special\",\"Secondary / secondary special\",\"Secondary / secondary special\",\"Higher education\",\"Higher education\",\"Higher education\",\"Higher education\",\"Secondary / secondary special\",\"Secondary / secondary special\",\"Secondary / secondary special\",\"Secondary / secondary special\",\"Secondary / secondary special\",\"Secondary / secondary special\",\"Higher education\",\"Higher education\",\"Secondary / secondary special\",\"Secondary / secondary special\",\"Higher education\",\"Higher education\",\"Secondary / secondary special\",\"Higher education\",\"Higher education\",\"Secondary / secondary special\",\"Secondary / secondary special\",\"Secondary / secondary special\",\"Incomplete higher\",\"Higher education\",\"Higher education\",\"Higher education\",\"Higher education\",\"Higher education\",\"Incomplete higher\",\"Higher education\",\"Secondary / secondary special\",\"Secondary / secondary special\",\"Secondary / secondary special\",\"Higher education\",\"Secondary / secondary special\",\"Secondary / secondary special\",\"Secondary / secondary special\",\"Secondary / secondary special\",\"Secondary / secondary special\",\"Secondary / secondary special\",\"Secondary / secondary special\",\"Higher education\",\"Secondary / secondary special\",\"Secondary / secondary special\",\"Secondary / secondary special\",\"Secondary / secondary special\",\"Secondary / secondary special\",\"Secondary / secondary special\",\"Higher education\",\"Secondary / secondary special\",\"Secondary / secondary special\",\"Higher education\",\"Secondary / secondary special\",\"Higher education\",\"Secondary / secondary special\",\"Secondary / secondary special\",\"Secondary / secondary special\",\"Incomplete higher\",\"Secondary / secondary special\",\"Secondary / secondary special\",\"Higher education\",\"Higher education\",\"Higher education\",\"Secondary / secondary special\",\"Secondary / secondary special\",\"Secondary / secondary special\",\"Higher education\",\"Secondary / secondary special\",\"Secondary / secondary special\",\"Secondary / secondary special\",\"Higher education\",\"Higher education\",\"Higher education\",\"Secondary / secondary special\",\"Secondary / secondary special\",\"Secondary / secondary special\",\"Higher education\",\"Secondary / secondary special\",\"Higher education\",\"Secondary / secondary special\",\"Secondary / secondary special\",\"Secondary / secondary special\",\"Higher education\",\"Secondary / secondary special\",\"Secondary / secondary special\",\"Secondary / secondary special\",\"Secondary / secondary special\",\"Secondary / secondary special\",\"Incomplete higher\",\"Higher education\",\"Secondary / secondary special\",\"Higher education\",\"Secondary / secondary special\",\"Secondary / secondary special\",\"Incomplete higher\",\"Secondary / secondary special\",\"Secondary / secondary special\",\"Secondary / secondary special\",\"Secondary / secondary special\",\"Secondary / secondary special\",\"Incomplete higher\",\"Secondary / secondary special\",\"Secondary / secondary special\",\"Secondary / secondary special\",\"Secondary / secondary special\",\"Secondary / secondary special\",\"Secondary / secondary special\",\"Higher education\",\"Secondary / secondary special\",\"Higher education\",\"Higher education\",\"Secondary / secondary special\",\"Higher education\",\"Higher education\",\"Incomplete higher\",\"Higher education\",\"Secondary / secondary special\",\"Secondary / secondary special\",\"Higher education\",\"Secondary / secondary special\",\"Secondary / secondary special\",\"Secondary / secondary special\",\"Secondary / secondary special\",\"Secondary / secondary special\",\"Secondary / secondary special\",\"Secondary / secondary special\",\"Incomplete higher\",\"Secondary / secondary special\",\"Secondary / secondary special\",\"Secondary / secondary special\",\"Higher education\",\"Higher education\",\"Higher education\",\"Higher education\",\"Secondary / secondary special\",\"Secondary / secondary special\",\"Secondary / secondary special\",\"Secondary / secondary special\",\"Higher education\",\"Higher education\",\"Secondary / secondary special\",\"Secondary / secondary special\",\"Secondary / secondary special\",\"Secondary / secondary special\",\"Higher education\",\"Secondary / secondary special\",\"Secondary / secondary special\",\"Secondary / secondary special\",\"Secondary / secondary special\",\"Secondary / secondary special\",\"Secondary / secondary special\",\"Secondary / secondary special\",\"Higher education\",\"Higher education\",\"Secondary / secondary special\",\"Secondary / secondary special\",\"Secondary / secondary special\",\"Secondary / secondary special\",\"Higher education\",\"Secondary / secondary special\",\"Secondary / secondary special\",\"Secondary / secondary special\",\"Higher education\",\"Higher education\",\"Secondary / secondary special\",\"Secondary / secondary special\",\"Secondary / secondary special\",\"Secondary / secondary special\",\"Secondary / secondary special\",\"Secondary / secondary special\",\"Secondary / secondary special\",\"Higher education\",\"Secondary / secondary special\",\"Secondary / secondary special\",\"Higher education\",\"Secondary / secondary special\",\"Secondary / secondary special\",\"Secondary / secondary special\",\"Secondary / secondary special\",\"Secondary / secondary special\",\"Secondary / secondary special\",\"Secondary / secondary special\",\"Secondary / secondary special\",\"Secondary / secondary special\",\"Secondary / secondary special\",\"Secondary / secondary special\",\"Higher education\",\"Secondary / secondary special\",\"Secondary / secondary special\",\"Higher education\",\"Higher education\",\"Secondary / secondary special\",\"Higher education\",\"Secondary / secondary special\",\"Secondary / secondary special\",\"Secondary / secondary special\",\"Higher education\",\"Secondary / secondary special\",\"Secondary / secondary special\",\"Higher education\",\"Secondary / secondary special\",\"Secondary / secondary special\",\"Higher education\",\"Higher education\",\"Secondary / secondary special\",\"Secondary / secondary special\",\"Secondary / secondary special\",\"Secondary / secondary special\",\"Higher education\",\"Secondary / secondary special\",\"Secondary / secondary special\",\"Secondary / secondary special\",\"Higher education\",\"Secondary / secondary special\",\"Secondary / secondary special\",\"Secondary / secondary special\",\"Secondary / secondary special\",\"Secondary / secondary special\",\"Lower secondary\",\"Secondary / secondary special\",\"Secondary / secondary special\",\"Secondary / secondary special\",\"Higher education\",\"Secondary / secondary special\",\"Higher education\",\"Higher education\",\"Secondary / secondary special\",\"Secondary / secondary special\",\"Secondary / secondary special\",\"Secondary / secondary special\",\"Secondary / secondary special\",\"Secondary / secondary special\",\"Secondary / secondary special\",\"Higher education\",\"Higher education\",\"Secondary / secondary special\",\"Secondary / secondary special\",\"Secondary / secondary special\",\"Secondary / secondary special\",\"Higher education\",\"Higher education\",\"Secondary / secondary special\",\"Secondary / secondary special\",\"Secondary / secondary special\",\"Secondary / secondary special\",\"Higher education\",\"Secondary / secondary special\",\"Secondary / secondary special\",\"Secondary / secondary special\",\"Secondary / secondary special\",\"Secondary / secondary special\",\"Secondary / secondary special\",\"Incomplete higher\",\"Secondary / secondary special\",\"Incomplete higher\",\"Secondary / secondary special\",\"Higher education\",\"Secondary / secondary special\",\"Higher education\",\"Secondary / secondary special\",\"Secondary / secondary special\",\"Secondary / secondary special\",\"Secondary / secondary special\",\"Secondary / secondary special\",\"Secondary / secondary special\",\"Higher education\",\"Secondary / secondary special\",\"Secondary / secondary special\",\"Lower secondary\",\"Secondary / secondary special\",\"Higher education\",\"Secondary / secondary special\",\"Secondary / secondary special\",\"Secondary / secondary special\",\"Higher education\",\"Secondary / secondary special\",\"Secondary / secondary special\",\"Secondary / secondary special\",\"Secondary / secondary special\",\"Secondary / secondary special\",\"Secondary / secondary special\",\"Secondary / secondary special\",\"Secondary / secondary special\",\"Lower secondary\",\"Higher education\",\"Higher education\",\"Secondary / secondary special\",\"Secondary / secondary special\",\"Secondary / secondary special\",\"Secondary / secondary special\",\"Higher education\",\"Higher education\",\"Secondary / secondary special\",\"Higher education\",\"Higher education\",\"Higher education\",\"Secondary / secondary special\",\"Incomplete higher\",\"Secondary / secondary special\",\"Higher education\",\"Secondary / secondary special\",\"Incomplete higher\",\"Higher education\",\"Higher education\",\"Secondary / secondary special\",\"Secondary / secondary special\",\"Secondary / secondary special\",\"Secondary / secondary special\",\"Higher education\",\"Incomplete higher\",\"Higher education\",\"Secondary / secondary special\",\"Secondary / secondary special\",\"Secondary / secondary special\",\"Higher education\",\"Secondary / secondary special\",\"Higher education\",\"Secondary / secondary special\",\"Secondary / secondary special\",\"Higher education\",\"Incomplete higher\",\"Secondary / secondary special\",\"Higher education\",\"Secondary / secondary special\",\"Higher education\",\"Secondary / secondary special\",\"Secondary / secondary special\",\"Higher education\",\"Secondary / secondary special\",\"Secondary / secondary special\",\"Secondary / secondary special\",\"Secondary / secondary special\",\"Secondary / secondary special\",\"Secondary / secondary special\",\"Secondary / secondary special\",\"Secondary / secondary special\",\"Secondary / secondary special\",\"Secondary / secondary special\",\"Secondary / secondary special\",\"Secondary / secondary special\",\"Secondary / secondary special\",\"Higher education\",\"Secondary / secondary special\",\"Higher education\",\"Higher education\",\"Secondary / secondary special\",\"Secondary / secondary special\",\"Higher education\",\"Higher education\",\"Higher education\",\"Secondary / secondary special\",\"Incomplete higher\",\"Secondary / secondary special\",\"Secondary / secondary special\",\"Secondary / secondary special\",\"Secondary / secondary special\",\"Secondary / secondary special\",\"Secondary / secondary special\",\"Higher education\",\"Higher education\",\"Secondary / secondary special\",\"Higher education\",\"Secondary / secondary special\",\"Higher education\",\"Secondary / secondary special\",\"Secondary / secondary special\",\"Secondary / secondary special\",\"Higher education\",\"Secondary / secondary special\",\"Secondary / secondary special\",\"Secondary / secondary special\",\"Higher education\",\"Secondary / secondary special\",\"Higher education\",\"Secondary / secondary special\",\"Secondary / secondary special\",\"Secondary / secondary special\",\"Secondary / secondary special\",\"Secondary / secondary special\",\"Higher education\",\"Higher education\",\"Secondary / secondary special\",\"Higher education\",\"Higher education\",\"Secondary / secondary special\",\"Secondary / secondary special\",\"Secondary / secondary special\",\"Higher education\",\"Incomplete higher\",\"Secondary / secondary special\",\"Secondary / secondary special\",\"Secondary / secondary special\",\"Secondary / secondary special\",\"Secondary / secondary special\",\"Secondary / secondary special\",\"Secondary / secondary special\",\"Secondary / secondary special\",\"Secondary / secondary special\",\"Higher education\",\"Incomplete higher\",\"Secondary / secondary special\",\"Secondary / secondary special\",\"Secondary / secondary special\",\"Higher education\",\"Higher education\",\"Secondary / secondary special\",\"Secondary / secondary special\",\"Secondary / secondary special\",\"Incomplete higher\",\"Secondary / secondary special\",\"Secondary / secondary special\",\"Secondary / secondary special\",\"Secondary / secondary special\",\"Higher education\",\"Secondary / secondary special\",\"Secondary / secondary special\",\"Secondary / secondary special\",\"Higher education\",\"Secondary / secondary special\",\"Secondary / secondary special\",\"Higher education\",\"Secondary / secondary special\",\"Secondary / secondary special\",\"Secondary / secondary special\",\"Higher education\",\"Higher education\",\"Higher education\",\"Secondary / secondary special\",\"Higher education\",\"Higher education\",\"Higher education\",\"Higher education\",\"Higher education\",\"Secondary / secondary special\",\"Secondary / secondary special\",\"Secondary / secondary special\",\"Secondary / secondary special\",\"Secondary / secondary special\",\"Higher education\",\"Secondary / secondary special\",\"Higher education\",\"Secondary / secondary special\",\"Secondary / secondary special\",\"Secondary / secondary special\",\"Secondary / secondary special\",\"Secondary / secondary special\",\"Higher education\",\"Higher education\",\"Secondary / secondary special\",\"Secondary / secondary special\",\"Higher education\",\"Secondary / secondary special\",\"Secondary / secondary special\",\"Secondary / secondary special\",\"Higher education\",\"Secondary / secondary special\",\"Secondary / secondary special\",\"Secondary / secondary special\",\"Secondary / secondary special\",\"Secondary / secondary special\",\"Higher education\",\"Higher education\",\"Secondary / secondary special\",\"Secondary / secondary special\",\"Secondary / secondary special\",\"Secondary / secondary special\",\"Secondary / secondary special\",\"Secondary / secondary special\",\"Secondary / secondary special\",\"Higher education\",\"Higher education\",\"Incomplete higher\",\"Secondary / secondary special\",\"Secondary / secondary special\",\"Higher education\",\"Secondary / secondary special\",\"Secondary / secondary special\",\"Secondary / secondary special\",\"Secondary / secondary special\",\"Secondary / secondary special\",\"Secondary / secondary special\",\"Secondary / secondary special\",\"Higher education\",\"Higher education\",\"Secondary / secondary special\",\"Secondary / secondary special\",\"Secondary / secondary special\",\"Secondary / secondary special\",\"Secondary / secondary special\",\"Higher education\",\"Secondary / secondary special\",\"Secondary / secondary special\",\"Secondary / secondary special\",\"Higher education\",\"Secondary / secondary special\",\"Secondary / secondary special\",\"Higher education\",\"Secondary / secondary special\",\"Secondary / secondary special\",\"Secondary / secondary special\",\"Secondary / secondary special\",\"Secondary / secondary special\",\"Secondary / secondary special\",\"Secondary / secondary special\",\"Secondary / secondary special\",\"Secondary / secondary special\",\"Secondary / secondary special\",\"Higher education\",\"Secondary / secondary special\",\"Secondary / secondary special\",\"Secondary / secondary special\",\"Higher education\",\"Incomplete higher\",\"Secondary / secondary special\",\"Higher education\",\"Higher education\",\"Secondary / secondary special\",\"Secondary / secondary special\",\"Higher education\",\"Higher education\",\"Higher education\",\"Secondary / secondary special\",\"Secondary / secondary special\",\"Higher education\",\"Secondary / secondary special\",\"Secondary / secondary special\",\"Incomplete higher\",\"Higher education\",\"Secondary / secondary special\",\"Secondary / secondary special\",\"Higher education\",\"Higher education\",\"Higher education\",\"Higher education\",\"Secondary / secondary special\",\"Higher education\",\"Secondary / secondary special\",\"Secondary / secondary special\",\"Secondary / secondary special\",\"Higher education\",\"Secondary / secondary special\",\"Secondary / secondary special\",\"Secondary / secondary special\",\"Secondary / secondary special\",\"Secondary / secondary special\",\"Secondary / secondary special\",\"Secondary / secondary special\",\"Secondary / secondary special\",\"Secondary / secondary special\",\"Higher education\",\"Higher education\",\"Higher education\",\"Higher education\",\"Secondary / secondary special\",\"Secondary / secondary special\",\"Secondary / secondary special\",\"Secondary / secondary special\",\"Incomplete higher\",\"Secondary / secondary special\",\"Secondary / secondary special\",\"Higher education\",\"Secondary / secondary special\",\"Higher education\",\"Secondary / secondary special\",\"Higher education\",\"Secondary / secondary special\",\"Secondary / secondary special\",\"Secondary / secondary special\",\"Higher education\",\"Higher education\",\"Secondary / secondary special\",\"Secondary / secondary special\",\"Secondary / secondary special\",\"Secondary / secondary special\",\"Higher education\",\"Higher education\",\"Secondary / secondary special\",\"Secondary / secondary special\",\"Higher education\",\"Secondary / secondary special\",\"Secondary / secondary special\",\"Secondary / secondary special\",\"Secondary / secondary special\",\"Incomplete higher\",\"Secondary / secondary special\",\"Secondary / secondary special\",\"Secondary / secondary special\",\"Secondary / secondary special\",\"Secondary / secondary special\",\"Higher education\",\"Higher education\",\"Incomplete higher\",\"Secondary / secondary special\",\"Secondary / secondary special\",\"Secondary / secondary special\",\"Secondary / secondary special\",\"Higher education\",\"Secondary / secondary special\",\"Higher education\",\"Higher education\",\"Higher education\",\"Higher education\",\"Higher education\",\"Secondary / secondary special\",\"Incomplete higher\",\"Secondary / secondary special\",\"Secondary / secondary special\",\"Secondary / secondary special\",\"Higher education\",\"Higher education\",\"Secondary / secondary special\",\"Secondary / secondary special\",\"Higher education\",\"Secondary / secondary special\",\"Higher education\",\"Secondary / secondary special\",\"Higher education\",\"Secondary / secondary special\",\"Secondary / secondary special\",\"Secondary / secondary special\",\"Lower secondary\",\"Higher education\",\"Higher education\",\"Higher education\",\"Secondary / secondary special\",\"Secondary / secondary special\",\"Secondary / secondary special\",\"Secondary / secondary special\",\"Incomplete higher\",\"Lower secondary\",\"Higher education\",\"Secondary / secondary special\",\"Secondary / secondary special\",\"Higher education\",\"Higher education\",\"Higher education\",\"Secondary / secondary special\",\"Higher education\",\"Secondary / secondary special\",\"Secondary / secondary special\",\"Secondary / secondary special\",\"Secondary / secondary special\",\"Secondary / secondary special\",\"Secondary / secondary special\",\"Higher education\",\"Higher education\",\"Secondary / secondary special\",\"Higher education\",\"Incomplete higher\",\"Secondary / secondary special\",\"Secondary / secondary special\",\"Secondary / secondary special\",\"Secondary / secondary special\",\"Secondary / secondary special\",\"Secondary / secondary special\",\"Secondary / secondary special\",\"Higher education\",\"Higher education\",\"Secondary / secondary special\",\"Secondary / secondary special\",\"Secondary / secondary special\",\"Secondary / secondary special\",\"Secondary / secondary special\",\"Higher education\",\"Secondary / secondary special\",\"Secondary / secondary special\",\"Secondary / secondary special\",\"Higher education\",\"Secondary / secondary special\",\"Secondary / secondary special\",\"Secondary / secondary special\",\"Secondary / secondary special\",\"Secondary / secondary special\",\"Secondary / secondary special\",\"Secondary / secondary special\",\"Secondary / secondary special\",\"Higher education\",\"Secondary / secondary special\",\"Secondary / secondary special\",\"Secondary / secondary special\",\"Secondary / secondary special\",\"Secondary / secondary special\",\"Secondary / secondary special\",\"Secondary / secondary special\",\"Secondary / secondary special\",\"Secondary / secondary special\",\"Secondary / secondary special\",\"Secondary / secondary special\",\"Secondary / secondary special\",\"Secondary / secondary special\",\"Secondary / secondary special\",\"Secondary / secondary special\",\"Secondary / secondary special\",\"Secondary / secondary special\",\"Higher education\",\"Secondary / secondary special\",\"Secondary / secondary special\",\"Higher education\",\"Higher education\",\"Higher education\",\"Secondary / secondary special\",\"Lower secondary\",\"Secondary / secondary special\",\"Secondary / secondary special\",\"Higher education\",\"Secondary / secondary special\",\"Secondary / secondary special\",\"Higher education\",\"Secondary / secondary special\",\"Secondary / secondary special\",\"Secondary / secondary special\",\"Secondary / secondary special\",\"Secondary / secondary special\",\"Higher education\",\"Higher education\",\"Secondary / secondary special\",\"Higher education\",\"Secondary / secondary special\",\"Secondary / secondary special\",\"Secondary / secondary special\",\"Secondary / secondary special\",\"Secondary / secondary special\",\"Secondary / secondary special\",\"Higher education\",\"Secondary / secondary special\",\"Secondary / secondary special\",\"Higher education\",\"Secondary / secondary special\",\"Secondary / secondary special\",\"Secondary / secondary special\",\"Secondary / secondary special\",\"Secondary / secondary special\",\"Higher education\",\"Higher education\",\"Secondary / secondary special\",\"Higher education\",\"Secondary / secondary special\",\"Secondary / secondary special\",\"Secondary / secondary special\",\"Secondary / secondary special\",\"Incomplete higher\",\"Secondary / secondary special\",\"Secondary / secondary special\",\"Secondary / secondary special\",\"Secondary / secondary special\",\"Secondary / secondary special\",\"Secondary / secondary special\",\"Secondary / secondary special\",\"Lower secondary\",\"Incomplete higher\",\"Secondary / secondary special\",\"Secondary / secondary special\",\"Higher education\",\"Secondary / secondary special\",\"Academic degree\",\"Secondary / secondary special\",\"Secondary / secondary special\",\"Secondary / secondary special\",\"Secondary / secondary special\",\"Secondary / secondary special\",\"Higher education\",\"Secondary / secondary special\",\"Secondary / secondary special\",\"Secondary / secondary special\",\"Secondary / secondary special\",\"Secondary / secondary special\",\"Secondary / secondary special\",\"Secondary / secondary special\",\"Secondary / secondary special\",\"Secondary / secondary special\",\"Secondary / secondary special\",\"Secondary / secondary special\",\"Secondary / secondary special\",\"Secondary / secondary special\",\"Secondary / secondary special\",\"Higher education\",\"Secondary / secondary special\",\"Higher education\",\"Secondary / secondary special\",\"Secondary / secondary special\",\"Secondary / secondary special\",\"Secondary / secondary special\",\"Secondary / secondary special\",\"Secondary / secondary special\",\"Higher education\",\"Higher education\",\"Secondary / secondary special\",\"Higher education\",\"Secondary / secondary special\",\"Secondary / secondary special\",\"Secondary / secondary special\",\"Higher education\",\"Higher education\",\"Secondary / secondary special\",\"Secondary / secondary special\",\"Higher education\",\"Secondary / secondary special\",\"Secondary / secondary special\",\"Higher education\",\"Secondary / secondary special\",\"Lower secondary\",\"Secondary / secondary special\",\"Secondary / secondary special\",\"Secondary / secondary special\",\"Secondary / secondary special\",\"Secondary / secondary special\",\"Higher education\",\"Incomplete higher\",\"Higher education\",\"Secondary / secondary special\",\"Higher education\",\"Secondary / secondary special\",\"Higher education\",\"Secondary / secondary special\",\"Secondary / secondary special\",\"Secondary / secondary special\",\"Secondary / secondary special\",\"Secondary / secondary special\",\"Secondary / secondary special\",\"Secondary / secondary special\",\"Higher education\",\"Secondary / secondary special\",\"Higher education\",\"Secondary / secondary special\",\"Secondary / secondary special\",\"Secondary / secondary special\",\"Secondary / secondary special\",\"Secondary / secondary special\",\"Higher education\",\"Secondary / secondary special\",\"Secondary / secondary special\",\"Secondary / secondary special\",\"Higher education\",\"Secondary / secondary special\",\"Higher education\",\"Incomplete higher\",\"Secondary / secondary special\",\"Secondary / secondary special\",\"Secondary / secondary special\",\"Secondary / secondary special\",\"Secondary / secondary special\",\"Secondary / secondary special\",\"Secondary / secondary special\",\"Secondary / secondary special\",\"Secondary / secondary special\",\"Higher education\",\"Higher education\",\"Secondary / secondary special\",\"Secondary / secondary special\",\"Secondary / secondary special\",\"Secondary / secondary special\",\"Secondary / secondary special\",\"Secondary / secondary special\",\"Higher education\",\"Secondary / secondary special\",\"Secondary / secondary special\",\"Lower secondary\",\"Secondary / secondary special\",\"Higher education\",\"Higher education\",\"Secondary / secondary special\",\"Secondary / secondary special\",\"Secondary / secondary special\",\"Secondary / secondary special\",\"Secondary / secondary special\",\"Secondary / secondary special\",\"Secondary / secondary special\",\"Higher education\",\"Secondary / secondary special\",\"Higher education\",\"Secondary / secondary special\",\"Secondary / secondary special\",\"Higher education\",\"Secondary / secondary special\",\"Secondary / secondary special\",\"Secondary / secondary special\",\"Secondary / secondary special\",\"Secondary / secondary special\",\"Higher education\",\"Secondary / secondary special\",\"Secondary / secondary special\",\"Secondary / secondary special\",\"Higher education\",\"Secondary / secondary special\",\"Higher education\",\"Secondary / secondary special\",\"Secondary / secondary special\",\"Incomplete higher\",\"Incomplete higher\",\"Secondary / secondary special\",\"Secondary / secondary special\",\"Secondary / secondary special\",\"Secondary / secondary special\",\"Higher education\",\"Higher education\",\"Higher education\",\"Secondary / secondary special\",\"Secondary / secondary special\",\"Higher education\",\"Higher education\",\"Secondary / secondary special\",\"Incomplete higher\",\"Secondary / secondary special\",\"Secondary / secondary special\",\"Incomplete higher\",\"Secondary / secondary special\",\"Secondary / secondary special\",\"Secondary / secondary special\",\"Secondary / secondary special\",\"Secondary / secondary special\",\"Higher education\",\"Secondary / secondary special\",\"Secondary / secondary special\",\"Secondary / secondary special\",\"Lower secondary\",\"Secondary / secondary special\",\"Secondary / secondary special\",\"Secondary / secondary special\",\"Higher education\",\"Secondary / secondary special\",\"Secondary / secondary special\",\"Secondary / secondary special\",\"Secondary / secondary special\",\"Secondary / secondary special\",\"Secondary / secondary special\",\"Secondary / secondary special\",\"Higher education\",\"Secondary / secondary special\",\"Higher education\",\"Secondary / secondary special\",\"Secondary / secondary special\",\"Higher education\",\"Secondary / secondary special\",\"Secondary / secondary special\",\"Higher education\",\"Secondary / secondary special\",\"Higher education\",\"Secondary / secondary special\",\"Secondary / secondary special\",\"Secondary / secondary special\",\"Secondary / secondary special\",\"Incomplete higher\",\"Secondary / secondary special\",\"Secondary / secondary special\",\"Secondary / secondary special\",\"Higher education\",\"Secondary / secondary special\",\"Secondary / secondary special\",\"Secondary / secondary special\",\"Secondary / secondary special\",\"Secondary / secondary special\",\"Secondary / secondary special\",\"Secondary / secondary special\",\"Secondary / secondary special\",\"Secondary / secondary special\",\"Secondary / secondary special\",\"Secondary / secondary special\",\"Secondary / secondary special\",\"Higher education\",\"Secondary / secondary special\",\"Secondary / secondary special\",\"Secondary / secondary special\",\"Higher education\",\"Secondary / secondary special\",\"Secondary / secondary special\",\"Secondary / secondary special\",\"Higher education\",\"Lower secondary\",\"Secondary / secondary special\",\"Secondary / secondary special\",\"Secondary / secondary special\",\"Higher education\",\"Secondary / secondary special\",\"Secondary / secondary special\",\"Secondary / secondary special\",\"Secondary / secondary special\",\"Secondary / secondary special\",\"Secondary / secondary special\",\"Secondary / secondary special\",\"Secondary / secondary special\",\"Secondary / secondary special\",\"Higher education\",\"Secondary / secondary special\",\"Higher education\",\"Secondary / secondary special\",\"Higher education\",\"Secondary / secondary special\",\"Secondary / secondary special\",\"Secondary / secondary special\",\"Higher education\",\"Secondary / secondary special\",\"Secondary / secondary special\",\"Secondary / secondary special\",\"Secondary / secondary special\",\"Secondary / secondary special\",\"Secondary / secondary special\",\"Secondary / secondary special\",\"Secondary / secondary special\",\"Secondary / secondary special\",\"Higher education\",\"Secondary / secondary special\",\"Secondary / secondary special\",\"Secondary / secondary special\",\"Secondary / secondary special\",\"Secondary / secondary special\",\"Secondary / secondary special\",\"Higher education\",\"Secondary / secondary special\",\"Secondary / secondary special\",\"Higher education\",\"Secondary / secondary special\",\"Secondary / secondary special\",\"Secondary / secondary special\",\"Secondary / secondary special\",\"Secondary / secondary special\",\"Higher education\",\"Higher education\",\"Secondary / secondary special\",\"Higher education\",\"Higher education\",\"Secondary / secondary special\",\"Secondary / secondary special\",\"Secondary / secondary special\",\"Higher education\",\"Secondary / secondary special\",\"Secondary / secondary special\",\"Secondary / secondary special\",\"Secondary / secondary special\",\"Secondary / secondary special\",\"Secondary / secondary special\",\"Higher education\",\"Secondary / secondary special\",\"Secondary / secondary special\",\"Secondary / secondary special\",\"Higher education\",\"Secondary / secondary special\",\"Secondary / secondary special\",\"Secondary / secondary special\",\"Secondary / secondary special\",\"Higher education\",\"Higher education\",\"Secondary / secondary special\",\"Higher education\",\"Secondary / secondary special\",\"Secondary / secondary special\",\"Secondary / secondary special\",\"Secondary / secondary special\",\"Secondary / secondary special\",\"Secondary / secondary special\",\"Secondary / secondary special\",\"Incomplete higher\",\"Secondary / secondary special\",\"Secondary / secondary special\",\"Secondary / secondary special\",\"Incomplete higher\",\"Secondary / secondary special\",\"Secondary / secondary special\",\"Secondary / secondary special\",\"Secondary / secondary special\",\"Secondary / secondary special\",\"Secondary / secondary special\",\"Secondary / secondary special\",\"Higher education\",\"Higher education\",\"Secondary / secondary special\",\"Secondary / secondary special\",\"Secondary / secondary special\",\"Secondary / secondary special\",\"Higher education\",\"Secondary / secondary special\",\"Secondary / secondary special\",\"Secondary / secondary special\",\"Secondary / secondary special\",\"Higher education\",\"Secondary / secondary special\",\"Secondary / secondary special\",\"Secondary / secondary special\",\"Secondary / secondary special\",\"Secondary / secondary special\",\"Lower secondary\",\"Secondary / secondary special\",\"Secondary / secondary special\",\"Secondary / secondary special\",\"Secondary / secondary special\",\"Secondary / secondary special\",\"Secondary / secondary special\",\"Secondary / secondary special\",\"Secondary / secondary special\",\"Secondary / secondary special\",\"Secondary / secondary special\",\"Secondary / secondary special\",\"Secondary / secondary special\",\"Secondary / secondary special\",\"Higher education\",\"Secondary / secondary special\",\"Higher education\",\"Secondary / secondary special\",\"Secondary / secondary special\",\"Higher education\",\"Secondary / secondary special\",\"Secondary / secondary special\",\"Higher education\",\"Secondary / secondary special\",\"Higher education\",\"Secondary / secondary special\",\"Secondary / secondary special\",\"Higher education\",\"Secondary / secondary special\",\"Secondary / secondary special\",\"Secondary / secondary special\",\"Secondary / secondary special\",\"Secondary / secondary special\",\"Secondary / secondary special\",\"Higher education\",\"Secondary / secondary special\",\"Higher education\",\"Higher education\",\"Secondary / secondary special\",\"Higher education\",\"Secondary / secondary special\",\"Secondary / secondary special\",\"Secondary / secondary special\",\"Higher education\",\"Secondary / secondary special\",\"Secondary / secondary special\",\"Secondary / secondary special\",\"Higher education\",\"Higher education\",\"Higher education\",\"Higher education\",\"Higher education\",\"Higher education\",\"Secondary / secondary special\",\"Secondary / secondary special\",\"Higher education\",\"Secondary / secondary special\",\"Secondary / secondary special\",\"Secondary / secondary special\",\"Secondary / secondary special\",\"Secondary / secondary special\",\"Secondary / secondary special\",\"Secondary / secondary special\",\"Secondary / secondary special\",\"Secondary / secondary special\",\"Higher education\",\"Secondary / secondary special\",\"Secondary / secondary special\",\"Incomplete higher\",\"Higher education\",\"Secondary / secondary special\",\"Secondary / secondary special\",\"Secondary / secondary special\",\"Secondary / secondary special\",\"Higher education\",\"Secondary / secondary special\",\"Secondary / secondary special\",\"Secondary / secondary special\",\"Secondary / secondary special\",\"Secondary / secondary special\",\"Secondary / secondary special\",\"Secondary / secondary special\",\"Secondary / secondary special\",\"Secondary / secondary special\",\"Secondary / secondary special\",\"Secondary / secondary special\",\"Secondary / secondary special\",\"Incomplete higher\",\"Secondary / secondary special\",\"Secondary / secondary special\",\"Higher education\",\"Secondary / secondary special\",\"Secondary / secondary special\",\"Secondary / secondary special\",\"Secondary / secondary special\",\"Secondary / secondary special\",\"Secondary / secondary special\",\"Secondary / secondary special\",\"Secondary / secondary special\",\"Secondary / secondary special\",\"Secondary / secondary special\",\"Secondary / secondary special\",\"Secondary / secondary special\",\"Secondary / secondary special\",\"Secondary / secondary special\",\"Higher education\",\"Secondary / secondary special\",\"Secondary / secondary special\",\"Secondary / secondary special\",\"Secondary / secondary special\",\"Higher education\",\"Secondary / secondary special\",\"Secondary / secondary special\",\"Secondary / secondary special\",\"Higher education\",\"Higher education\",\"Secondary / secondary special\",\"Higher education\",\"Secondary / secondary special\",\"Secondary / secondary special\",\"Higher education\",\"Secondary / secondary special\",\"Secondary / secondary special\",\"Secondary / secondary special\",\"Secondary / secondary special\",\"Incomplete higher\",\"Secondary / secondary special\",\"Secondary / secondary special\",\"Higher education\",\"Secondary / secondary special\",\"Higher education\",\"Lower secondary\",\"Higher education\",\"Secondary / secondary special\",\"Incomplete higher\",\"Secondary / secondary special\",\"Secondary / secondary special\",\"Secondary / secondary special\",\"Secondary / secondary special\",\"Secondary / secondary special\",\"Higher education\",\"Higher education\",\"Secondary / secondary special\",\"Higher education\",\"Secondary / secondary special\",\"Secondary / secondary special\",\"Secondary / secondary special\",\"Secondary / secondary special\",\"Secondary / secondary special\",\"Higher education\",\"Higher education\",\"Secondary / secondary special\",\"Higher education\",\"Secondary / secondary special\",\"Secondary / secondary special\",\"Secondary / secondary special\",\"Incomplete higher\",\"Secondary / secondary special\",\"Secondary / secondary special\",\"Secondary / secondary special\",\"Higher education\",\"Lower secondary\",\"Secondary / secondary special\",\"Secondary / secondary special\",\"Secondary / secondary special\",\"Secondary / secondary special\",\"Secondary / secondary special\",\"Secondary / secondary special\",\"Secondary / secondary special\",\"Secondary / secondary special\",\"Higher education\",\"Secondary / secondary special\",\"Secondary / secondary special\",\"Secondary / secondary special\",\"Secondary / secondary special\",\"Secondary / secondary special\",\"Secondary / secondary special\",\"Secondary / secondary special\",\"Secondary / secondary special\",\"Secondary / secondary special\",\"Secondary / secondary special\",\"Higher education\",\"Secondary / secondary special\",\"Higher education\",\"Secondary / secondary special\",\"Academic degree\",\"Higher education\",\"Secondary / secondary special\",\"Secondary / secondary special\",\"Secondary / secondary special\",\"Secondary / secondary special\",\"Secondary / secondary special\",\"Secondary / secondary special\",\"Higher education\",\"Higher education\",\"Secondary / secondary special\",\"Higher education\",\"Higher education\",\"Lower secondary\",\"Higher education\",\"Secondary / secondary special\",\"Secondary / secondary special\",\"Secondary / secondary special\",\"Secondary / secondary special\",\"Secondary / secondary special\",\"Secondary / secondary special\",\"Secondary / secondary special\",\"Secondary / secondary special\",\"Higher education\",\"Higher education\",\"Higher education\",\"Secondary / secondary special\",\"Secondary / secondary special\",\"Secondary / secondary special\",\"Secondary / secondary special\",\"Higher education\",\"Secondary / secondary special\",\"Secondary / secondary special\",\"Secondary / secondary special\",\"Secondary / secondary special\",\"Secondary / secondary special\",\"Secondary / secondary special\",\"Higher education\",\"Higher education\",\"Secondary / secondary special\",\"Secondary / secondary special\",\"Secondary / secondary special\",\"Secondary / secondary special\",\"Secondary / secondary special\",\"Secondary / secondary special\",\"Secondary / secondary special\",\"Secondary / secondary special\",\"Secondary / secondary special\",\"Secondary / secondary special\",\"Secondary / secondary special\",\"Secondary / secondary special\",\"Secondary / secondary special\",\"Secondary / secondary special\",\"Secondary / secondary special\",\"Secondary / secondary special\",\"Secondary / secondary special\",\"Secondary / secondary special\",\"Higher education\",\"Secondary / secondary special\",\"Secondary / secondary special\",\"Higher education\",\"Secondary / secondary special\",\"Secondary / secondary special\",\"Secondary / secondary special\",\"Secondary / secondary special\",\"Higher education\",\"Secondary / secondary special\",\"Secondary / secondary special\",\"Secondary / secondary special\",\"Secondary / secondary special\",\"Higher education\",\"Incomplete higher\",\"Higher education\",\"Secondary / secondary special\",\"Secondary / secondary special\",\"Secondary / secondary special\",\"Secondary / secondary special\",\"Secondary / secondary special\",\"Secondary / secondary special\",\"Secondary / secondary special\",\"Higher education\",\"Secondary / secondary special\",\"Higher education\",\"Higher education\",\"Higher education\",\"Secondary / secondary special\",\"Secondary / secondary special\",\"Secondary / secondary special\",\"Secondary / secondary special\",\"Secondary / secondary special\",\"Secondary / secondary special\",\"Higher education\",\"Secondary / secondary special\",\"Secondary / secondary special\",\"Secondary / secondary special\",\"Higher education\",\"Secondary / secondary special\",\"Secondary / secondary special\",\"Secondary / secondary special\",\"Secondary / secondary special\",\"Higher education\",\"Secondary / secondary special\",\"Higher education\",\"Higher education\",\"Secondary / secondary special\",\"Secondary / secondary special\",\"Secondary / secondary special\",\"Secondary / secondary special\",\"Secondary / secondary special\",\"Secondary / secondary special\",\"Secondary / secondary special\",\"Higher education\",\"Secondary / secondary special\",\"Secondary / secondary special\",\"Secondary / secondary special\",\"Secondary / secondary special\",\"Secondary / secondary special\",\"Higher education\",\"Secondary / secondary special\",\"Secondary / secondary special\",\"Higher education\",\"Secondary / secondary special\",\"Secondary / secondary special\",\"Secondary / secondary special\",\"Secondary / secondary special\",\"Secondary / secondary special\",\"Higher education\",\"Secondary / secondary special\",\"Secondary / secondary special\",\"Secondary / secondary special\",\"Secondary / secondary special\",\"Higher education\",\"Secondary / secondary special\",\"Higher education\",\"Secondary / secondary special\",\"Secondary / secondary special\",\"Secondary / secondary special\",\"Higher education\",\"Secondary / secondary special\",\"Higher education\",\"Higher education\",\"Higher education\",\"Higher education\",\"Secondary / secondary special\",\"Secondary / secondary special\",\"Secondary / secondary special\",\"Secondary / secondary special\",\"Higher education\",\"Secondary / secondary special\",\"Secondary / secondary special\",\"Higher education\",\"Secondary / secondary special\",\"Incomplete higher\",\"Higher education\",\"Secondary / secondary special\",\"Secondary / secondary special\",\"Secondary / secondary special\",\"Incomplete higher\",\"Secondary / secondary special\",\"Higher education\",\"Secondary / secondary special\",\"Secondary / secondary special\",\"Secondary / secondary special\",\"Higher education\",\"Higher education\",\"Secondary / secondary special\",\"Secondary / secondary special\",\"Secondary / secondary special\",\"Secondary / secondary special\",\"Incomplete higher\",\"Incomplete higher\",\"Incomplete higher\",\"Higher education\",\"Higher education\",\"Secondary / secondary special\",\"Secondary / secondary special\",\"Higher education\",\"Secondary / secondary special\",\"Higher education\",\"Higher education\",\"Secondary / secondary special\",\"Secondary / secondary special\",\"Secondary / secondary special\",\"Secondary / secondary special\",\"Secondary / secondary special\",\"Secondary / secondary special\",\"Higher education\",\"Secondary / secondary special\",\"Higher education\",\"Secondary / secondary special\",\"Secondary / secondary special\",\"Secondary / secondary special\",\"Secondary / secondary special\",\"Secondary / secondary special\",\"Higher education\",\"Higher education\",\"Higher education\",\"Secondary / secondary special\",\"Secondary / secondary special\",\"Secondary / secondary special\",\"Secondary / secondary special\",\"Secondary / secondary special\",\"Secondary / secondary special\",\"Secondary / secondary special\",\"Secondary / secondary special\",\"Secondary / secondary special\",\"Higher education\",\"Secondary / secondary special\",\"Higher education\",\"Secondary / secondary special\",\"Secondary / secondary special\",\"Secondary / secondary special\",\"Secondary / secondary special\",\"Secondary / secondary special\",\"Secondary / secondary special\",\"Secondary / secondary special\",\"Secondary / secondary special\",\"Higher education\",\"Secondary / secondary special\",\"Secondary / secondary special\",\"Higher education\",\"Secondary / secondary special\",\"Secondary / secondary special\",\"Secondary / secondary special\",\"Secondary / secondary special\",\"Secondary / secondary special\",\"Secondary / secondary special\",\"Secondary / secondary special\",\"Secondary / secondary special\",\"Higher education\",\"Secondary / secondary special\",\"Secondary / secondary special\",\"Secondary / secondary special\",\"Secondary / secondary special\",\"Higher education\",\"Secondary / secondary special\",\"Secondary / secondary special\",\"Higher education\",\"Higher education\",\"Secondary / secondary special\",\"Secondary / secondary special\",\"Secondary / secondary special\",\"Higher education\",\"Secondary / secondary special\",\"Higher education\",\"Secondary / secondary special\",\"Secondary / secondary special\",\"Secondary / secondary special\",\"Secondary / secondary special\",\"Secondary / secondary special\",\"Secondary / secondary special\",\"Secondary / secondary special\",\"Secondary / secondary special\",\"Secondary / secondary special\",\"Secondary / secondary special\",\"Secondary / secondary special\",\"Secondary / secondary special\",\"Higher education\",\"Secondary / secondary special\",\"Higher education\",\"Secondary / secondary special\",\"Secondary / secondary special\",\"Incomplete higher\",\"Secondary / secondary special\",\"Secondary / secondary special\",\"Secondary / secondary special\",\"Secondary / secondary special\",\"Secondary / secondary special\",\"Higher education\",\"Higher education\",\"Secondary / secondary special\",\"Secondary / secondary special\",\"Higher education\",\"Higher education\",\"Higher education\",\"Secondary / secondary special\",\"Secondary / secondary special\",\"Secondary / secondary special\",\"Secondary / secondary special\",\"Secondary / secondary special\",\"Secondary / secondary special\",\"Secondary / secondary special\",\"Secondary / secondary special\",\"Secondary / secondary special\",\"Higher education\",\"Secondary / secondary special\",\"Secondary / secondary special\",\"Secondary / secondary special\",\"Secondary / secondary special\",\"Secondary / secondary special\",\"Higher education\",\"Secondary / secondary special\",\"Higher education\",\"Secondary / secondary special\",\"Secondary / secondary special\",\"Secondary / secondary special\",\"Secondary / secondary special\",\"Secondary / secondary special\",\"Higher education\",\"Incomplete higher\",\"Higher education\",\"Secondary / secondary special\",\"Secondary / secondary special\",\"Secondary / secondary special\",\"Secondary / secondary special\",\"Secondary / secondary special\",\"Secondary / secondary special\",\"Secondary / secondary special\",\"Higher education\",\"Lower secondary\",\"Secondary / secondary special\",\"Incomplete higher\",\"Secondary / secondary special\",\"Higher education\",\"Secondary / secondary special\",\"Higher education\",\"Lower secondary\",\"Secondary / secondary special\",\"Secondary / secondary special\",\"Secondary / secondary special\",\"Incomplete higher\",\"Incomplete higher\",\"Secondary / secondary special\",\"Secondary / secondary special\",\"Secondary / secondary special\",\"Higher education\",\"Higher education\",\"Secondary / secondary special\",\"Secondary / secondary special\",\"Secondary / secondary special\",\"Secondary / secondary special\",\"Secondary / secondary special\",\"Lower secondary\",\"Higher education\",\"Secondary / secondary special\",\"Secondary / secondary special\",\"Higher education\",\"Secondary / secondary special\",\"Secondary / secondary special\",\"Higher education\",\"Higher education\",\"Secondary / secondary special\",\"Incomplete higher\",\"Secondary / secondary special\",\"Secondary / secondary special\",\"Secondary / secondary special\",\"Secondary / secondary special\",\"Secondary / secondary special\",\"Secondary / secondary special\",\"Secondary / secondary special\",\"Secondary / secondary special\",\"Higher education\",\"Secondary / secondary special\",\"Higher education\",\"Higher education\",\"Secondary / secondary special\",\"Secondary / secondary special\",\"Lower secondary\",\"Secondary / secondary special\",\"Secondary / secondary special\",\"Secondary / secondary special\",\"Secondary / secondary special\",\"Secondary / secondary special\",\"Secondary / secondary special\",\"Secondary / secondary special\",\"Secondary / secondary special\",\"Higher education\",\"Secondary / secondary special\",\"Secondary / secondary special\",\"Secondary / secondary special\",\"Secondary / secondary special\",\"Secondary / secondary special\",\"Higher education\",\"Secondary / secondary special\",\"Higher education\",\"Higher education\",\"Secondary / secondary special\",\"Secondary / secondary special\",\"Secondary / secondary special\",\"Higher education\",\"Secondary / secondary special\",\"Secondary / secondary special\",\"Secondary / secondary special\",\"Higher education\",\"Higher education\",\"Secondary / secondary special\",\"Secondary / secondary special\",\"Secondary / secondary special\",\"Secondary / secondary special\",\"Secondary / secondary special\",\"Secondary / secondary special\",\"Higher education\",\"Higher education\",\"Secondary / secondary special\",\"Higher education\",\"Higher education\",\"Higher education\",\"Secondary / secondary special\",\"Secondary / secondary special\",\"Higher education\",\"Higher education\",\"Secondary / secondary special\",\"Secondary / secondary special\",\"Higher education\",\"Higher education\",\"Secondary / secondary special\",\"Secondary / secondary special\",\"Secondary / secondary special\",\"Secondary / secondary special\",\"Secondary / secondary special\",\"Higher education\",\"Secondary / secondary special\",\"Secondary / secondary special\",\"Secondary / secondary special\",\"Secondary / secondary special\",\"Secondary / secondary special\",\"Secondary / secondary special\",\"Secondary / secondary special\",\"Secondary / secondary special\",\"Secondary / secondary special\",\"Secondary / secondary special\",\"Secondary / secondary special\",\"Higher education\",\"Secondary / secondary special\",\"Secondary / secondary special\",\"Secondary / secondary special\",\"Secondary / secondary special\",\"Secondary / secondary special\",\"Secondary / secondary special\",\"Secondary / secondary special\",\"Secondary / secondary special\",\"Higher education\",\"Secondary / secondary special\",\"Secondary / secondary special\",\"Secondary / secondary special\",\"Secondary / secondary special\",\"Secondary / secondary special\",\"Higher education\",\"Lower secondary\",\"Secondary / secondary special\",\"Higher education\",\"Higher education\",\"Secondary / secondary special\",\"Secondary / secondary special\",\"Secondary / secondary special\",\"Higher education\",\"Secondary / secondary special\",\"Secondary / secondary special\",\"Higher education\",\"Secondary / secondary special\",\"Secondary / secondary special\",\"Secondary / secondary special\",\"Higher education\",\"Secondary / secondary special\",\"Higher education\",\"Secondary / secondary special\",\"Secondary / secondary special\",\"Higher education\",\"Secondary / secondary special\",\"Secondary / secondary special\",\"Secondary / secondary special\",\"Secondary / secondary special\",\"Secondary / secondary special\",\"Higher education\",\"Secondary / secondary special\",\"Secondary / secondary special\",\"Secondary / secondary special\",\"Secondary / secondary special\",\"Secondary / secondary special\",\"Secondary / secondary special\",\"Secondary / secondary special\",\"Higher education\",\"Secondary / secondary special\",\"Higher education\",\"Secondary / secondary special\",\"Higher education\",\"Higher education\",\"Secondary / secondary special\",\"Secondary / secondary special\",\"Secondary / secondary special\",\"Higher education\",\"Secondary / secondary special\",\"Higher education\",\"Secondary / secondary special\",\"Secondary / secondary special\",\"Higher education\",\"Secondary / secondary special\",\"Secondary / secondary special\",\"Secondary / secondary special\",\"Higher education\",\"Higher education\",\"Secondary / secondary special\",\"Secondary / secondary special\",\"Secondary / secondary special\",\"Higher education\",\"Secondary / secondary special\",\"Secondary / secondary special\",\"Secondary / secondary special\",\"Secondary / secondary special\",\"Higher education\",\"Secondary / secondary special\",\"Higher education\",\"Secondary / secondary special\",\"Secondary / secondary special\",\"Secondary / secondary special\",\"Secondary / secondary special\",\"Secondary / secondary special\",\"Secondary / secondary special\",\"Secondary / secondary special\",\"Secondary / secondary special\",\"Secondary / secondary special\",\"Secondary / secondary special\",\"Secondary / secondary special\",\"Higher education\",\"Higher education\",\"Secondary / secondary special\",\"Higher education\",\"Higher education\",\"Secondary / secondary special\",\"Secondary / secondary special\",\"Secondary / secondary special\",\"Secondary / secondary special\",\"Secondary / secondary special\",\"Secondary / secondary special\",\"Secondary / secondary special\",\"Secondary / secondary special\",\"Higher education\",\"Secondary / secondary special\",\"Higher education\",\"Higher education\",\"Secondary / secondary special\",\"Secondary / secondary special\",\"Secondary / secondary special\",\"Secondary / secondary special\",\"Incomplete higher\",\"Higher education\",\"Secondary / secondary special\",\"Secondary / secondary special\",\"Secondary / secondary special\",\"Secondary / secondary special\",\"Secondary / secondary special\",\"Secondary / secondary special\",\"Secondary / secondary special\",\"Secondary / secondary special\",\"Secondary / secondary special\",\"Secondary / secondary special\",\"Secondary / secondary special\",\"Higher education\",\"Secondary / secondary special\",\"Secondary / secondary special\",\"Secondary / secondary special\",\"Higher education\",\"Higher education\",\"Secondary / secondary special\",\"Secondary / secondary special\",\"Secondary / secondary special\",\"Higher education\",\"Secondary / secondary special\",\"Secondary / secondary special\",\"Higher education\",\"Secondary / secondary special\",\"Higher education\",\"Secondary / secondary special\",\"Secondary / secondary special\",\"Incomplete higher\",\"Secondary / secondary special\",\"Secondary / secondary special\",\"Secondary / secondary special\",\"Secondary / secondary special\",\"Secondary / secondary special\",\"Secondary / secondary special\",\"Secondary / secondary special\",\"Secondary / secondary special\",\"Secondary / secondary special\",\"Higher education\",\"Secondary / secondary special\",\"Secondary / secondary special\",\"Higher education\",\"Secondary / secondary special\",\"Secondary / secondary special\",\"Secondary / secondary special\",\"Higher education\",\"Secondary / secondary special\",\"Higher education\",\"Secondary / secondary special\",\"Higher education\",\"Secondary / secondary special\",\"Higher education\",\"Secondary / secondary special\",\"Secondary / secondary special\",\"Secondary / secondary special\",\"Secondary / secondary special\",\"Higher education\",\"Secondary / secondary special\",\"Incomplete higher\",\"Secondary / secondary special\",\"Higher education\",\"Secondary / secondary special\",\"Secondary / secondary special\",\"Secondary / secondary special\",\"Secondary / secondary special\",\"Secondary / secondary special\",\"Higher education\",\"Secondary / secondary special\",\"Higher education\",\"Higher education\",\"Secondary / secondary special\",\"Higher education\",\"Higher education\",\"Secondary / secondary special\",\"Secondary / secondary special\",\"Higher education\",\"Higher education\",\"Secondary / secondary special\",\"Secondary / secondary special\",\"Secondary / secondary special\",\"Secondary / secondary special\",\"Secondary / secondary special\",\"Secondary / secondary special\",\"Secondary / secondary special\",\"Secondary / secondary special\",\"Secondary / secondary special\",\"Secondary / secondary special\",\"Higher education\",\"Higher education\",\"Higher education\",\"Secondary / secondary special\",\"Secondary / secondary special\",\"Secondary / secondary special\",\"Secondary / secondary special\",\"Secondary / secondary special\",\"Secondary / secondary special\",\"Secondary / secondary special\",\"Secondary / secondary special\",\"Higher education\",\"Secondary / secondary special\",\"Secondary / secondary special\",\"Higher education\",\"Secondary / secondary special\",\"Secondary / secondary special\",\"Secondary / secondary special\",\"Higher education\",\"Higher education\",\"Secondary / secondary special\",\"Secondary / secondary special\",\"Secondary / secondary special\",\"Higher education\",\"Secondary / secondary special\",\"Secondary / secondary special\",\"Secondary / secondary special\",\"Secondary / secondary special\",\"Secondary / secondary special\",\"Secondary / secondary special\",\"Secondary / secondary special\",\"Secondary / secondary special\",\"Secondary / secondary special\",\"Higher education\",\"Higher education\",\"Secondary / secondary special\",\"Secondary / secondary special\",\"Secondary / secondary special\",\"Secondary / secondary special\",\"Secondary / secondary special\",\"Secondary / secondary special\",\"Secondary / secondary special\",\"Secondary / secondary special\",\"Secondary / secondary special\",\"Secondary / secondary special\",\"Secondary / secondary special\",\"Secondary / secondary special\",\"Higher education\",\"Secondary / secondary special\",\"Higher education\",\"Higher education\",\"Academic degree\",\"Secondary / secondary special\",\"Secondary / secondary special\",\"Secondary / secondary special\",\"Secondary / secondary special\",\"Secondary / secondary special\",\"Secondary / secondary special\",\"Secondary / secondary special\",\"Secondary / secondary special\",\"Higher education\",\"Secondary / secondary special\",\"Higher education\",\"Secondary / secondary special\",\"Secondary / secondary special\",\"Higher education\",\"Secondary / secondary special\",\"Secondary / secondary special\",\"Secondary / secondary special\",\"Secondary / secondary special\",\"Secondary / secondary special\",\"Secondary / secondary special\",\"Incomplete higher\",\"Secondary / secondary special\",\"Secondary / secondary special\",\"Secondary / secondary special\",\"Secondary / secondary special\",\"Higher education\",\"Secondary / secondary special\",\"Higher education\",\"Secondary / secondary special\",\"Secondary / secondary special\",\"Higher education\",\"Secondary / secondary special\",\"Secondary / secondary special\",\"Secondary / secondary special\",\"Secondary / secondary special\",\"Secondary / secondary special\",\"Higher education\",\"Higher education\",\"Secondary / secondary special\",\"Secondary / secondary special\",\"Secondary / secondary special\",\"Secondary / secondary special\",\"Secondary / secondary special\",\"Secondary / secondary special\",\"Secondary / secondary special\",\"Higher education\",\"Secondary / secondary special\",\"Secondary / secondary special\",\"Secondary / secondary special\",\"Secondary / secondary special\",\"Secondary / secondary special\",\"Secondary / secondary special\",\"Secondary / secondary special\",\"Secondary / secondary special\",\"Secondary / secondary special\",\"Secondary / secondary special\",\"Higher education\",\"Secondary / secondary special\",\"Higher education\",\"Secondary / secondary special\",\"Incomplete higher\",\"Secondary / secondary special\",\"Secondary / secondary special\",\"Secondary / secondary special\",\"Secondary / secondary special\",\"Secondary / secondary special\",\"Secondary / secondary special\",\"Secondary / secondary special\",\"Secondary / secondary special\",\"Secondary / secondary special\",\"Secondary / secondary special\",\"Secondary / secondary special\",\"Higher education\",\"Secondary / secondary special\",\"Higher education\",\"Secondary / secondary special\",\"Incomplete higher\",\"Higher education\",\"Secondary / secondary special\",\"Secondary / secondary special\",\"Secondary / secondary special\",\"Higher education\",\"Secondary / secondary special\",\"Secondary / secondary special\",\"Secondary / secondary special\",\"Higher education\",\"Higher education\",\"Higher education\",\"Secondary / secondary special\",\"Secondary / secondary special\",\"Secondary / secondary special\",\"Higher education\",\"Higher education\",\"Secondary / secondary special\",\"Secondary / secondary special\",\"Higher education\",\"Higher education\",\"Secondary / secondary special\",\"Secondary / secondary special\",\"Secondary / secondary special\",\"Secondary / secondary special\",\"Secondary / secondary special\",\"Secondary / secondary special\",\"Secondary / secondary special\",\"Secondary / secondary special\",\"Higher education\",\"Secondary / secondary special\",\"Secondary / secondary special\",\"Secondary / secondary special\",\"Secondary / secondary special\",\"Secondary / secondary special\",\"Secondary / secondary special\",\"Higher education\",\"Higher education\",\"Secondary / secondary special\",\"Secondary / secondary special\",\"Secondary / secondary special\",\"Higher education\",\"Secondary / secondary special\",\"Incomplete higher\",\"Higher education\",\"Higher education\",\"Higher education\",\"Secondary / secondary special\",\"Secondary / secondary special\",\"Secondary / secondary special\",\"Secondary / secondary special\",\"Secondary / secondary special\",\"Secondary / secondary special\",\"Secondary / secondary special\",\"Secondary / secondary special\",\"Secondary / secondary special\",\"Secondary / secondary special\",\"Secondary / secondary special\",\"Secondary / secondary special\",\"Secondary / secondary special\",\"Secondary / secondary special\",\"Secondary / secondary special\",\"Secondary / secondary special\",\"Higher education\",\"Secondary / secondary special\",\"Higher education\",\"Higher education\",\"Higher education\",\"Higher education\",\"Secondary / secondary special\",\"Secondary / secondary special\",\"Secondary / secondary special\",\"Secondary / secondary special\",\"Secondary / secondary special\",\"Secondary / secondary special\",\"Incomplete higher\",\"Secondary / secondary special\",\"Secondary / secondary special\",\"Secondary / secondary special\",\"Higher education\",\"Secondary / secondary special\",\"Lower secondary\",\"Higher education\",\"Secondary / secondary special\",\"Incomplete higher\",\"Secondary / secondary special\",\"Secondary / secondary special\",\"Secondary / secondary special\",\"Secondary / secondary special\",\"Higher education\",\"Secondary / secondary special\",\"Secondary / secondary special\",\"Secondary / secondary special\",\"Lower secondary\",\"Secondary / secondary special\",\"Higher education\",\"Secondary / secondary special\",\"Secondary / secondary special\",\"Secondary / secondary special\",\"Secondary / secondary special\",\"Secondary / secondary special\",\"Secondary / secondary special\",\"Secondary / secondary special\",\"Secondary / secondary special\",\"Secondary / secondary special\",\"Secondary / secondary special\",\"Secondary / secondary special\",\"Secondary / secondary special\",\"Secondary / secondary special\",\"Secondary / secondary special\",\"Higher education\",\"Secondary / secondary special\",\"Secondary / secondary special\",\"Secondary / secondary special\",\"Secondary / secondary special\",\"Secondary / secondary special\",\"Higher education\",\"Secondary / secondary special\",\"Secondary / secondary special\",\"Incomplete higher\",\"Higher education\",\"Lower secondary\",\"Secondary / secondary special\",\"Secondary / secondary special\",\"Secondary / secondary special\",\"Higher education\",\"Secondary / secondary special\",\"Lower secondary\",\"Secondary / secondary special\",\"Secondary / secondary special\",\"Higher education\",\"Secondary / secondary special\",\"Higher education\",\"Secondary / secondary special\",\"Secondary / secondary special\",\"Secondary / secondary special\",\"Incomplete higher\",\"Secondary / secondary special\",\"Secondary / secondary special\",\"Incomplete higher\",\"Higher education\",\"Secondary / secondary special\",\"Secondary / secondary special\",\"Secondary / secondary special\",\"Higher education\",\"Secondary / secondary special\",\"Secondary / secondary special\",\"Secondary / secondary special\",\"Secondary / secondary special\",\"Secondary / secondary special\",\"Higher education\",\"Secondary / secondary special\",\"Secondary / secondary special\",\"Higher education\",\"Secondary / secondary special\",\"Secondary / secondary special\",\"Secondary / secondary special\",\"Secondary / secondary special\",\"Secondary / secondary special\",\"Secondary / secondary special\",\"Secondary / secondary special\",\"Secondary / secondary special\",\"Secondary / secondary special\",\"Secondary / secondary special\",\"Secondary / secondary special\",\"Secondary / secondary special\",\"Secondary / secondary special\",\"Secondary / secondary special\",\"Secondary / secondary special\",\"Incomplete higher\",\"Secondary / secondary special\",\"Higher education\",\"Higher education\",\"Higher education\",\"Secondary / secondary special\",\"Secondary / secondary special\",\"Secondary / secondary special\",\"Secondary / secondary special\",\"Higher education\",\"Secondary / secondary special\",\"Higher education\",\"Higher education\",\"Higher education\",\"Secondary / secondary special\",\"Higher education\",\"Secondary / secondary special\",\"Secondary / secondary special\",\"Secondary / secondary special\",\"Secondary / secondary special\",\"Higher education\",\"Secondary / secondary special\",\"Secondary / secondary special\",\"Higher education\",\"Higher education\",\"Secondary / secondary special\",\"Secondary / secondary special\",\"Secondary / secondary special\",\"Secondary / secondary special\",\"Secondary / secondary special\",\"Higher education\",\"Higher education\",\"Secondary / secondary special\",\"Lower secondary\",\"Secondary / secondary special\",\"Higher education\",\"Secondary / secondary special\",\"Higher education\",\"Secondary / secondary special\",\"Secondary / secondary special\",\"Higher education\",\"Secondary / secondary special\",\"Secondary / secondary special\",\"Secondary / secondary special\",\"Secondary / secondary special\",\"Secondary / secondary special\",\"Higher education\",\"Higher education\",\"Secondary / secondary special\",\"Incomplete higher\",\"Lower secondary\",\"Higher education\",\"Higher education\",\"Secondary / secondary special\",\"Secondary / secondary special\",\"Higher education\",\"Higher education\",\"Secondary / secondary special\",\"Higher education\",\"Secondary / secondary special\",\"Secondary / secondary special\",\"Incomplete higher\",\"Higher education\",\"Secondary / secondary special\",\"Secondary / secondary special\",\"Higher education\",\"Secondary / secondary special\",\"Higher education\",\"Higher education\",\"Secondary / secondary special\",\"Secondary / secondary special\",\"Secondary / secondary special\",\"Secondary / secondary special\",\"Secondary / secondary special\",\"Secondary / secondary special\",\"Secondary / secondary special\",\"Secondary / secondary special\",\"Secondary / secondary special\",\"Higher education\",\"Secondary / secondary special\",\"Secondary / secondary special\",\"Secondary / secondary special\",\"Secondary / secondary special\",\"Higher education\",\"Secondary / secondary special\",\"Secondary / secondary special\",\"Secondary / secondary special\",\"Higher education\",\"Secondary / secondary special\",\"Secondary / secondary special\",\"Lower secondary\",\"Higher education\",\"Secondary / secondary special\",\"Secondary / secondary special\",\"Secondary / secondary special\",\"Secondary / secondary special\",\"Secondary / secondary special\",\"Higher education\",\"Higher education\",\"Secondary / secondary special\",\"Secondary / secondary special\",\"Secondary / secondary special\",\"Secondary / secondary special\",\"Higher education\",\"Higher education\",\"Higher education\",\"Higher education\",\"Secondary / secondary special\",\"Secondary / secondary special\",\"Secondary / secondary special\",\"Secondary / secondary special\",\"Secondary / secondary special\",\"Secondary / secondary special\",\"Secondary / secondary special\",\"Higher education\",\"Secondary / secondary special\",\"Higher education\",\"Secondary / secondary special\",\"Incomplete higher\",\"Higher education\",\"Secondary / secondary special\",\"Secondary / secondary special\",\"Secondary / secondary special\",\"Secondary / secondary special\",\"Secondary / secondary special\",\"Higher education\",\"Secondary / secondary special\",\"Secondary / secondary special\",\"Secondary / secondary special\",\"Secondary / secondary special\",\"Secondary / secondary special\",\"Higher education\",\"Secondary / secondary special\",\"Secondary / secondary special\",\"Secondary / secondary special\",\"Secondary / secondary special\",\"Secondary / secondary special\",\"Secondary / secondary special\",\"Secondary / secondary special\",\"Secondary / secondary special\",\"Secondary / secondary special\",\"Secondary / secondary special\",\"Secondary / secondary special\",\"Secondary / secondary special\",\"Secondary / secondary special\",\"Higher education\",\"Higher education\",\"Higher education\",\"Secondary / secondary special\",\"Secondary / secondary special\",\"Secondary / secondary special\",\"Higher education\",\"Secondary / secondary special\",\"Secondary / secondary special\",\"Secondary / secondary special\",\"Secondary / secondary special\",\"Higher education\",\"Secondary / secondary special\",\"Secondary / secondary special\",\"Secondary / secondary special\",\"Secondary / secondary special\",\"Secondary / secondary special\",\"Secondary / secondary special\",\"Secondary / secondary special\",\"Higher education\",\"Higher education\",\"Higher education\",\"Secondary / secondary special\",\"Secondary / secondary special\",\"Higher education\",\"Secondary / secondary special\",\"Secondary / secondary special\",\"Secondary / secondary special\",\"Secondary / secondary special\",\"Incomplete higher\",\"Incomplete higher\",\"Secondary / secondary special\",\"Secondary / secondary special\",\"Secondary / secondary special\",\"Incomplete higher\",\"Secondary / secondary special\",\"Secondary / secondary special\",\"Secondary / secondary special\",\"Higher education\",\"Secondary / secondary special\",\"Secondary / secondary special\",\"Secondary / secondary special\",\"Secondary / secondary special\",\"Secondary / secondary special\",\"Secondary / secondary special\",\"Secondary / secondary special\",\"Secondary / secondary special\",\"Higher education\",\"Secondary / secondary special\",\"Secondary / secondary special\",\"Secondary / secondary special\",\"Secondary / secondary special\",\"Secondary / secondary special\",\"Secondary / secondary special\",\"Secondary / secondary special\",\"Higher education\",\"Secondary / secondary special\",\"Secondary / secondary special\",\"Secondary / secondary special\",\"Secondary / secondary special\",\"Secondary / secondary special\",\"Higher education\",\"Secondary / secondary special\",\"Secondary / secondary special\",\"Secondary / secondary special\",\"Secondary / secondary special\",\"Secondary / secondary special\",\"Secondary / secondary special\",\"Secondary / secondary special\",\"Higher education\",\"Secondary / secondary special\",\"Secondary / secondary special\",\"Secondary / secondary special\",\"Secondary / secondary special\",\"Secondary / secondary special\",\"Secondary / secondary special\",\"Higher education\",\"Secondary / secondary special\",\"Higher education\",\"Secondary / secondary special\",\"Secondary / secondary special\",\"Higher education\",\"Higher education\",\"Secondary / secondary special\",\"Higher education\",\"Secondary / secondary special\",\"Higher education\",\"Secondary / secondary special\",\"Secondary / secondary special\",\"Secondary / secondary special\",\"Secondary / secondary special\",\"Secondary / secondary special\",\"Secondary / secondary special\",\"Higher education\",\"Higher education\",\"Secondary / secondary special\",\"Secondary / secondary special\",\"Higher education\",\"Secondary / secondary special\",\"Secondary / secondary special\",\"Secondary / secondary special\",\"Secondary / secondary special\",\"Secondary / secondary special\",\"Higher education\",\"Secondary / secondary special\",\"Secondary / secondary special\",\"Higher education\",\"Secondary / secondary special\",\"Secondary / secondary special\",\"Secondary / secondary special\",\"Secondary / secondary special\",\"Secondary / secondary special\",\"Secondary / secondary special\",\"Secondary / secondary special\",\"Secondary / secondary special\",\"Secondary / secondary special\",\"Secondary / secondary special\",\"Secondary / secondary special\",\"Incomplete higher\",\"Higher education\",\"Secondary / secondary special\",\"Higher education\",\"Secondary / secondary special\",\"Secondary / secondary special\",\"Secondary / secondary special\",\"Secondary / secondary special\",\"Secondary / secondary special\",\"Secondary / secondary special\",\"Higher education\",\"Secondary / secondary special\",\"Secondary / secondary special\",\"Higher education\",\"Secondary / secondary special\",\"Secondary / secondary special\",\"Secondary / secondary special\",\"Secondary / secondary special\",\"Secondary / secondary special\",\"Secondary / secondary special\",\"Secondary / secondary special\",\"Secondary / secondary special\",\"Secondary / secondary special\",\"Secondary / secondary special\",\"Incomplete higher\",\"Secondary / secondary special\",\"Secondary / secondary special\",\"Higher education\",\"Secondary / secondary special\",\"Secondary / secondary special\",\"Higher education\",\"Secondary / secondary special\",\"Secondary / secondary special\",\"Incomplete higher\",\"Higher education\",\"Higher education\",\"Secondary / secondary special\",\"Higher education\",\"Secondary / secondary special\",\"Secondary / secondary special\",\"Secondary / secondary special\",\"Incomplete higher\",\"Secondary / secondary special\",\"Higher education\",\"Higher education\",\"Secondary / secondary special\",\"Secondary / secondary special\",\"Secondary / secondary special\",\"Secondary / secondary special\",\"Secondary / secondary special\",\"Secondary / secondary special\",\"Secondary / secondary special\",\"Secondary / secondary special\",\"Lower secondary\",\"Secondary / secondary special\",\"Higher education\",\"Secondary / secondary special\",\"Secondary / secondary special\",\"Secondary / secondary special\",\"Higher education\",\"Higher education\",\"Higher education\",\"Higher education\",\"Secondary / secondary special\",\"Lower secondary\",\"Secondary / secondary special\",\"Secondary / secondary special\",\"Higher education\",\"Higher education\",\"Secondary / secondary special\",\"Higher education\",\"Secondary / secondary special\",\"Secondary / secondary special\",\"Secondary / secondary special\",\"Secondary / secondary special\",\"Secondary / secondary special\",\"Secondary / secondary special\",\"Secondary / secondary special\",\"Secondary / secondary special\",\"Higher education\",\"Higher education\",\"Secondary / secondary special\",\"Secondary / secondary special\",\"Secondary / secondary special\",\"Lower secondary\",\"Higher education\",\"Secondary / secondary special\",\"Secondary / secondary special\",\"Higher education\",\"Secondary / secondary special\",\"Secondary / secondary special\",\"Secondary / secondary special\",\"Secondary / secondary special\",\"Secondary / secondary special\",\"Higher education\",\"Secondary / secondary special\",\"Secondary / secondary special\",\"Secondary / secondary special\",\"Higher education\",\"Secondary / secondary special\",\"Secondary / secondary special\",\"Secondary / secondary special\",\"Secondary / secondary special\",\"Academic degree\",\"Secondary / secondary special\",\"Incomplete higher\",\"Secondary / secondary special\",\"Secondary / secondary special\",\"Higher education\",\"Incomplete higher\",\"Secondary / secondary special\",\"Higher education\",\"Secondary / secondary special\",\"Secondary / secondary special\",\"Secondary / secondary special\",\"Secondary / secondary special\",\"Secondary / secondary special\",\"Higher education\",\"Secondary / secondary special\",\"Secondary / secondary special\",\"Secondary / secondary special\",\"Secondary / secondary special\",\"Secondary / secondary special\",\"Higher education\",\"Secondary / secondary special\",\"Secondary / secondary special\",\"Secondary / secondary special\",\"Secondary / secondary special\",\"Secondary / secondary special\",\"Secondary / secondary special\",\"Incomplete higher\",\"Secondary / secondary special\",\"Secondary / secondary special\",\"Secondary / secondary special\",\"Secondary / secondary special\",\"Secondary / secondary special\",\"Secondary / secondary special\",\"Secondary / secondary special\",\"Secondary / secondary special\",\"Secondary / secondary special\",\"Secondary / secondary special\",\"Higher education\",\"Secondary / secondary special\",\"Secondary / secondary special\",\"Higher education\",\"Higher education\",\"Higher education\",\"Higher education\",\"Secondary / secondary special\",\"Secondary / secondary special\",\"Secondary / secondary special\",\"Secondary / secondary special\",\"Secondary / secondary special\",\"Incomplete higher\",\"Secondary / secondary special\",\"Secondary / secondary special\",\"Secondary / secondary special\",\"Secondary / secondary special\",\"Higher education\",\"Secondary / secondary special\",\"Higher education\",\"Secondary / secondary special\",\"Secondary / secondary special\",\"Secondary / secondary special\",\"Secondary / secondary special\",\"Higher education\",\"Secondary / secondary special\",\"Secondary / secondary special\",\"Secondary / secondary special\",\"Higher education\",\"Secondary / secondary special\",\"Secondary / secondary special\",\"Secondary / secondary special\",\"Secondary / secondary special\",\"Secondary / secondary special\",\"Secondary / secondary special\",\"Secondary / secondary special\",\"Higher education\",\"Secondary / secondary special\",\"Secondary / secondary special\",\"Secondary / secondary special\",\"Secondary / secondary special\",\"Higher education\",\"Secondary / secondary special\",\"Secondary / secondary special\",\"Secondary / secondary special\",\"Higher education\",\"Secondary / secondary special\",\"Secondary / secondary special\",\"Secondary / secondary special\",\"Higher education\",\"Secondary / secondary special\",\"Secondary / secondary special\",\"Secondary / secondary special\",\"Secondary / secondary special\",\"Secondary / secondary special\",\"Secondary / secondary special\",\"Secondary / secondary special\",\"Secondary / secondary special\",\"Secondary / secondary special\",\"Secondary / secondary special\",\"Secondary / secondary special\",\"Secondary / secondary special\",\"Secondary / secondary special\",\"Higher education\",\"Secondary / secondary special\",\"Secondary / secondary special\",\"Higher education\",\"Higher education\",\"Secondary / secondary special\",\"Secondary / secondary special\",\"Secondary / secondary special\",\"Secondary / secondary special\",\"Incomplete higher\",\"Secondary / secondary special\",\"Higher education\",\"Secondary / secondary special\",\"Secondary / secondary special\",\"Secondary / secondary special\",\"Higher education\",\"Secondary / secondary special\",\"Higher education\",\"Higher education\",\"Secondary / secondary special\",\"Secondary / secondary special\",\"Secondary / secondary special\",\"Secondary / secondary special\",\"Higher education\",\"Secondary / secondary special\",\"Secondary / secondary special\",\"Higher education\",\"Secondary / secondary special\",\"Higher education\",\"Secondary / secondary special\",\"Secondary / secondary special\",\"Secondary / secondary special\",\"Secondary / secondary special\",\"Secondary / secondary special\",\"Higher education\",\"Higher education\",\"Secondary / secondary special\",\"Secondary / secondary special\",\"Secondary / secondary special\",\"Secondary / secondary special\",\"Secondary / secondary special\",\"Secondary / secondary special\",\"Secondary / secondary special\",\"Secondary / secondary special\",\"Secondary / secondary special\",\"Higher education\",\"Secondary / secondary special\",\"Secondary / secondary special\",\"Secondary / secondary special\",\"Higher education\",\"Higher education\",\"Secondary / secondary special\",\"Secondary / secondary special\",\"Secondary / secondary special\",\"Higher education\",\"Secondary / secondary special\",\"Secondary / secondary special\",\"Secondary / secondary special\",\"Secondary / secondary special\",\"Secondary / secondary special\",\"Secondary / secondary special\",\"Secondary / secondary special\",\"Higher education\",\"Secondary / secondary special\",\"Higher education\",\"Secondary / secondary special\",\"Lower secondary\",\"Higher education\",\"Higher education\",\"Secondary / secondary special\",\"Secondary / secondary special\",\"Secondary / secondary special\",\"Secondary / secondary special\",\"Secondary / secondary special\",\"Higher education\",\"Secondary / secondary special\",\"Higher education\",\"Higher education\",\"Higher education\",\"Higher education\",\"Secondary / secondary special\",\"Secondary / secondary special\",\"Secondary / secondary special\",\"Secondary / secondary special\",\"Secondary / secondary special\",\"Secondary / secondary special\",\"Higher education\",\"Lower secondary\",\"Secondary / secondary special\",\"Secondary / secondary special\",\"Higher education\",\"Higher education\",\"Higher education\",\"Secondary / secondary special\",\"Secondary / secondary special\",\"Lower secondary\",\"Secondary / secondary special\",\"Secondary / secondary special\",\"Secondary / secondary special\",\"Higher education\",\"Higher education\",\"Higher education\",\"Secondary / secondary special\",\"Secondary / secondary special\",\"Secondary / secondary special\",\"Secondary / secondary special\",\"Secondary / secondary special\",\"Higher education\",\"Secondary / secondary special\",\"Secondary / secondary special\",\"Higher education\",\"Secondary / secondary special\",\"Secondary / secondary special\",\"Secondary / secondary special\",\"Higher education\",\"Higher education\",\"Higher education\",\"Higher education\",\"Higher education\",\"Lower secondary\",\"Secondary / secondary special\",\"Secondary / secondary special\",\"Higher education\",\"Secondary / secondary special\",\"Secondary / secondary special\",\"Incomplete higher\",\"Secondary / secondary special\",\"Secondary / secondary special\",\"Secondary / secondary special\",\"Secondary / secondary special\",\"Secondary / secondary special\",\"Higher education\",\"Secondary / secondary special\",\"Secondary / secondary special\",\"Secondary / secondary special\",\"Secondary / secondary special\",\"Secondary / secondary special\",\"Secondary / secondary special\",\"Secondary / secondary special\",\"Secondary / secondary special\",\"Secondary / secondary special\",\"Secondary / secondary special\",\"Secondary / secondary special\",\"Secondary / secondary special\",\"Secondary / secondary special\",\"Secondary / secondary special\",\"Secondary / secondary special\",\"Higher education\",\"Secondary / secondary special\",\"Secondary / secondary special\",\"Secondary / secondary special\",\"Secondary / secondary special\",\"Secondary / secondary special\",\"Secondary / secondary special\",\"Secondary / secondary special\",\"Secondary / secondary special\",\"Secondary / secondary special\",\"Secondary / secondary special\",\"Secondary / secondary special\",\"Incomplete higher\",\"Secondary / secondary special\",\"Secondary / secondary special\",\"Incomplete higher\",\"Secondary / secondary special\",\"Higher education\",\"Secondary / secondary special\",\"Secondary / secondary special\",\"Secondary / secondary special\",\"Secondary / secondary special\",\"Secondary / secondary special\",\"Secondary / secondary special\",\"Higher education\",\"Secondary / secondary special\",\"Secondary / secondary special\",\"Secondary / secondary special\",\"Higher education\",\"Secondary / secondary special\",\"Secondary / secondary special\",\"Secondary / secondary special\",\"Secondary / secondary special\",\"Secondary / secondary special\",\"Secondary / secondary special\",\"Higher education\",\"Secondary / secondary special\",\"Secondary / secondary special\",\"Secondary / secondary special\",\"Secondary / secondary special\",\"Secondary / secondary special\",\"Secondary / secondary special\",\"Higher education\",\"Secondary / secondary special\",\"Higher education\",\"Higher education\",\"Secondary / secondary special\",\"Secondary / secondary special\",\"Higher education\",\"Secondary / secondary special\",\"Secondary / secondary special\",\"Higher education\",\"Higher education\",\"Secondary / secondary special\",\"Secondary / secondary special\",\"Incomplete higher\",\"Higher education\",\"Secondary / secondary special\",\"Lower secondary\",\"Higher education\",\"Higher education\",\"Secondary / secondary special\",\"Higher education\",\"Secondary / secondary special\",\"Secondary / secondary special\",\"Secondary / secondary special\",\"Higher education\",\"Secondary / secondary special\",\"Secondary / secondary special\",\"Secondary / secondary special\",\"Higher education\",\"Lower secondary\",\"Higher education\",\"Secondary / secondary special\",\"Secondary / secondary special\",\"Higher education\",\"Higher education\",\"Secondary / secondary special\",\"Secondary / secondary special\",\"Secondary / secondary special\",\"Higher education\",\"Secondary / secondary special\",\"Higher education\",\"Secondary / secondary special\",\"Secondary / secondary special\",\"Higher education\",\"Higher education\",\"Secondary / secondary special\",\"Secondary / secondary special\",\"Higher education\",\"Higher education\",\"Secondary / secondary special\",\"Secondary / secondary special\",\"Higher education\",\"Secondary / secondary special\",\"Secondary / secondary special\",\"Secondary / secondary special\",\"Higher education\",\"Higher education\",\"Secondary / secondary special\",\"Secondary / secondary special\",\"Secondary / secondary special\",\"Secondary / secondary special\",\"Higher education\",\"Higher education\",\"Incomplete higher\",\"Secondary / secondary special\",\"Secondary / secondary special\",\"Secondary / secondary special\",\"Secondary / secondary special\",\"Lower secondary\",\"Secondary / secondary special\",\"Higher education\",\"Secondary / secondary special\",\"Secondary / secondary special\",\"Secondary / secondary special\",\"Secondary / secondary special\",\"Higher education\",\"Higher education\",\"Secondary / secondary special\",\"Secondary / secondary special\",\"Secondary / secondary special\",\"Secondary / secondary special\",\"Higher education\",\"Secondary / secondary special\",\"Secondary / secondary special\",\"Higher education\",\"Secondary / secondary special\",\"Secondary / secondary special\",\"Secondary / secondary special\",\"Higher education\",\"Higher education\",\"Secondary / secondary special\",\"Higher education\",\"Secondary / secondary special\",\"Secondary / secondary special\",\"Secondary / secondary special\",\"Secondary / secondary special\",\"Higher education\",\"Incomplete higher\",\"Higher education\",\"Higher education\",\"Secondary / secondary special\",\"Secondary / secondary special\",\"Secondary / secondary special\",\"Secondary / secondary special\",\"Secondary / secondary special\",\"Secondary / secondary special\",\"Secondary / secondary special\",\"Secondary / secondary special\",\"Secondary / secondary special\",\"Higher education\",\"Higher education\",\"Secondary / secondary special\",\"Secondary / secondary special\",\"Secondary / secondary special\",\"Higher education\",\"Secondary / secondary special\",\"Higher education\",\"Secondary / secondary special\",\"Secondary / secondary special\",\"Higher education\",\"Secondary / secondary special\",\"Higher education\",\"Secondary / secondary special\",\"Higher education\",\"Secondary / secondary special\",\"Higher education\",\"Secondary / secondary special\",\"Secondary / secondary special\",\"Higher education\",\"Secondary / secondary special\",\"Secondary / secondary special\",\"Higher education\",\"Secondary / secondary special\",\"Secondary / secondary special\",\"Secondary / secondary special\",\"Higher education\",\"Secondary / secondary special\",\"Secondary / secondary special\",\"Secondary / secondary special\",\"Secondary / secondary special\",\"Higher education\",\"Secondary / secondary special\",\"Secondary / secondary special\",\"Secondary / secondary special\",\"Secondary / secondary special\",\"Higher education\",\"Secondary / secondary special\",\"Secondary / secondary special\",\"Secondary / secondary special\",\"Secondary / secondary special\",\"Secondary / secondary special\",\"Secondary / secondary special\",\"Secondary / secondary special\",\"Secondary / secondary special\",\"Secondary / secondary special\",\"Higher education\",\"Secondary / secondary special\",\"Secondary / secondary special\",\"Secondary / secondary special\",\"Incomplete higher\",\"Higher education\",\"Higher education\",\"Secondary / secondary special\",\"Secondary / secondary special\",\"Incomplete higher\",\"Secondary / secondary special\",\"Secondary / secondary special\",\"Secondary / secondary special\",\"Secondary / secondary special\",\"Secondary / secondary special\",\"Incomplete higher\",\"Higher education\",\"Secondary / secondary special\",\"Secondary / secondary special\",\"Secondary / secondary special\",\"Secondary / secondary special\",\"Secondary / secondary special\",\"Secondary / secondary special\",\"Lower secondary\",\"Secondary / secondary special\",\"Secondary / secondary special\",\"Secondary / secondary special\",\"Secondary / secondary special\",\"Secondary / secondary special\",\"Secondary / secondary special\",\"Secondary / secondary special\",\"Higher education\",\"Secondary / secondary special\",\"Higher education\",\"Secondary / secondary special\",\"Higher education\",\"Lower secondary\",\"Secondary / secondary special\",\"Secondary / secondary special\",\"Secondary / secondary special\",\"Secondary / secondary special\",\"Incomplete higher\",\"Higher education\",\"Secondary / secondary special\",\"Secondary / secondary special\",\"Secondary / secondary special\",\"Secondary / secondary special\",\"Secondary / secondary special\",\"Secondary / secondary special\",\"Secondary / secondary special\",\"Secondary / secondary special\",\"Secondary / secondary special\",\"Higher education\",\"Secondary / secondary special\",\"Secondary / secondary special\",\"Secondary / secondary special\",\"Secondary / secondary special\",\"Higher education\",\"Secondary / secondary special\",\"Secondary / secondary special\",\"Secondary / secondary special\",\"Higher education\",\"Incomplete higher\",\"Secondary / secondary special\",\"Secondary / secondary special\",\"Higher education\",\"Higher education\",\"Higher education\",\"Secondary / secondary special\",\"Secondary / secondary special\",\"Secondary / secondary special\",\"Secondary / secondary special\",\"Higher education\",\"Secondary / secondary special\",\"Secondary / secondary special\",\"Secondary / secondary special\",\"Secondary / secondary special\",\"Secondary / secondary special\",\"Secondary / secondary special\",\"Secondary / secondary special\",\"Secondary / secondary special\",\"Secondary / secondary special\",\"Higher education\",\"Secondary / secondary special\",\"Secondary / secondary special\",\"Higher education\",\"Incomplete higher\",\"Secondary / secondary special\",\"Higher education\",\"Secondary / secondary special\",\"Higher education\",\"Secondary / secondary special\",\"Higher education\",\"Secondary / secondary special\",\"Higher education\",\"Secondary / secondary special\",\"Higher education\",\"Higher education\",\"Secondary / secondary special\",\"Secondary / secondary special\",\"Higher education\",\"Secondary / secondary special\",\"Higher education\",\"Higher education\",\"Higher education\",\"Higher education\",\"Secondary / secondary special\",\"Secondary / secondary special\",\"Secondary / secondary special\",\"Higher education\",\"Secondary / secondary special\",\"Higher education\",\"Higher education\",\"Secondary / secondary special\",\"Higher education\",\"Higher education\",\"Secondary / secondary special\",\"Higher education\",\"Secondary / secondary special\",\"Secondary / secondary special\",\"Higher education\",\"Secondary / secondary special\",\"Secondary / secondary special\",\"Higher education\",\"Secondary / secondary special\",\"Secondary / secondary special\",\"Secondary / secondary special\",\"Secondary / secondary special\",\"Secondary / secondary special\",\"Secondary / secondary special\",\"Secondary / secondary special\",\"Secondary / secondary special\",\"Higher education\",\"Secondary / secondary special\",\"Secondary / secondary special\",\"Secondary / secondary special\",\"Higher education\",\"Secondary / secondary special\",\"Secondary / secondary special\",\"Secondary / secondary special\",\"Secondary / secondary special\",\"Secondary / secondary special\",\"Secondary / secondary special\",\"Higher education\",\"Secondary / secondary special\",\"Incomplete higher\",\"Secondary / secondary special\",\"Secondary / secondary special\",\"Secondary / secondary special\",\"Secondary / secondary special\",\"Secondary / secondary special\",\"Secondary / secondary special\",\"Secondary / secondary special\",\"Secondary / secondary special\",\"Secondary / secondary special\",\"Secondary / secondary special\",\"Higher education\",\"Secondary / secondary special\",\"Secondary / secondary special\",\"Secondary / secondary special\",\"Secondary / secondary special\",\"Secondary / secondary special\",\"Secondary / secondary special\",\"Higher education\",\"Higher education\",\"Secondary / secondary special\",\"Incomplete higher\",\"Secondary / secondary special\",\"Higher education\",\"Secondary / secondary special\",\"Incomplete higher\",\"Academic degree\",\"Secondary / secondary special\",\"Secondary / secondary special\",\"Secondary / secondary special\",\"Incomplete higher\",\"Higher education\",\"Secondary / secondary special\",\"Secondary / secondary special\",\"Secondary / secondary special\",\"Higher education\",\"Secondary / secondary special\",\"Secondary / secondary special\",\"Incomplete higher\",\"Secondary / secondary special\",\"Secondary / secondary special\",\"Secondary / secondary special\",\"Higher education\",\"Secondary / secondary special\",\"Secondary / secondary special\",\"Secondary / secondary special\",\"Secondary / secondary special\",\"Secondary / secondary special\",\"Secondary / secondary special\",\"Secondary / secondary special\",\"Higher education\",\"Higher education\",\"Higher education\",\"Secondary / secondary special\",\"Secondary / secondary special\",\"Secondary / secondary special\",\"Secondary / secondary special\",\"Secondary / secondary special\",\"Secondary / secondary special\",\"Secondary / secondary special\",\"Incomplete higher\",\"Secondary / secondary special\",\"Higher education\",\"Secondary / secondary special\",\"Secondary / secondary special\",\"Higher education\",\"Secondary / secondary special\",\"Secondary / secondary special\",\"Incomplete higher\",\"Secondary / secondary special\",\"Secondary / secondary special\",\"Secondary / secondary special\",\"Secondary / secondary special\",\"Higher education\",\"Secondary / secondary special\",\"Secondary / secondary special\",\"Higher education\",\"Secondary / secondary special\",\"Secondary / secondary special\",\"Secondary / secondary special\",\"Secondary / secondary special\",\"Secondary / secondary special\",\"Secondary / secondary special\",\"Secondary / secondary special\",\"Secondary / secondary special\",\"Secondary / secondary special\",\"Secondary / secondary special\",\"Secondary / secondary special\",\"Secondary / secondary special\",\"Incomplete higher\",\"Secondary / secondary special\",\"Higher education\",\"Secondary / secondary special\",\"Secondary / secondary special\",\"Secondary / secondary special\",\"Secondary / secondary special\",\"Secondary / secondary special\",\"Higher education\",\"Higher education\",\"Higher education\",\"Higher education\",\"Secondary / secondary special\",\"Secondary / secondary special\",\"Secondary / secondary special\",\"Secondary / secondary special\",\"Secondary / secondary special\",\"Higher education\",\"Secondary / secondary special\",\"Higher education\",\"Higher education\",\"Secondary / secondary special\",\"Higher education\",\"Secondary / secondary special\",\"Secondary / secondary special\",\"Secondary / secondary special\",\"Secondary / secondary special\",\"Secondary / secondary special\",\"Secondary / secondary special\",\"Secondary / secondary special\",\"Higher education\",\"Secondary / secondary special\",\"Secondary / secondary special\",\"Secondary / secondary special\",\"Higher education\",\"Higher education\",\"Secondary / secondary special\",\"Secondary / secondary special\",\"Incomplete higher\",\"Secondary / secondary special\",\"Secondary / secondary special\",\"Secondary / secondary special\",\"Higher education\",\"Secondary / secondary special\",\"Higher education\",\"Secondary / secondary special\",\"Secondary / secondary special\",\"Higher education\",\"Secondary / secondary special\",\"Secondary / secondary special\",\"Secondary / secondary special\",\"Secondary / secondary special\",\"Incomplete higher\",\"Secondary / secondary special\",\"Secondary / secondary special\",\"Secondary / secondary special\",\"Secondary / secondary special\",\"Secondary / secondary special\",\"Higher education\",\"Secondary / secondary special\",\"Secondary / secondary special\",\"Secondary / secondary special\",\"Secondary / secondary special\",\"Higher education\",\"Secondary / secondary special\",\"Secondary / secondary special\",\"Higher education\",\"Secondary / secondary special\",\"Secondary / secondary special\",\"Secondary / secondary special\",\"Secondary / secondary special\",\"Secondary / secondary special\",\"Secondary / secondary special\",\"Secondary / secondary special\",\"Higher education\",\"Secondary / secondary special\",\"Higher education\",\"Higher education\",\"Higher education\",\"Secondary / secondary special\",\"Secondary / secondary special\",\"Higher education\",\"Secondary / secondary special\",\"Higher education\",\"Higher education\",\"Secondary / secondary special\",\"Secondary / secondary special\",\"Secondary / secondary special\",\"Secondary / secondary special\",\"Secondary / secondary special\",\"Secondary / secondary special\",\"Secondary / secondary special\",\"Higher education\",\"Secondary / secondary special\",\"Incomplete higher\",\"Secondary / secondary special\",\"Higher education\",\"Secondary / secondary special\",\"Higher education\",\"Secondary / secondary special\",\"Secondary / secondary special\",\"Secondary / secondary special\",\"Secondary / secondary special\",\"Secondary / secondary special\",\"Secondary / secondary special\",\"Secondary / secondary special\",\"Higher education\",\"Secondary / secondary special\",\"Secondary / secondary special\",\"Secondary / secondary special\",\"Higher education\",\"Secondary / secondary special\",\"Secondary / secondary special\",\"Secondary / secondary special\",\"Secondary / secondary special\",\"Secondary / secondary special\",\"Secondary / secondary special\",\"Secondary / secondary special\",\"Secondary / secondary special\",\"Secondary / secondary special\",\"Secondary / secondary special\",\"Secondary / secondary special\",\"Secondary / secondary special\",\"Secondary / secondary special\",\"Secondary / secondary special\",\"Higher education\",\"Secondary / secondary special\",\"Secondary / secondary special\",\"Secondary / secondary special\",\"Secondary / secondary special\",\"Secondary / secondary special\",\"Secondary / secondary special\",\"Secondary / secondary special\",\"Secondary / secondary special\",\"Higher education\",\"Secondary / secondary special\",\"Secondary / secondary special\",\"Higher education\",\"Secondary / secondary special\",\"Secondary / secondary special\",\"Higher education\",\"Secondary / secondary special\",\"Secondary / secondary special\",\"Higher education\",\"Secondary / secondary special\",\"Higher education\",\"Secondary / secondary special\",\"Secondary / secondary special\",\"Incomplete higher\",\"Secondary / secondary special\",\"Secondary / secondary special\",\"Secondary / secondary special\",\"Secondary / secondary special\",\"Secondary / secondary special\",\"Higher education\",\"Higher education\",\"Secondary / secondary special\",\"Secondary / secondary special\",\"Secondary / secondary special\",\"Higher education\",\"Secondary / secondary special\",\"Secondary / secondary special\",\"Secondary / secondary special\",\"Secondary / secondary special\",\"Secondary / secondary special\",\"Secondary / secondary special\",\"Incomplete higher\",\"Secondary / secondary special\",\"Secondary / secondary special\",\"Higher education\",\"Higher education\",\"Higher education\",\"Lower secondary\",\"Secondary / secondary special\",\"Secondary / secondary special\",\"Secondary / secondary special\",\"Secondary / secondary special\",\"Secondary / secondary special\",\"Secondary / secondary special\",\"Secondary / secondary special\",\"Incomplete higher\",\"Incomplete higher\",\"Secondary / secondary special\",\"Secondary / secondary special\",\"Higher education\",\"Higher education\",\"Secondary / secondary special\",\"Secondary / secondary special\",\"Incomplete higher\",\"Secondary / secondary special\",\"Secondary / secondary special\",\"Secondary / secondary special\",\"Secondary / secondary special\",\"Secondary / secondary special\",\"Secondary / secondary special\",\"Incomplete higher\",\"Secondary / secondary special\",\"Secondary / secondary special\",\"Secondary / secondary special\",\"Secondary / secondary special\",\"Secondary / secondary special\",\"Lower secondary\",\"Secondary / secondary special\",\"Secondary / secondary special\",\"Higher education\",\"Secondary / secondary special\",\"Secondary / secondary special\",\"Secondary / secondary special\",\"Secondary / secondary special\",\"Secondary / secondary special\",\"Secondary / secondary special\",\"Secondary / secondary special\",\"Secondary / secondary special\",\"Secondary / secondary special\",\"Secondary / secondary special\",\"Higher education\",\"Secondary / secondary special\",\"Higher education\",\"Secondary / secondary special\",\"Secondary / secondary special\",\"Secondary / secondary special\",\"Higher education\",\"Higher education\",\"Secondary / secondary special\",\"Secondary / secondary special\",\"Secondary / secondary special\",\"Higher education\",\"Secondary / secondary special\",\"Higher education\",\"Secondary / secondary special\",\"Higher education\",\"Higher education\",\"Secondary / secondary special\",\"Secondary / secondary special\",\"Higher education\",\"Higher education\",\"Secondary / secondary special\",\"Higher education\",\"Secondary / secondary special\",\"Secondary / secondary special\",\"Higher education\",\"Secondary / secondary special\",\"Higher education\",\"Secondary / secondary special\",\"Secondary / secondary special\",\"Secondary / secondary special\",\"Secondary / secondary special\",\"Higher education\",\"Lower secondary\",\"Secondary / secondary special\",\"Secondary / secondary special\",\"Secondary / secondary special\",\"Secondary / secondary special\",\"Secondary / secondary special\",\"Secondary / secondary special\",\"Secondary / secondary special\",\"Secondary / secondary special\",\"Higher education\",\"Secondary / secondary special\",\"Secondary / secondary special\",\"Higher education\",\"Secondary / secondary special\",\"Secondary / secondary special\",\"Higher education\",\"Secondary / secondary special\",\"Higher education\",\"Secondary / secondary special\",\"Secondary / secondary special\",\"Incomplete higher\",\"Secondary / secondary special\",\"Secondary / secondary special\",\"Secondary / secondary special\",\"Secondary / secondary special\",\"Secondary / secondary special\",\"Higher education\",\"Secondary / secondary special\",\"Incomplete higher\",\"Secondary / secondary special\",\"Secondary / secondary special\",\"Secondary / secondary special\",\"Higher education\",\"Secondary / secondary special\",\"Secondary / secondary special\",\"Secondary / secondary special\",\"Higher education\",\"Secondary / secondary special\",\"Secondary / secondary special\",\"Higher education\",\"Secondary / secondary special\",\"Secondary / secondary special\",\"Secondary / secondary special\",\"Secondary / secondary special\",\"Higher education\",\"Secondary / secondary special\",\"Secondary / secondary special\",\"Secondary / secondary special\",\"Secondary / secondary special\",\"Higher education\",\"Secondary / secondary special\",\"Higher education\",\"Higher education\",\"Higher education\",\"Secondary / secondary special\",\"Secondary / secondary special\",\"Secondary / secondary special\",\"Higher education\",\"Secondary / secondary special\",\"Secondary / secondary special\",\"Secondary / secondary special\",\"Secondary / secondary special\",\"Higher education\",\"Secondary / secondary special\",\"Higher education\",\"Secondary / secondary special\",\"Secondary / secondary special\",\"Higher education\",\"Secondary / secondary special\",\"Secondary / secondary special\",\"Secondary / secondary special\",\"Secondary / secondary special\",\"Higher education\",\"Secondary / secondary special\",\"Secondary / secondary special\",\"Secondary / secondary special\",\"Higher education\",\"Secondary / secondary special\",\"Secondary / secondary special\",\"Secondary / secondary special\",\"Secondary / secondary special\",\"Secondary / secondary special\",\"Secondary / secondary special\",\"Higher education\",\"Secondary / secondary special\",\"Higher education\",\"Secondary / secondary special\",\"Secondary / secondary special\",\"Higher education\",\"Secondary / secondary special\",\"Secondary / secondary special\",\"Lower secondary\",\"Secondary / secondary special\",\"Secondary / secondary special\",\"Secondary / secondary special\",\"Higher education\",\"Secondary / secondary special\",\"Higher education\",\"Secondary / secondary special\",\"Secondary / secondary special\",\"Secondary / secondary special\",\"Secondary / secondary special\",\"Secondary / secondary special\",\"Higher education\",\"Higher education\",\"Secondary / secondary special\",\"Higher education\",\"Higher education\",\"Secondary / secondary special\",\"Secondary / secondary special\",\"Secondary / secondary special\",\"Higher education\",\"Higher education\",\"Secondary / secondary special\",\"Secondary / secondary special\",\"Higher education\",\"Secondary / secondary special\",\"Secondary / secondary special\",\"Incomplete higher\",\"Incomplete higher\",\"Incomplete higher\",\"Secondary / secondary special\",\"Secondary / secondary special\",\"Secondary / secondary special\",\"Secondary / secondary special\",\"Higher education\",\"Secondary / secondary special\",\"Secondary / secondary special\",\"Higher education\",\"Secondary / secondary special\",\"Secondary / secondary special\",\"Lower secondary\",\"Secondary / secondary special\",\"Secondary / secondary special\",\"Secondary / secondary special\",\"Secondary / secondary special\",\"Secondary / secondary special\",\"Secondary / secondary special\",\"Secondary / secondary special\",\"Higher education\",\"Secondary / secondary special\",\"Secondary / secondary special\",\"Secondary / secondary special\",\"Higher education\",\"Higher education\",\"Higher education\",\"Secondary / secondary special\",\"Secondary / secondary special\",\"Higher education\",\"Secondary / secondary special\",\"Secondary / secondary special\",\"Secondary / secondary special\",\"Secondary / secondary special\",\"Secondary / secondary special\",\"Higher education\",\"Secondary / secondary special\",\"Secondary / secondary special\",\"Secondary / secondary special\",\"Secondary / secondary special\",\"Secondary / secondary special\",\"Higher education\",\"Secondary / secondary special\",\"Secondary / secondary special\",\"Secondary / secondary special\",\"Higher education\",\"Secondary / secondary special\",\"Higher education\",\"Secondary / secondary special\",\"Secondary / secondary special\",\"Higher education\",\"Higher education\",\"Secondary / secondary special\",\"Higher education\",\"Secondary / secondary special\",\"Secondary / secondary special\",\"Higher education\",\"Secondary / secondary special\",\"Secondary / secondary special\",\"Secondary / secondary special\",\"Secondary / secondary special\",\"Secondary / secondary special\",\"Secondary / secondary special\",\"Higher education\",\"Secondary / secondary special\",\"Secondary / secondary special\",\"Secondary / secondary special\",\"Higher education\",\"Higher education\",\"Secondary / secondary special\",\"Secondary / secondary special\",\"Secondary / secondary special\",\"Higher education\",\"Secondary / secondary special\",\"Secondary / secondary special\",\"Secondary / secondary special\",\"Academic degree\",\"Higher education\",\"Secondary / secondary special\",\"Secondary / secondary special\",\"Secondary / secondary special\",\"Secondary / secondary special\",\"Higher education\",\"Secondary / secondary special\",\"Secondary / secondary special\",\"Secondary / secondary special\",\"Secondary / secondary special\",\"Secondary / secondary special\",\"Lower secondary\",\"Secondary / secondary special\",\"Higher education\",\"Secondary / secondary special\",\"Higher education\",\"Secondary / secondary special\",\"Secondary / secondary special\",\"Secondary / secondary special\",\"Secondary / secondary special\",\"Secondary / secondary special\",\"Secondary / secondary special\",\"Secondary / secondary special\",\"Secondary / secondary special\",\"Secondary / secondary special\",\"Secondary / secondary special\",\"Higher education\",\"Secondary / secondary special\",\"Higher education\",\"Higher education\",\"Secondary / secondary special\",\"Secondary / secondary special\",\"Secondary / secondary special\",\"Secondary / secondary special\",\"Secondary / secondary special\",\"Higher education\",\"Higher education\",\"Secondary / secondary special\",\"Higher education\",\"Higher education\",\"Higher education\",\"Secondary / secondary special\",\"Secondary / secondary special\",\"Secondary / secondary special\",\"Secondary / secondary special\",\"Academic degree\",\"Secondary / secondary special\",\"Secondary / secondary special\",\"Secondary / secondary special\",\"Higher education\",\"Secondary / secondary special\",\"Higher education\",\"Secondary / secondary special\",\"Secondary / secondary special\",\"Higher education\",\"Higher education\",\"Secondary / secondary special\",\"Secondary / secondary special\",\"Secondary / secondary special\",\"Secondary / secondary special\",\"Secondary / secondary special\",\"Lower secondary\",\"Secondary / secondary special\",\"Secondary / secondary special\",\"Higher education\",\"Higher education\",\"Secondary / secondary special\",\"Secondary / secondary special\",\"Secondary / secondary special\",\"Secondary / secondary special\",\"Secondary / secondary special\",\"Incomplete higher\",\"Higher education\",\"Secondary / secondary special\",\"Higher education\",\"Higher education\",\"Secondary / secondary special\",\"Secondary / secondary special\",\"Higher education\",\"Secondary / secondary special\",\"Secondary / secondary special\",\"Higher education\",\"Secondary / secondary special\",\"Higher education\",\"Secondary / secondary special\",\"Secondary / secondary special\",\"Secondary / secondary special\",\"Secondary / secondary special\",\"Secondary / secondary special\",\"Secondary / secondary special\",\"Secondary / secondary special\",\"Secondary / secondary special\",\"Secondary / secondary special\",\"Secondary / secondary special\",\"Secondary / secondary special\",\"Higher education\",\"Secondary / secondary special\",\"Incomplete higher\",\"Secondary / secondary special\",\"Secondary / secondary special\",\"Secondary / secondary special\",\"Secondary / secondary special\",\"Secondary / secondary special\",\"Lower secondary\",\"Incomplete higher\",\"Secondary / secondary special\",\"Higher education\",\"Secondary / secondary special\",\"Secondary / secondary special\",\"Higher education\",\"Higher education\",\"Secondary / secondary special\",\"Secondary / secondary special\",\"Secondary / secondary special\",\"Incomplete higher\",\"Secondary / secondary special\",\"Secondary / secondary special\",\"Secondary / secondary special\",\"Secondary / secondary special\",\"Secondary / secondary special\",\"Higher education\",\"Secondary / secondary special\",\"Higher education\",\"Secondary / secondary special\",\"Secondary / secondary special\",\"Higher education\",\"Secondary / secondary special\",\"Higher education\",\"Secondary / secondary special\",\"Secondary / secondary special\",\"Higher education\",\"Secondary / secondary special\",\"Secondary / secondary special\",\"Secondary / secondary special\",\"Secondary / secondary special\",\"Higher education\",\"Incomplete higher\",\"Secondary / secondary special\",\"Secondary / secondary special\",\"Secondary / secondary special\",\"Secondary / secondary special\",\"Higher education\",\"Secondary / secondary special\",\"Secondary / secondary special\",\"Secondary / secondary special\",\"Higher education\",\"Secondary / secondary special\",\"Higher education\",\"Secondary / secondary special\",\"Higher education\",\"Higher education\",\"Secondary / secondary special\",\"Lower secondary\",\"Secondary / secondary special\",\"Secondary / secondary special\",\"Secondary / secondary special\",\"Secondary / secondary special\",\"Secondary / secondary special\",\"Higher education\",\"Secondary / secondary special\",\"Secondary / secondary special\",\"Secondary / secondary special\",\"Higher education\",\"Secondary / secondary special\",\"Secondary / secondary special\",\"Secondary / secondary special\",\"Secondary / secondary special\",\"Secondary / secondary special\",\"Secondary / secondary special\",\"Higher education\",\"Higher education\",\"Higher education\",\"Higher education\",\"Secondary / secondary special\",\"Secondary / secondary special\",\"Higher education\",\"Secondary / secondary special\",\"Higher education\",\"Secondary / secondary special\",\"Secondary / secondary special\",\"Higher education\",\"Secondary / secondary special\",\"Secondary / secondary special\",\"Secondary / secondary special\",\"Secondary / secondary special\",\"Secondary / secondary special\",\"Secondary / secondary special\",\"Secondary / secondary special\",\"Secondary / secondary special\",\"Secondary / secondary special\",\"Secondary / secondary special\",\"Secondary / secondary special\",\"Secondary / secondary special\",\"Secondary / secondary special\",\"Secondary / secondary special\",\"Secondary / secondary special\",\"Secondary / secondary special\",\"Secondary / secondary special\",\"Secondary / secondary special\",\"Higher education\",\"Secondary / secondary special\",\"Secondary / secondary special\",\"Higher education\",\"Secondary / secondary special\",\"Secondary / secondary special\",\"Secondary / secondary special\",\"Secondary / secondary special\",\"Secondary / secondary special\",\"Secondary / secondary special\",\"Secondary / secondary special\",\"Secondary / secondary special\",\"Secondary / secondary special\",\"Higher education\",\"Secondary / secondary special\",\"Secondary / secondary special\",\"Higher education\",\"Secondary / secondary special\",\"Secondary / secondary special\",\"Secondary / secondary special\",\"Secondary / secondary special\",\"Higher education\",\"Secondary / secondary special\",\"Higher education\",\"Secondary / secondary special\",\"Higher education\",\"Secondary / secondary special\",\"Secondary / secondary special\",\"Secondary / secondary special\",\"Secondary / secondary special\",\"Higher education\",\"Secondary / secondary special\",\"Secondary / secondary special\",\"Higher education\",\"Secondary / secondary special\",\"Lower secondary\",\"Secondary / secondary special\",\"Incomplete higher\",\"Higher education\",\"Secondary / secondary special\",\"Secondary / secondary special\",\"Higher education\",\"Higher education\",\"Secondary / secondary special\",\"Higher education\",\"Secondary / secondary special\",\"Secondary / secondary special\",\"Secondary / secondary special\",\"Higher education\",\"Secondary / secondary special\",\"Secondary / secondary special\",\"Secondary / secondary special\",\"Secondary / secondary special\",\"Secondary / secondary special\",\"Secondary / secondary special\",\"Secondary / secondary special\",\"Secondary / secondary special\",\"Secondary / secondary special\",\"Secondary / secondary special\",\"Incomplete higher\",\"Higher education\",\"Secondary / secondary special\",\"Secondary / secondary special\",\"Higher education\",\"Secondary / secondary special\",\"Higher education\",\"Higher education\",\"Higher education\",\"Higher education\",\"Secondary / secondary special\",\"Secondary / secondary special\",\"Higher education\",\"Higher education\",\"Secondary / secondary special\",\"Higher education\",\"Secondary / secondary special\",\"Higher education\",\"Higher education\",\"Secondary / secondary special\",\"Secondary / secondary special\",\"Higher education\",\"Secondary / secondary special\",\"Secondary / secondary special\",\"Secondary / secondary special\",\"Higher education\",\"Secondary / secondary special\",\"Secondary / secondary special\",\"Secondary / secondary special\",\"Higher education\",\"Incomplete higher\",\"Higher education\",\"Higher education\",\"Secondary / secondary special\",\"Higher education\",\"Secondary / secondary special\",\"Secondary / secondary special\",\"Secondary / secondary special\",\"Secondary / secondary special\",\"Secondary / secondary special\",\"Secondary / secondary special\",\"Secondary / secondary special\",\"Secondary / secondary special\",\"Higher education\",\"Secondary / secondary special\",\"Higher education\",\"Higher education\",\"Incomplete higher\",\"Secondary / secondary special\",\"Higher education\",\"Higher education\",\"Secondary / secondary special\",\"Secondary / secondary special\",\"Higher education\",\"Secondary / secondary special\",\"Lower secondary\",\"Secondary / secondary special\",\"Higher education\",\"Incomplete higher\",\"Higher education\",\"Higher education\",\"Secondary / secondary special\",\"Secondary / secondary special\",\"Secondary / secondary special\",\"Higher education\",\"Secondary / secondary special\",\"Secondary / secondary special\",\"Secondary / secondary special\",\"Higher education\",\"Secondary / secondary special\",\"Secondary / secondary special\",\"Higher education\",\"Higher education\",\"Secondary / secondary special\",\"Higher education\",\"Secondary / secondary special\",\"Incomplete higher\",\"Secondary / secondary special\",\"Higher education\",\"Secondary / secondary special\",\"Secondary / secondary special\",\"Higher education\",\"Secondary / secondary special\",\"Higher education\",\"Secondary / secondary special\",\"Higher education\",\"Secondary / secondary special\",\"Higher education\",\"Secondary / secondary special\",\"Secondary / secondary special\",\"Higher education\",\"Secondary / secondary special\",\"Secondary / secondary special\",\"Secondary / secondary special\",\"Secondary / secondary special\",\"Higher education\",\"Higher education\",\"Secondary / secondary special\",\"Secondary / secondary special\",\"Secondary / secondary special\",\"Secondary / secondary special\",\"Secondary / secondary special\",\"Secondary / secondary special\",\"Secondary / secondary special\",\"Higher education\",\"Secondary / secondary special\",\"Secondary / secondary special\",\"Secondary / secondary special\",\"Secondary / secondary special\",\"Secondary / secondary special\",\"Incomplete higher\",\"Secondary / secondary special\",\"Higher education\",\"Secondary / secondary special\",\"Secondary / secondary special\",\"Secondary / secondary special\",\"Secondary / secondary special\",\"Secondary / secondary special\",\"Secondary / secondary special\",\"Secondary / secondary special\",\"Higher education\",\"Secondary / secondary special\",\"Higher education\",\"Secondary / secondary special\",\"Secondary / secondary special\",\"Secondary / secondary special\",\"Higher education\",\"Secondary / secondary special\",\"Secondary / secondary special\",\"Secondary / secondary special\",\"Higher education\",\"Higher education\",\"Incomplete higher\",\"Secondary / secondary special\",\"Secondary / secondary special\",\"Higher education\",\"Secondary / secondary special\",\"Secondary / secondary special\",\"Secondary / secondary special\",\"Higher education\",\"Secondary / secondary special\",\"Secondary / secondary special\",\"Secondary / secondary special\",\"Secondary / secondary special\",\"Higher education\",\"Secondary / secondary special\",\"Higher education\",\"Higher education\",\"Secondary / secondary special\",\"Higher education\",\"Secondary / secondary special\",\"Secondary / secondary special\",\"Secondary / secondary special\",\"Higher education\",\"Secondary / secondary special\",\"Secondary / secondary special\",\"Secondary / secondary special\",\"Secondary / secondary special\",\"Secondary / secondary special\",\"Higher education\",\"Secondary / secondary special\",\"Secondary / secondary special\",\"Incomplete higher\",\"Secondary / secondary special\",\"Secondary / secondary special\",\"Secondary / secondary special\",\"Secondary / secondary special\",\"Secondary / secondary special\",\"Higher education\",\"Secondary / secondary special\",\"Secondary / secondary special\",\"Higher education\",\"Lower secondary\",\"Secondary / secondary special\"],\"x0\":\" \",\"xaxis\":\"x\",\"y0\":\" \",\"yaxis\":\"y\",\"type\":\"box\"}],                        {\"template\":{\"data\":{\"histogram2dcontour\":[{\"type\":\"histogram2dcontour\",\"colorbar\":{\"outlinewidth\":0,\"ticks\":\"\"},\"colorscale\":[[0.0,\"#0d0887\"],[0.1111111111111111,\"#46039f\"],[0.2222222222222222,\"#7201a8\"],[0.3333333333333333,\"#9c179e\"],[0.4444444444444444,\"#bd3786\"],[0.5555555555555556,\"#d8576b\"],[0.6666666666666666,\"#ed7953\"],[0.7777777777777778,\"#fb9f3a\"],[0.8888888888888888,\"#fdca26\"],[1.0,\"#f0f921\"]]}],\"choropleth\":[{\"type\":\"choropleth\",\"colorbar\":{\"outlinewidth\":0,\"ticks\":\"\"}}],\"histogram2d\":[{\"type\":\"histogram2d\",\"colorbar\":{\"outlinewidth\":0,\"ticks\":\"\"},\"colorscale\":[[0.0,\"#0d0887\"],[0.1111111111111111,\"#46039f\"],[0.2222222222222222,\"#7201a8\"],[0.3333333333333333,\"#9c179e\"],[0.4444444444444444,\"#bd3786\"],[0.5555555555555556,\"#d8576b\"],[0.6666666666666666,\"#ed7953\"],[0.7777777777777778,\"#fb9f3a\"],[0.8888888888888888,\"#fdca26\"],[1.0,\"#f0f921\"]]}],\"heatmap\":[{\"type\":\"heatmap\",\"colorbar\":{\"outlinewidth\":0,\"ticks\":\"\"},\"colorscale\":[[0.0,\"#0d0887\"],[0.1111111111111111,\"#46039f\"],[0.2222222222222222,\"#7201a8\"],[0.3333333333333333,\"#9c179e\"],[0.4444444444444444,\"#bd3786\"],[0.5555555555555556,\"#d8576b\"],[0.6666666666666666,\"#ed7953\"],[0.7777777777777778,\"#fb9f3a\"],[0.8888888888888888,\"#fdca26\"],[1.0,\"#f0f921\"]]}],\"heatmapgl\":[{\"type\":\"heatmapgl\",\"colorbar\":{\"outlinewidth\":0,\"ticks\":\"\"},\"colorscale\":[[0.0,\"#0d0887\"],[0.1111111111111111,\"#46039f\"],[0.2222222222222222,\"#7201a8\"],[0.3333333333333333,\"#9c179e\"],[0.4444444444444444,\"#bd3786\"],[0.5555555555555556,\"#d8576b\"],[0.6666666666666666,\"#ed7953\"],[0.7777777777777778,\"#fb9f3a\"],[0.8888888888888888,\"#fdca26\"],[1.0,\"#f0f921\"]]}],\"contourcarpet\":[{\"type\":\"contourcarpet\",\"colorbar\":{\"outlinewidth\":0,\"ticks\":\"\"}}],\"contour\":[{\"type\":\"contour\",\"colorbar\":{\"outlinewidth\":0,\"ticks\":\"\"},\"colorscale\":[[0.0,\"#0d0887\"],[0.1111111111111111,\"#46039f\"],[0.2222222222222222,\"#7201a8\"],[0.3333333333333333,\"#9c179e\"],[0.4444444444444444,\"#bd3786\"],[0.5555555555555556,\"#d8576b\"],[0.6666666666666666,\"#ed7953\"],[0.7777777777777778,\"#fb9f3a\"],[0.8888888888888888,\"#fdca26\"],[1.0,\"#f0f921\"]]}],\"surface\":[{\"type\":\"surface\",\"colorbar\":{\"outlinewidth\":0,\"ticks\":\"\"},\"colorscale\":[[0.0,\"#0d0887\"],[0.1111111111111111,\"#46039f\"],[0.2222222222222222,\"#7201a8\"],[0.3333333333333333,\"#9c179e\"],[0.4444444444444444,\"#bd3786\"],[0.5555555555555556,\"#d8576b\"],[0.6666666666666666,\"#ed7953\"],[0.7777777777777778,\"#fb9f3a\"],[0.8888888888888888,\"#fdca26\"],[1.0,\"#f0f921\"]]}],\"mesh3d\":[{\"type\":\"mesh3d\",\"colorbar\":{\"outlinewidth\":0,\"ticks\":\"\"}}],\"scatter\":[{\"fillpattern\":{\"fillmode\":\"overlay\",\"size\":10,\"solidity\":0.2},\"type\":\"scatter\"}],\"parcoords\":[{\"type\":\"parcoords\",\"line\":{\"colorbar\":{\"outlinewidth\":0,\"ticks\":\"\"}}}],\"scatterpolargl\":[{\"type\":\"scatterpolargl\",\"marker\":{\"colorbar\":{\"outlinewidth\":0,\"ticks\":\"\"}}}],\"bar\":[{\"error_x\":{\"color\":\"#2a3f5f\"},\"error_y\":{\"color\":\"#2a3f5f\"},\"marker\":{\"line\":{\"color\":\"#E5ECF6\",\"width\":0.5},\"pattern\":{\"fillmode\":\"overlay\",\"size\":10,\"solidity\":0.2}},\"type\":\"bar\"}],\"scattergeo\":[{\"type\":\"scattergeo\",\"marker\":{\"colorbar\":{\"outlinewidth\":0,\"ticks\":\"\"}}}],\"scatterpolar\":[{\"type\":\"scatterpolar\",\"marker\":{\"colorbar\":{\"outlinewidth\":0,\"ticks\":\"\"}}}],\"histogram\":[{\"marker\":{\"pattern\":{\"fillmode\":\"overlay\",\"size\":10,\"solidity\":0.2}},\"type\":\"histogram\"}],\"scattergl\":[{\"type\":\"scattergl\",\"marker\":{\"colorbar\":{\"outlinewidth\":0,\"ticks\":\"\"}}}],\"scatter3d\":[{\"type\":\"scatter3d\",\"line\":{\"colorbar\":{\"outlinewidth\":0,\"ticks\":\"\"}},\"marker\":{\"colorbar\":{\"outlinewidth\":0,\"ticks\":\"\"}}}],\"scattermapbox\":[{\"type\":\"scattermapbox\",\"marker\":{\"colorbar\":{\"outlinewidth\":0,\"ticks\":\"\"}}}],\"scatterternary\":[{\"type\":\"scatterternary\",\"marker\":{\"colorbar\":{\"outlinewidth\":0,\"ticks\":\"\"}}}],\"scattercarpet\":[{\"type\":\"scattercarpet\",\"marker\":{\"colorbar\":{\"outlinewidth\":0,\"ticks\":\"\"}}}],\"carpet\":[{\"aaxis\":{\"endlinecolor\":\"#2a3f5f\",\"gridcolor\":\"white\",\"linecolor\":\"white\",\"minorgridcolor\":\"white\",\"startlinecolor\":\"#2a3f5f\"},\"baxis\":{\"endlinecolor\":\"#2a3f5f\",\"gridcolor\":\"white\",\"linecolor\":\"white\",\"minorgridcolor\":\"white\",\"startlinecolor\":\"#2a3f5f\"},\"type\":\"carpet\"}],\"table\":[{\"cells\":{\"fill\":{\"color\":\"#EBF0F8\"},\"line\":{\"color\":\"white\"}},\"header\":{\"fill\":{\"color\":\"#C8D4E3\"},\"line\":{\"color\":\"white\"}},\"type\":\"table\"}],\"barpolar\":[{\"marker\":{\"line\":{\"color\":\"#E5ECF6\",\"width\":0.5},\"pattern\":{\"fillmode\":\"overlay\",\"size\":10,\"solidity\":0.2}},\"type\":\"barpolar\"}],\"pie\":[{\"automargin\":true,\"type\":\"pie\"}]},\"layout\":{\"autotypenumbers\":\"strict\",\"colorway\":[\"#636efa\",\"#EF553B\",\"#00cc96\",\"#ab63fa\",\"#FFA15A\",\"#19d3f3\",\"#FF6692\",\"#B6E880\",\"#FF97FF\",\"#FECB52\"],\"font\":{\"color\":\"#2a3f5f\"},\"hovermode\":\"closest\",\"hoverlabel\":{\"align\":\"left\"},\"paper_bgcolor\":\"white\",\"plot_bgcolor\":\"#E5ECF6\",\"polar\":{\"bgcolor\":\"#E5ECF6\",\"angularaxis\":{\"gridcolor\":\"white\",\"linecolor\":\"white\",\"ticks\":\"\"},\"radialaxis\":{\"gridcolor\":\"white\",\"linecolor\":\"white\",\"ticks\":\"\"}},\"ternary\":{\"bgcolor\":\"#E5ECF6\",\"aaxis\":{\"gridcolor\":\"white\",\"linecolor\":\"white\",\"ticks\":\"\"},\"baxis\":{\"gridcolor\":\"white\",\"linecolor\":\"white\",\"ticks\":\"\"},\"caxis\":{\"gridcolor\":\"white\",\"linecolor\":\"white\",\"ticks\":\"\"}},\"coloraxis\":{\"colorbar\":{\"outlinewidth\":0,\"ticks\":\"\"}},\"colorscale\":{\"sequential\":[[0.0,\"#0d0887\"],[0.1111111111111111,\"#46039f\"],[0.2222222222222222,\"#7201a8\"],[0.3333333333333333,\"#9c179e\"],[0.4444444444444444,\"#bd3786\"],[0.5555555555555556,\"#d8576b\"],[0.6666666666666666,\"#ed7953\"],[0.7777777777777778,\"#fb9f3a\"],[0.8888888888888888,\"#fdca26\"],[1.0,\"#f0f921\"]],\"sequentialminus\":[[0.0,\"#0d0887\"],[0.1111111111111111,\"#46039f\"],[0.2222222222222222,\"#7201a8\"],[0.3333333333333333,\"#9c179e\"],[0.4444444444444444,\"#bd3786\"],[0.5555555555555556,\"#d8576b\"],[0.6666666666666666,\"#ed7953\"],[0.7777777777777778,\"#fb9f3a\"],[0.8888888888888888,\"#fdca26\"],[1.0,\"#f0f921\"]],\"diverging\":[[0,\"#8e0152\"],[0.1,\"#c51b7d\"],[0.2,\"#de77ae\"],[0.3,\"#f1b6da\"],[0.4,\"#fde0ef\"],[0.5,\"#f7f7f7\"],[0.6,\"#e6f5d0\"],[0.7,\"#b8e186\"],[0.8,\"#7fbc41\"],[0.9,\"#4d9221\"],[1,\"#276419\"]]},\"xaxis\":{\"gridcolor\":\"white\",\"linecolor\":\"white\",\"ticks\":\"\",\"title\":{\"standoff\":15},\"zerolinecolor\":\"white\",\"automargin\":true,\"zerolinewidth\":2},\"yaxis\":{\"gridcolor\":\"white\",\"linecolor\":\"white\",\"ticks\":\"\",\"title\":{\"standoff\":15},\"zerolinecolor\":\"white\",\"automargin\":true,\"zerolinewidth\":2},\"scene\":{\"xaxis\":{\"backgroundcolor\":\"#E5ECF6\",\"gridcolor\":\"white\",\"linecolor\":\"white\",\"showbackground\":true,\"ticks\":\"\",\"zerolinecolor\":\"white\",\"gridwidth\":2},\"yaxis\":{\"backgroundcolor\":\"#E5ECF6\",\"gridcolor\":\"white\",\"linecolor\":\"white\",\"showbackground\":true,\"ticks\":\"\",\"zerolinecolor\":\"white\",\"gridwidth\":2},\"zaxis\":{\"backgroundcolor\":\"#E5ECF6\",\"gridcolor\":\"white\",\"linecolor\":\"white\",\"showbackground\":true,\"ticks\":\"\",\"zerolinecolor\":\"white\",\"gridwidth\":2}},\"shapedefaults\":{\"line\":{\"color\":\"#2a3f5f\"}},\"annotationdefaults\":{\"arrowcolor\":\"#2a3f5f\",\"arrowhead\":0,\"arrowwidth\":1},\"geo\":{\"bgcolor\":\"white\",\"landcolor\":\"#E5ECF6\",\"subunitcolor\":\"white\",\"showland\":true,\"showlakes\":true,\"lakecolor\":\"white\"},\"title\":{\"x\":0.05},\"mapbox\":{\"style\":\"light\"}}},\"xaxis\":{\"anchor\":\"y\",\"domain\":[0.0,1.0],\"title\":{\"text\":\"NAME_EDUCATION_TYPE\"}},\"yaxis\":{\"anchor\":\"x\",\"domain\":[0.0,1.0]},\"legend\":{\"title\":{\"text\":\"TARGET\"},\"tracegroupgap\":0},\"title\":{\"text\":\"TARGET Based on DAYS_BIRTH\"},\"boxmode\":\"group\"},                        {\"responsive\": true}                    ).then(function(){\n",
              "                            \n",
              "var gd = document.getElementById('e15a757d-f935-4b33-a671-c3a2cdb780f8');\n",
              "var x = new MutationObserver(function (mutations, observer) {{\n",
              "        var display = window.getComputedStyle(gd).display;\n",
              "        if (!display || display === 'none') {{\n",
              "            console.log([gd, 'removed!']);\n",
              "            Plotly.purge(gd);\n",
              "            observer.disconnect();\n",
              "        }}\n",
              "}});\n",
              "\n",
              "// Listen for the removal of the full notebook cells\n",
              "var notebookContainer = gd.closest('#notebook-container');\n",
              "if (notebookContainer) {{\n",
              "    x.observe(notebookContainer, {childList: true});\n",
              "}}\n",
              "\n",
              "// Listen for the clearing of the current output cell\n",
              "var outputEl = gd.closest('.output');\n",
              "if (outputEl) {{\n",
              "    x.observe(outputEl, {childList: true});\n",
              "}}\n",
              "\n",
              "                        })                };                            </script>        </div>\n",
              "</body>\n",
              "</html>"
            ]
          },
          "metadata": {}
        }
      ]
    },
    {
      "cell_type": "code",
      "source": [
        "df_exp[\"NAME_EDUCATION_TYPE\"].value_counts()"
      ],
      "metadata": {
        "colab": {
          "base_uri": "https://localhost:8080/"
        },
        "id": "YFacS6Wqczlv",
        "outputId": "482b1703-db69-4284-94e2-6ff00db28c6d"
      },
      "execution_count": 27,
      "outputs": [
        {
          "output_type": "execute_result",
          "data": {
            "text/plain": [
              "Secondary / secondary special    4123\n",
              "Higher education                 1400\n",
              "Incomplete higher                 188\n",
              "Lower secondary                    71\n",
              "Academic degree                     7\n",
              "Name: NAME_EDUCATION_TYPE, dtype: int64"
            ]
          },
          "metadata": {},
          "execution_count": 27
        }
      ]
    }
  ]
}